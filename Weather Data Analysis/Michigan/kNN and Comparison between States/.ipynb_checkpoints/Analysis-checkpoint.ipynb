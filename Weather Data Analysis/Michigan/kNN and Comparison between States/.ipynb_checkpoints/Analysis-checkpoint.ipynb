{
 "cells": [
  {
   "cell_type": "code",
   "execution_count": 140,
   "metadata": {
    "collapsed": true
   },
   "outputs": [],
   "source": [
    "import numpy as np\n",
    "import pandas as pd\n",
    "import seaborn as sns\n",
    "import matplotlib.pyplot as plt\n",
    "from sklearn.metrics import accuracy_score, f1_score, precision_score, recall_score, classification_report, confusion_matrix"
   ]
  },
  {
   "cell_type": "code",
   "execution_count": 141,
   "metadata": {},
   "outputs": [
    {
     "name": "stdout",
     "output_type": "stream",
     "text": [
      "   Average Wind Speed  PRCP  TMAX  TMIN  Fastest 2 minute wind speed  \\\n",
      "0                4.25  0.00  15.0 -11.0                         10.1   \n",
      "1                8.72  0.00  15.0  -2.0                         19.9   \n",
      "2                7.16  0.00  17.0   8.0                         16.1   \n",
      "3                3.13  0.02  11.0 -20.0                          8.1   \n",
      "4                4.92  0.00  11.0 -17.0                         17.0   \n",
      "\n",
      "   Fastest 5 second wind speed  Fog/Ice  Heavy/Freezing Fog  Thunder  \\\n",
      "0                         14.1      0.0                 0.0      0.0   \n",
      "1                         25.9      0.0                 0.0      0.0   \n",
      "2                         19.9      0.0                 0.0      0.0   \n",
      "3                         11.0      1.0                 0.0      0.0   \n",
      "4                         21.0      0.0                 0.0      0.0   \n",
      "\n",
      "   Smoke/Haze  Power Outage  \n",
      "0         0.0           0.0  \n",
      "1         0.0           0.0  \n",
      "2         0.0           0.0  \n",
      "3         0.0           0.0  \n",
      "4         0.0           0.0  \n"
     ]
    },
    {
     "data": {
      "image/png": "[encoded data removed]",
      "text/plain": [
       "<matplotlib.figure.Figure at 0x11a82b780>"
      ]
     },
     "metadata": {},
     "output_type": "display_data"
    }
   ],
   "source": [
    "df = pd.read_csv('Initial Data Michigan.csv');\n",
    "df = df.fillna(0);\n",
    "df = df.drop(['DATE'], axis = 1);\n",
    "print(df.head());\n",
    "sns.countplot(x=\"Power Outage\",data=df);\n",
    "plt.show();"
   ]
  },
  {
   "cell_type": "code",
   "execution_count": 142,
   "metadata": {
    "collapsed": true
   },
   "outputs": [],
   "source": [
    "#Add column for Delta T Max\n",
    "temp = pd.Series(df.iloc[:,2]);\n",
    "deltaTemp = pd.Series(df.iloc[:,2]);\n",
    "deltaTemp[0] = 0;\n",
    "for i in range (1, temp.shape[0]):\n",
    "    deltaTemp[i] = temp[i] - temp[i-1];\n",
    "df['Delta T Max'] = pd.Series(np.square(deltaTemp));"
   ]
  },
  {
   "cell_type": "code",
   "execution_count": 143,
   "metadata": {
    "collapsed": true
   },
   "outputs": [],
   "source": [
    "#Add column for Delta T min\n",
    "temp = pd.Series(df.iloc[:,3]);\n",
    "deltaTemp = pd.Series(df.iloc[:,3]);\n",
    "deltaTemp[0] = 0;\n",
    "for i in range (1, temp.shape[0]):\n",
    "    deltaTemp[i] = temp[i] - temp[i-1];\n",
    "df['Delta T Min'] = pd.Series(np.square(deltaTemp));"
   ]
  },
  {
   "cell_type": "code",
   "execution_count": 144,
   "metadata": {
    "collapsed": true
   },
   "outputs": [],
   "source": [
    "#Add columns for wind speed squared terms\n",
    "df['Avg Wind Speed Squared'] = pd.Series(np.square(df['Average Wind Speed']), index=df.index)\n",
    "df['5 second wind speed squared'] = pd.Series(np.square(df['Fastest 5 second wind speed']));\n",
    "df['2 min wind speed squared'] = pd.Series(np.square(df['Fastest 2 minute wind speed']));"
   ]
  },
  {
   "cell_type": "code",
   "execution_count": 145,
   "metadata": {
    "collapsed": true
   },
   "outputs": [],
   "source": [
    "df = df[['Power Outage', 'PRCP', 'Delta T Max', 'Delta T Min', 'Avg Wind Speed Squared','2 min wind speed squared','5 second wind speed squared','Fog/Ice', 'Heavy/Freezing Fog', 'Thunder', 'Smoke/Haze']];"
   ]
  },
  {
   "cell_type": "code",
   "execution_count": 146,
   "metadata": {
    "scrolled": true
   },
   "outputs": [
    {
     "data": {
      "text/html": [
       "<div>\n",
       "<style>\n",
       "    .dataframe thead tr:only-child th {\n",
       "        text-align: right;\n",
       "    }\n",
       "\n",
       "    .dataframe thead th {\n",
       "        text-align: left;\n",
       "    }\n",
       "\n",
       "    .dataframe tbody tr th {\n",
       "        vertical-align: top;\n",
       "    }\n",
       "</style>\n",
       "<table border=\"1\" class=\"dataframe\">\n",
       "  <thead>\n",
       "    <tr style=\"text-align: right;\">\n",
       "      <th></th>\n",
       "      <th>Power Outage</th>\n",
       "      <th>PRCP</th>\n",
       "      <th>Delta T Max</th>\n",
       "      <th>Delta T Min</th>\n",
       "      <th>Avg Wind Speed Squared</th>\n",
       "      <th>2 min wind speed squared</th>\n",
       "      <th>5 second wind speed squared</th>\n",
       "      <th>Fog/Ice</th>\n",
       "      <th>Heavy/Freezing Fog</th>\n",
       "      <th>Thunder</th>\n",
       "      <th>Smoke/Haze</th>\n",
       "    </tr>\n",
       "  </thead>\n",
       "  <tbody>\n",
       "    <tr>\n",
       "      <th>count</th>\n",
       "      <td>2910.000000</td>\n",
       "      <td>2910.000000</td>\n",
       "      <td>2910.000000</td>\n",
       "      <td>2910.000000</td>\n",
       "      <td>2910.000000</td>\n",
       "      <td>2910.000000</td>\n",
       "      <td>2910.000000</td>\n",
       "      <td>2910.000000</td>\n",
       "      <td>2910.000000</td>\n",
       "      <td>2910.000000</td>\n",
       "      <td>2910.000000</td>\n",
       "    </tr>\n",
       "    <tr>\n",
       "      <th>mean</th>\n",
       "      <td>0.054639</td>\n",
       "      <td>0.019899</td>\n",
       "      <td>0.448535</td>\n",
       "      <td>0.217197</td>\n",
       "      <td>0.133314</td>\n",
       "      <td>0.057726</td>\n",
       "      <td>0.031864</td>\n",
       "      <td>0.344674</td>\n",
       "      <td>0.100344</td>\n",
       "      <td>0.053265</td>\n",
       "      <td>0.150172</td>\n",
       "    </tr>\n",
       "    <tr>\n",
       "      <th>std</th>\n",
       "      <td>0.227314</td>\n",
       "      <td>0.056304</td>\n",
       "      <td>0.292105</td>\n",
       "      <td>0.219058</td>\n",
       "      <td>0.128751</td>\n",
       "      <td>0.059636</td>\n",
       "      <td>0.071300</td>\n",
       "      <td>0.475343</td>\n",
       "      <td>0.300509</td>\n",
       "      <td>0.224599</td>\n",
       "      <td>0.357301</td>\n",
       "    </tr>\n",
       "    <tr>\n",
       "      <th>min</th>\n",
       "      <td>0.000000</td>\n",
       "      <td>0.000000</td>\n",
       "      <td>0.000000</td>\n",
       "      <td>0.000000</td>\n",
       "      <td>0.000000</td>\n",
       "      <td>0.000000</td>\n",
       "      <td>0.000000</td>\n",
       "      <td>0.000000</td>\n",
       "      <td>0.000000</td>\n",
       "      <td>0.000000</td>\n",
       "      <td>0.000000</td>\n",
       "    </tr>\n",
       "    <tr>\n",
       "      <th>25%</th>\n",
       "      <td>0.000000</td>\n",
       "      <td>0.000000</td>\n",
       "      <td>0.165847</td>\n",
       "      <td>0.021786</td>\n",
       "      <td>0.045024</td>\n",
       "      <td>0.028859</td>\n",
       "      <td>0.010548</td>\n",
       "      <td>0.000000</td>\n",
       "      <td>0.000000</td>\n",
       "      <td>0.000000</td>\n",
       "      <td>0.000000</td>\n",
       "    </tr>\n",
       "    <tr>\n",
       "      <th>50%</th>\n",
       "      <td>0.000000</td>\n",
       "      <td>0.000000</td>\n",
       "      <td>0.496130</td>\n",
       "      <td>0.164758</td>\n",
       "      <td>0.097886</td>\n",
       "      <td>0.041951</td>\n",
       "      <td>0.016690</td>\n",
       "      <td>0.000000</td>\n",
       "      <td>0.000000</td>\n",
       "      <td>0.000000</td>\n",
       "      <td>0.000000</td>\n",
       "    </tr>\n",
       "    <tr>\n",
       "      <th>75%</th>\n",
       "      <td>0.000000</td>\n",
       "      <td>0.007500</td>\n",
       "      <td>0.684559</td>\n",
       "      <td>0.370706</td>\n",
       "      <td>0.180098</td>\n",
       "      <td>0.069620</td>\n",
       "      <td>0.028260</td>\n",
       "      <td>1.000000</td>\n",
       "      <td>0.000000</td>\n",
       "      <td>0.000000</td>\n",
       "      <td>0.000000</td>\n",
       "    </tr>\n",
       "    <tr>\n",
       "      <th>max</th>\n",
       "      <td>1.000000</td>\n",
       "      <td>1.000000</td>\n",
       "      <td>1.000000</td>\n",
       "      <td>1.000000</td>\n",
       "      <td>1.000000</td>\n",
       "      <td>1.000000</td>\n",
       "      <td>1.000000</td>\n",
       "      <td>1.000000</td>\n",
       "      <td>1.000000</td>\n",
       "      <td>1.000000</td>\n",
       "      <td>1.000000</td>\n",
       "    </tr>\n",
       "  </tbody>\n",
       "</table>\n",
       "</div>"
      ],
      "text/plain": [
       "       Power Outage         PRCP  Delta T Max  Delta T Min  \\\n",
       "count   2910.000000  2910.000000  2910.000000  2910.000000   \n",
       "mean       0.054639     0.019899     0.448535     0.217197   \n",
       "std        0.227314     0.056304     0.292105     0.219058   \n",
       "min        0.000000     0.000000     0.000000     0.000000   \n",
       "25%        0.000000     0.000000     0.165847     0.021786   \n",
       "50%        0.000000     0.000000     0.496130     0.164758   \n",
       "75%        0.000000     0.007500     0.684559     0.370706   \n",
       "max        1.000000     1.000000     1.000000     1.000000   \n",
       "\n",
       "       Avg Wind Speed Squared  2 min wind speed squared  \\\n",
       "count             2910.000000               2910.000000   \n",
       "mean                 0.133314                  0.057726   \n",
       "std                  0.128751                  0.059636   \n",
       "min                  0.000000                  0.000000   \n",
       "25%                  0.045024                  0.028859   \n",
       "50%                  0.097886                  0.041951   \n",
       "75%                  0.180098                  0.069620   \n",
       "max                  1.000000                  1.000000   \n",
       "\n",
       "       5 second wind speed squared      Fog/Ice  Heavy/Freezing Fog  \\\n",
       "count                  2910.000000  2910.000000         2910.000000   \n",
       "mean                      0.031864     0.344674            0.100344   \n",
       "std                       0.071300     0.475343            0.300509   \n",
       "min                       0.000000     0.000000            0.000000   \n",
       "25%                       0.010548     0.000000            0.000000   \n",
       "50%                       0.016690     0.000000            0.000000   \n",
       "75%                       0.028260     1.000000            0.000000   \n",
       "max                       1.000000     1.000000            1.000000   \n",
       "\n",
       "           Thunder   Smoke/Haze  \n",
       "count  2910.000000  2910.000000  \n",
       "mean      0.053265     0.150172  \n",
       "std       0.224599     0.357301  \n",
       "min       0.000000     0.000000  \n",
       "25%       0.000000     0.000000  \n",
       "50%       0.000000     0.000000  \n",
       "75%       0.000000     0.000000  \n",
       "max       1.000000     1.000000  "
      ]
     },
     "execution_count": 146,
     "metadata": {},
     "output_type": "execute_result"
    }
   ],
   "source": [
    "#Normalize all the data\n",
    "from sklearn import preprocessing\n",
    "\n",
    "scaledData = preprocessing.MinMaxScaler().fit_transform(df.values);\n",
    "df = pd.DataFrame(scaledData, index = df.index, columns = df.columns);\n",
    "df.describe()"
   ]
  },
  {
   "cell_type": "code",
   "execution_count": 147,
   "metadata": {},
   "outputs": [
    {
     "data": {
      "text/html": [
       "<div>\n",
       "<style>\n",
       "    .dataframe thead tr:only-child th {\n",
       "        text-align: right;\n",
       "    }\n",
       "\n",
       "    .dataframe thead th {\n",
       "        text-align: left;\n",
       "    }\n",
       "\n",
       "    .dataframe tbody tr th {\n",
       "        vertical-align: top;\n",
       "    }\n",
       "</style>\n",
       "<table border=\"1\" class=\"dataframe\">\n",
       "  <thead>\n",
       "    <tr style=\"text-align: right;\">\n",
       "      <th></th>\n",
       "      <th>PRCP</th>\n",
       "      <th>Delta T Max</th>\n",
       "      <th>Delta T Min</th>\n",
       "      <th>Avg Wind Speed Squared</th>\n",
       "      <th>2 min wind speed squared</th>\n",
       "      <th>5 second wind speed squared</th>\n",
       "      <th>Fog/Ice</th>\n",
       "      <th>Heavy/Freezing Fog</th>\n",
       "      <th>Thunder</th>\n",
       "      <th>Smoke/Haze</th>\n",
       "    </tr>\n",
       "  </thead>\n",
       "  <tbody>\n",
       "    <tr>\n",
       "      <th>count</th>\n",
       "      <td>1949.000000</td>\n",
       "      <td>1949.000000</td>\n",
       "      <td>1949.000000</td>\n",
       "      <td>1949.000000</td>\n",
       "      <td>1949.000000</td>\n",
       "      <td>1949.000000</td>\n",
       "      <td>1949.000000</td>\n",
       "      <td>1949.000000</td>\n",
       "      <td>1949.000000</td>\n",
       "      <td>1949.000000</td>\n",
       "    </tr>\n",
       "    <tr>\n",
       "      <th>mean</th>\n",
       "      <td>0.019682</td>\n",
       "      <td>0.447827</td>\n",
       "      <td>0.217223</td>\n",
       "      <td>0.132838</td>\n",
       "      <td>0.057614</td>\n",
       "      <td>0.032384</td>\n",
       "      <td>0.332991</td>\n",
       "      <td>0.100564</td>\n",
       "      <td>0.051308</td>\n",
       "      <td>0.149820</td>\n",
       "    </tr>\n",
       "    <tr>\n",
       "      <th>std</th>\n",
       "      <td>0.056690</td>\n",
       "      <td>0.293458</td>\n",
       "      <td>0.220844</td>\n",
       "      <td>0.124357</td>\n",
       "      <td>0.055852</td>\n",
       "      <td>0.076321</td>\n",
       "      <td>0.471404</td>\n",
       "      <td>0.300828</td>\n",
       "      <td>0.220683</td>\n",
       "      <td>0.356987</td>\n",
       "    </tr>\n",
       "    <tr>\n",
       "      <th>min</th>\n",
       "      <td>0.000000</td>\n",
       "      <td>0.000000</td>\n",
       "      <td>0.000000</td>\n",
       "      <td>0.000000</td>\n",
       "      <td>0.000000</td>\n",
       "      <td>0.000000</td>\n",
       "      <td>0.000000</td>\n",
       "      <td>0.000000</td>\n",
       "      <td>0.000000</td>\n",
       "      <td>0.000000</td>\n",
       "    </tr>\n",
       "    <tr>\n",
       "      <th>25%</th>\n",
       "      <td>0.000000</td>\n",
       "      <td>0.130401</td>\n",
       "      <td>0.020711</td>\n",
       "      <td>0.045024</td>\n",
       "      <td>0.028859</td>\n",
       "      <td>0.010548</td>\n",
       "      <td>0.000000</td>\n",
       "      <td>0.000000</td>\n",
       "      <td>0.000000</td>\n",
       "      <td>0.000000</td>\n",
       "    </tr>\n",
       "    <tr>\n",
       "      <th>50%</th>\n",
       "      <td>0.000000</td>\n",
       "      <td>0.496130</td>\n",
       "      <td>0.161776</td>\n",
       "      <td>0.097886</td>\n",
       "      <td>0.041951</td>\n",
       "      <td>0.016690</td>\n",
       "      <td>0.000000</td>\n",
       "      <td>0.000000</td>\n",
       "      <td>0.000000</td>\n",
       "      <td>0.000000</td>\n",
       "    </tr>\n",
       "    <tr>\n",
       "      <th>75%</th>\n",
       "      <td>0.007500</td>\n",
       "      <td>0.684559</td>\n",
       "      <td>0.370706</td>\n",
       "      <td>0.180098</td>\n",
       "      <td>0.069620</td>\n",
       "      <td>0.028260</td>\n",
       "      <td>1.000000</td>\n",
       "      <td>0.000000</td>\n",
       "      <td>0.000000</td>\n",
       "      <td>0.000000</td>\n",
       "    </tr>\n",
       "    <tr>\n",
       "      <th>max</th>\n",
       "      <td>1.000000</td>\n",
       "      <td>1.000000</td>\n",
       "      <td>1.000000</td>\n",
       "      <td>0.959781</td>\n",
       "      <td>0.905937</td>\n",
       "      <td>1.000000</td>\n",
       "      <td>1.000000</td>\n",
       "      <td>1.000000</td>\n",
       "      <td>1.000000</td>\n",
       "      <td>1.000000</td>\n",
       "    </tr>\n",
       "  </tbody>\n",
       "</table>\n",
       "</div>"
      ],
      "text/plain": [
       "              PRCP  Delta T Max  Delta T Min  Avg Wind Speed Squared  \\\n",
       "count  1949.000000  1949.000000  1949.000000             1949.000000   \n",
       "mean      0.019682     0.447827     0.217223                0.132838   \n",
       "std       0.056690     0.293458     0.220844                0.124357   \n",
       "min       0.000000     0.000000     0.000000                0.000000   \n",
       "25%       0.000000     0.130401     0.020711                0.045024   \n",
       "50%       0.000000     0.496130     0.161776                0.097886   \n",
       "75%       0.007500     0.684559     0.370706                0.180098   \n",
       "max       1.000000     1.000000     1.000000                0.959781   \n",
       "\n",
       "       2 min wind speed squared  5 second wind speed squared      Fog/Ice  \\\n",
       "count               1949.000000                  1949.000000  1949.000000   \n",
       "mean                   0.057614                     0.032384     0.332991   \n",
       "std                    0.055852                     0.076321     0.471404   \n",
       "min                    0.000000                     0.000000     0.000000   \n",
       "25%                    0.028859                     0.010548     0.000000   \n",
       "50%                    0.041951                     0.016690     0.000000   \n",
       "75%                    0.069620                     0.028260     1.000000   \n",
       "max                    0.905937                     1.000000     1.000000   \n",
       "\n",
       "       Heavy/Freezing Fog      Thunder   Smoke/Haze  \n",
       "count         1949.000000  1949.000000  1949.000000  \n",
       "mean             0.100564     0.051308     0.149820  \n",
       "std              0.300828     0.220683     0.356987  \n",
       "min              0.000000     0.000000     0.000000  \n",
       "25%              0.000000     0.000000     0.000000  \n",
       "50%              0.000000     0.000000     0.000000  \n",
       "75%              0.000000     0.000000     0.000000  \n",
       "max              1.000000     1.000000     1.000000  "
      ]
     },
     "execution_count": 147,
     "metadata": {},
     "output_type": "execute_result"
    }
   ],
   "source": [
    "#Split into training and testing data\n",
    "from sklearn.model_selection import train_test_split\n",
    "X_train, X_test, y_train, y_test = train_test_split(df.iloc[:,1:], df['Power Outage'], test_size = 0.33, random_state = 99);\n",
    "X_train.describe()"
   ]
  },
  {
   "cell_type": "code",
   "execution_count": 148,
   "metadata": {},
   "outputs": [
    {
     "name": "stdout",
     "output_type": "stream",
     "text": [
      "Before sampling ratio\n",
      "0.0    1836\n",
      "1.0     113\n",
      "Name: Power Outage, dtype: int64\n",
      "Final counts after undersampling the zeroes\n",
      "0.0    1130\n",
      "1.0     113\n",
      "Name: Power Outage, dtype: int64\n"
     ]
    },
    {
     "name": "stderr",
     "output_type": "stream",
     "text": [
      "/anaconda3/lib/python3.6/site-packages/sklearn/utils/deprecation.py:75: DeprecationWarning: Function _ratio_float is deprecated; Use a float for 'ratio' is deprecated from version 0.2. The support will be removed in 0.4. Use a dict, str, or a callable instead.\n",
      "  warnings.warn(msg, category=DeprecationWarning)\n"
     ]
    },
    {
     "data": {
      "text/html": [
       "<div>\n",
       "<style>\n",
       "    .dataframe thead tr:only-child th {\n",
       "        text-align: right;\n",
       "    }\n",
       "\n",
       "    .dataframe thead th {\n",
       "        text-align: left;\n",
       "    }\n",
       "\n",
       "    .dataframe tbody tr th {\n",
       "        vertical-align: top;\n",
       "    }\n",
       "</style>\n",
       "<table border=\"1\" class=\"dataframe\">\n",
       "  <thead>\n",
       "    <tr style=\"text-align: right;\">\n",
       "      <th></th>\n",
       "      <th>Power Outage</th>\n",
       "      <th>PRCP</th>\n",
       "      <th>Delta T Max</th>\n",
       "      <th>Delta T Min</th>\n",
       "      <th>Avg Wind Speed Squared</th>\n",
       "      <th>2 min wind speed squared</th>\n",
       "      <th>5 second wind speed squared</th>\n",
       "      <th>Fog/Ice</th>\n",
       "      <th>Heavy/Freezing Fog</th>\n",
       "      <th>Thunder</th>\n",
       "      <th>Smoke/Haze</th>\n",
       "    </tr>\n",
       "  </thead>\n",
       "  <tbody>\n",
       "    <tr>\n",
       "      <th>0</th>\n",
       "      <td>0.0</td>\n",
       "      <td>0.1575</td>\n",
       "      <td>0.335664</td>\n",
       "      <td>0.144456</td>\n",
       "      <td>0.188626</td>\n",
       "      <td>0.047556</td>\n",
       "      <td>0.022907</td>\n",
       "      <td>1.0</td>\n",
       "      <td>0.0</td>\n",
       "      <td>0.0</td>\n",
       "      <td>1.0</td>\n",
       "    </tr>\n",
       "    <tr>\n",
       "      <th>1</th>\n",
       "      <td>0.0</td>\n",
       "      <td>0.0000</td>\n",
       "      <td>0.154337</td>\n",
       "      <td>0.039705</td>\n",
       "      <td>0.124961</td>\n",
       "      <td>0.037627</td>\n",
       "      <td>0.014013</td>\n",
       "      <td>0.0</td>\n",
       "      <td>0.0</td>\n",
       "      <td>0.0</td>\n",
       "      <td>0.0</td>\n",
       "    </tr>\n",
       "    <tr>\n",
       "      <th>2</th>\n",
       "      <td>0.0</td>\n",
       "      <td>0.0000</td>\n",
       "      <td>0.704401</td>\n",
       "      <td>0.192821</td>\n",
       "      <td>0.014639</td>\n",
       "      <td>0.011498</td>\n",
       "      <td>0.002981</td>\n",
       "      <td>1.0</td>\n",
       "      <td>0.0</td>\n",
       "      <td>0.0</td>\n",
       "      <td>1.0</td>\n",
       "    </tr>\n",
       "    <tr>\n",
       "      <th>3</th>\n",
       "      <td>0.0</td>\n",
       "      <td>0.0000</td>\n",
       "      <td>0.851226</td>\n",
       "      <td>0.539222</td>\n",
       "      <td>0.355141</td>\n",
       "      <td>0.113805</td>\n",
       "      <td>0.035997</td>\n",
       "      <td>1.0</td>\n",
       "      <td>1.0</td>\n",
       "      <td>0.0</td>\n",
       "      <td>0.0</td>\n",
       "    </tr>\n",
       "    <tr>\n",
       "      <th>4</th>\n",
       "      <td>0.0</td>\n",
       "      <td>0.0000</td>\n",
       "      <td>0.550658</td>\n",
       "      <td>0.000667</td>\n",
       "      <td>0.132082</td>\n",
       "      <td>0.057484</td>\n",
       "      <td>0.021458</td>\n",
       "      <td>0.0</td>\n",
       "      <td>0.0</td>\n",
       "      <td>0.0</td>\n",
       "      <td>0.0</td>\n",
       "    </tr>\n",
       "  </tbody>\n",
       "</table>\n",
       "</div>"
      ],
      "text/plain": [
       "   Power Outage    PRCP  Delta T Max  Delta T Min  Avg Wind Speed Squared  \\\n",
       "0           0.0  0.1575     0.335664     0.144456                0.188626   \n",
       "1           0.0  0.0000     0.154337     0.039705                0.124961   \n",
       "2           0.0  0.0000     0.704401     0.192821                0.014639   \n",
       "3           0.0  0.0000     0.851226     0.539222                0.355141   \n",
       "4           0.0  0.0000     0.550658     0.000667                0.132082   \n",
       "\n",
       "   2 min wind speed squared  5 second wind speed squared  Fog/Ice  \\\n",
       "0                  0.047556                     0.022907      1.0   \n",
       "1                  0.037627                     0.014013      0.0   \n",
       "2                  0.011498                     0.002981      1.0   \n",
       "3                  0.113805                     0.035997      1.0   \n",
       "4                  0.057484                     0.021458      0.0   \n",
       "\n",
       "   Heavy/Freezing Fog  Thunder  Smoke/Haze  \n",
       "0                 0.0      0.0         1.0  \n",
       "1                 0.0      0.0         0.0  \n",
       "2                 0.0      0.0         1.0  \n",
       "3                 1.0      0.0         0.0  \n",
       "4                 0.0      0.0         0.0  "
      ]
     },
     "execution_count": 148,
     "metadata": {},
     "output_type": "execute_result"
    }
   ],
   "source": [
    "#Undersample the number of zeroes\n",
    "import pandas_ml as pdml\n",
    "df_ML = pdml.ModelFrame(X_train, target = y_train)\n",
    "print(\"Before sampling ratio\");\n",
    "print(df_ML.target.value_counts());\n",
    "#use ratio = 0.5 to change ratio\n",
    "sampler = df_ML.imbalance.under_sampling.RandomUnderSampler(ratio=0.1);\n",
    "df_ML = df_ML.fit_sample(sampler);\n",
    "print(\"Final counts after undersampling the zeroes\");\n",
    "print(df_ML.target.value_counts());\n",
    "X_train = df_ML.iloc[:,1:];\n",
    "y_train = df_ML['Power Outage'];\n",
    "df_ML.head()"
   ]
  },
  {
   "cell_type": "code",
   "execution_count": 149,
   "metadata": {},
   "outputs": [
    {
     "name": "stderr",
     "output_type": "stream",
     "text": [
      "/anaconda3/lib/python3.6/site-packages/sklearn/utils/deprecation.py:75: DeprecationWarning: Function _ratio_float is deprecated; Use a float for 'ratio' is deprecated from version 0.2. The support will be removed in 0.4. Use a dict, str, or a callable instead.\n",
      "  warnings.warn(msg, category=DeprecationWarning)\n"
     ]
    }
   ],
   "source": [
    "#Oversampling the number of ones\n",
    "from imblearn.over_sampling import SMOTE\n",
    "sampler = SMOTE(random_state=44, ratio=1);\n",
    "X_train, y_train = sampler.fit_sample(X_train, y_train);"
   ]
  },
  {
   "cell_type": "code",
   "execution_count": 150,
   "metadata": {
    "collapsed": true
   },
   "outputs": [],
   "source": [
    "#Train a random forest classifier\n",
    "from sklearn.ensemble import RandomForestClassifier\n",
    "rf = RandomForestClassifier(n_estimators=100, oob_score = True, random_state = 123);\n",
    "rf.fit(X_train, y_train);"
   ]
  },
  {
   "cell_type": "code",
   "execution_count": 151,
   "metadata": {},
   "outputs": [
    {
     "name": "stdout",
     "output_type": "stream",
     "text": [
      "Accuracy:  0.88657648283\n"
     ]
    }
   ],
   "source": [
    "#Predict results\n",
    "pred = rf.predict(X_test);\n",
    "\n",
    "from sklearn.metrics import accuracy_score\n",
    "accuracy = accuracy_score(y_test, pred);\n",
    "\n",
    "print(\"Accuracy: \", accuracy);"
   ]
  },
  {
   "cell_type": "code",
   "execution_count": 152,
   "metadata": {},
   "outputs": [
    {
     "data": {
      "image/png": "[encoded data removed]",
      "text/plain": [
       "<matplotlib.figure.Figure at 0x11a6d3da0>"
      ]
     },
     "metadata": {},
     "output_type": "display_data"
    }
   ],
   "source": [
    "from sklearn.metrics import confusion_matrix\n",
    "\n",
    "cm = pd.DataFrame(confusion_matrix(y_test, pred));\n",
    "\n",
    "sns.heatmap(cm, annot = True)\n",
    "plt.show()"
   ]
  },
  {
   "cell_type": "code",
   "execution_count": 153,
   "metadata": {},
   "outputs": [
    {
     "name": "stdout",
     "output_type": "stream",
     "text": [
      "f1 score:  0.657768906025\n",
      "0.536940686785\n"
     ]
    }
   ],
   "source": [
    "#Penalized SVM\n",
    "from sklearn import svm\n",
    "clf = svm.SVC(kernel='rbf', C=5.0);\n",
    "clf.fit(X_train, y_train);\n",
    "pred = clf.predict(X_test);\n",
    "accuracy = accuracy_score(y_test, pred);\n",
    "print(\"f1 score: \", f1_score(y_test, pred, average='weighted'));\n",
    "print(accuracy);"
   ]
  },
  {
   "cell_type": "code",
   "execution_count": 154,
   "metadata": {
    "collapsed": true
   },
   "outputs": [],
   "source": [
    "arr = list(y_train > 0);\n",
    "test = [];\n",
    "for i in arr:\n",
    "    if (i==False):\n",
    "        test.append(1);\n",
    "    else:\n",
    "        test.append(20);\n",
    "        "
   ]
  },
  {
   "cell_type": "code",
   "execution_count": 155,
   "metadata": {
    "scrolled": true
   },
   "outputs": [
    {
     "data": {
      "image/png": "[encoded data removed]",
      "text/plain": [
       "<matplotlib.figure.Figure at 0x11a2c3be0>"
      ]
     },
     "metadata": {},
     "output_type": "display_data"
    },
    {
     "name": "stdout",
     "output_type": "stream",
     "text": [
      "               precision    recall  f1-score   support\n",
      "\n",
      "  Normal Days       0.98      0.53      0.68       915\n",
      "Power Outages       0.07      0.74      0.13        46\n",
      "\n",
      "  avg / total       0.93      0.54      0.66       961\n",
      "\n"
     ]
    }
   ],
   "source": [
    "from sklearn.metrics import confusion_matrix\n",
    "\n",
    "cm = pd.DataFrame(confusion_matrix(y_test, pred));\n",
    "\n",
    "sns.heatmap(cm, annot = True);\n",
    "plt.show();\n",
    "from sklearn.metrics import classification_report\n",
    "print(classification_report(y_test, pred, target_names = ['Normal Days', 'Power Outages']));"
   ]
  },
  {
   "cell_type": "code",
   "execution_count": 156,
   "metadata": {},
   "outputs": [
    {
     "name": "stdout",
     "output_type": "stream",
     "text": [
      "f1 score:  0.697207416453\n",
      "0.582726326743\n"
     ]
    },
    {
     "data": {
      "image/png": "[encoded data removed]",
      "text/plain": [
       "<matplotlib.figure.Figure at 0x11a999fd0>"
      ]
     },
     "metadata": {},
     "output_type": "display_data"
    },
    {
     "name": "stdout",
     "output_type": "stream",
     "text": [
      "               precision    recall  f1-score   support\n",
      "\n",
      "  Normal Days       0.97      0.58      0.73       915\n",
      "Power Outages       0.07      0.63      0.13        46\n",
      "\n",
      "  avg / total       0.93      0.58      0.70       961\n",
      "\n"
     ]
    }
   ],
   "source": [
    "from sklearn.ensemble import GradientBoostingClassifier\n",
    "clf = GradientBoostingClassifier(n_estimators = 200, random_state = 123);\n",
    "clf.fit(X_train, y_train, sample_weight = test);\n",
    "pred = clf.predict(X_test);\n",
    "accuracy = accuracy_score(y_test, pred);\n",
    "print(\"f1 score: \", f1_score(y_test, pred, average='weighted'))\n",
    "print(accuracy);\n",
    "\n",
    "from sklearn.metrics import confusion_matrix\n",
    "\n",
    "cm = pd.DataFrame(confusion_matrix(y_test, pred));\n",
    "\n",
    "sns.heatmap(cm, annot = True)\n",
    "plt.show()\n",
    "from sklearn.metrics import classification_report\n",
    "print(classification_report(y_test, pred, target_names = ['Normal Days', 'Power Outages']));"
   ]
  },
  {
   "cell_type": "code",
   "execution_count": 157,
   "metadata": {},
   "outputs": [
    {
     "name": "stdout",
     "output_type": "stream",
     "text": [
      "Accuracy:  0.24349635796\n",
      "[ 0.12  0.11  0.1   0.07  0.5   0.09  0.01  0.    0.    0.  ]\n"
     ]
    },
    {
     "data": {
      "image/png": "[encoded data removed]",
      "text/plain": [
       "<matplotlib.figure.Figure at 0x119de4908>"
      ]
     },
     "metadata": {},
     "output_type": "display_data"
    },
    {
     "name": "stdout",
     "output_type": "stream",
     "text": [
      "               precision    recall  f1-score   support\n",
      "\n",
      "  Normal Days       0.99      0.21      0.34       915\n",
      "Power Outages       0.06      0.96      0.11        46\n",
      "\n",
      "  avg / total       0.94      0.24      0.33       961\n",
      "\n"
     ]
    }
   ],
   "source": [
    "from sklearn.grid_search import GridSearchCV\n",
    "from sklearn.ensemble import AdaBoostClassifier\n",
    "from sklearn.model_selection import cross_val_score\n",
    "clf = AdaBoostClassifier(n_estimators=100);\n",
    "\n",
    "clf.fit(X_train, y_train, sample_weight=test);\n",
    "scores = cross_val_score(clf, X_train, y_train);\n",
    "pred = clf.predict(X_test);\n",
    "\n",
    "\n",
    "accuracy = accuracy_score(y_test, pred);\n",
    "print(\"Accuracy: \", accuracy);\n",
    "print(clf.feature_importances_)\n",
    "from sklearn.metrics import confusion_matrix\n",
    "\n",
    "cm = pd.DataFrame(confusion_matrix(y_test, pred));\n",
    "\n",
    "sns.heatmap(cm, annot=True);\n",
    "\n",
    "plt.show();\n",
    "from sklearn.metrics import classification_report\n",
    "print(classification_report(y_test, pred, target_names = ['Normal Days', 'Power Outages']));\n"
   ]
  },
  {
   "cell_type": "code",
   "execution_count": 158,
   "metadata": {},
   "outputs": [
    {
     "name": "stdout",
     "output_type": "stream",
     "text": [
      "0.8336283185840708\n",
      "Best parameters: {'base_estimator__criterion': 'entropy', 'base_estimator__splitter': 'best', 'n_estimators': 50}\n",
      "Accuracy:  0.798126951093\n",
      "[ 0.13075806  0.19465679  0.16932226  0.17060292  0.14746569  0.13696244\n",
      "  0.01504156  0.00948816  0.00755681  0.01814531]\n"
     ]
    },
    {
     "data": {
      "image/png": "[encoded data removed]",
      "text/plain": [
       "<matplotlib.figure.Figure at 0x11a8bd7b8>"
      ]
     },
     "metadata": {},
     "output_type": "display_data"
    },
    {
     "name": "stdout",
     "output_type": "stream",
     "text": [
      "               precision    recall  f1-score   support\n",
      "\n",
      "  Normal Days       0.96      0.82      0.89       915\n",
      "Power Outages       0.07      0.28      0.12        46\n",
      "\n",
      "  avg / total       0.92      0.80      0.85       961\n",
      "\n"
     ]
    }
   ],
   "source": [
    "from sklearn.tree import DecisionTreeClassifier\n",
    "from sklearn.ensemble import AdaBoostClassifier\n",
    "from sklearn.grid_search import GridSearchCV\n",
    "\n",
    "param_grid = {\"base_estimator__criterion\" : [\"gini\", \"entropy\"],\n",
    "              \"base_estimator__splitter\" :   [\"best\", \"random\"],\n",
    "              \"n_estimators\": [50, 75 ,100, 150]\n",
    "             }\n",
    "\n",
    "\n",
    "DTC = DecisionTreeClassifier(random_state = 11, max_features = \"auto\", class_weight = \"balanced\",max_depth = None)\n",
    "\n",
    "ABC = AdaBoostClassifier(base_estimator = DTC)\n",
    "\n",
    "# run grid search\n",
    "grid_search_ABC = GridSearchCV(ABC, param_grid=param_grid, scoring = 'roc_auc')\n",
    "\n",
    "grid_search_ABC.fit(X_train, y_train);\n",
    "print(grid_search_ABC.best_score_);\n",
    "print('Best parameters: {}'.format(grid_search_ABC.best_params_));\n",
    "clf = grid_search_ABC.best_estimator_;\n",
    "\n",
    "\n",
    "clf.fit(X_train, y_train);\n",
    "scores = cross_val_score(clf, X_train, y_train);\n",
    "pred = clf.predict(X_test);\n",
    "\n",
    "\n",
    "accuracy = accuracy_score(y_test, pred);\n",
    "print(\"Accuracy: \", accuracy);\n",
    "print(clf.feature_importances_)\n",
    "from sklearn.metrics import confusion_matrix\n",
    "\n",
    "cm = pd.DataFrame(confusion_matrix(y_test, pred));\n",
    "\n",
    "sns.heatmap(cm, annot=True);\n",
    "\n",
    "plt.show();\n",
    "from sklearn.metrics import classification_report\n",
    "print(classification_report(y_test, pred, target_names = ['Normal Days', 'Power Outages']));\n"
   ]
  },
  {
   "cell_type": "code",
   "execution_count": 159,
   "metadata": {},
   "outputs": [
    {
     "name": "stdout",
     "output_type": "stream",
     "text": [
      "0.55332620575\n"
     ]
    },
    {
     "data": {
      "image/png": "[encoded data removed]",
      "text/plain": [
       "<matplotlib.figure.Figure at 0x11a5756a0>"
      ]
     },
     "metadata": {},
     "output_type": "display_data"
    },
    {
     "name": "stdout",
     "output_type": "stream",
     "text": [
      "               precision    recall  f1-score   support\n",
      "\n",
      "  Normal Days       0.96      0.82      0.89       915\n",
      "Power Outages       0.07      0.28      0.12        46\n",
      "\n",
      "  avg / total       0.92      0.80      0.85       961\n",
      "\n"
     ]
    }
   ],
   "source": [
    "# Compute ROC curve and ROC area for each class\n",
    "from sklearn.metrics import roc_auc_score\n",
    "print(roc_auc_score(y_test, pred));\n",
    "from sklearn.metrics import roc_curve\n",
    "from sklearn.metrics import auc\n",
    "\n",
    "# Compute fpr, tpr, thresholds and roc auc\n",
    "fpr, tpr, thresholds = roc_curve(y_test, pred);\n",
    "roc_auc = auc(fpr, tpr);\n",
    "plt.plot(fpr, tpr);\n",
    "plt.show();\n",
    "from sklearn.metrics import classification_report\n",
    "print(classification_report(y_test, pred, target_names = ['Normal Days', 'Power Outages']));\n"
   ]
  },
  {
   "cell_type": "code",
   "execution_count": 160,
   "metadata": {},
   "outputs": [
    {
     "name": "stdout",
     "output_type": "stream",
     "text": [
      "Accuracy for cross validation run: \n",
      "f1 score:  0.502099134708\n",
      "Accuracy: 0.91 (+/- 0.02) [Random Forest]\n",
      "f1 score:  0.502099134708\n",
      "Accuracy: 0.84 (+/- 0.06) [Gradient Boost]\n",
      "f1 score:  0.502099134708\n",
      "Accuracy: 0.87 (+/- 0.06) [Ensemble]\n",
      "Accuracy for test data\n",
      "Accuracy:  0.798126951093\n"
     ]
    },
    {
     "data": {
      "image/png": "[encoded data removed]",
      "text/plain": [
       "<matplotlib.figure.Figure at 0x11a812fd0>"
      ]
     },
     "metadata": {},
     "output_type": "display_data"
    }
   ],
   "source": [
    "from sklearn.neighbors import KNeighborsClassifier\n",
    "from itertools import product\n",
    "from sklearn.ensemble import VotingClassifier\n",
    "\n",
    "clf4 = RandomForestClassifier(n_estimators=100, oob_score=True, random_state=12345)\n",
    "clf5 = GradientBoostingClassifier(n_estimators = 200, learning_rate=1, max_depth=1, random_state=123)\n",
    "\n",
    "eclf = VotingClassifier(estimators=[ ('rforest', clf4), ('gboost', clf5)], voting = 'hard');\n",
    "\n",
    "print(\"Accuracy for cross validation run: \");\n",
    "for clf, label in zip([clf4, clf5, eclf], ['Random Forest', 'Gradient Boost', 'Ensemble']):\n",
    "    scores = cross_val_score(clf, X_train, y_train, cv=5, scoring='f1_macro');\n",
    "    print(\"f1 score: \", f1_score(y_test, pred, average='macro'))\n",
    "    print(\"Accuracy: %0.2f (+/- %0.2f) [%s]\" %(scores.mean(), scores.std(), label));\n",
    "eclf = eclf.fit(X_train,y_train, sample_weight = test);\n",
    "from sklearn.metrics import confusion_matrix\n",
    "pred = eclf.predict(X_test);\n",
    "cm = pd.DataFrame(confusion_matrix(y_test, pred));\n",
    "print(\"Accuracy for test data\");\n",
    "sns.heatmap(cm, annot=True);\n",
    "print(\"Accuracy: \", accuracy);\n",
    "plt.show();"
   ]
  },
  {
   "cell_type": "code",
   "execution_count": 161,
   "metadata": {},
   "outputs": [
    {
     "name": "stdout",
     "output_type": "stream",
     "text": [
      "Done\n",
      "Accuracy:  0.902185223725\n",
      "f1 score:  0.911654061616\n"
     ]
    },
    {
     "data": {
      "image/png": "[encoded data removed]",
      "text/plain": [
       "<matplotlib.figure.Figure at 0x11a831c18>"
      ]
     },
     "metadata": {},
     "output_type": "display_data"
    }
   ],
   "source": [
    "#Train a weighted random forest classifier\n",
    "from sklearn.ensemble import RandomForestClassifier\n",
    "rf = RandomForestClassifier(n_estimators=100, oob_score = True, random_state = 123);\n",
    "rf.fit(X_train, y_train, sample_weight = test);\n",
    "print(\"Done\");\n",
    "pred = rf.predict(X_test);\n",
    "accuracy = accuracy_score(y_test, pred);\n",
    "\n",
    "print(\"Accuracy: \", accuracy);\n",
    "print(\"f1 score: \", f1_score(y_test, pred, average='weighted'));\n",
    "cm = pd.DataFrame(confusion_matrix(y_test, pred));\n",
    "\n",
    "sns.heatmap(cm, annot = True)\n",
    "plt.show()"
   ]
  },
  {
   "cell_type": "code",
   "execution_count": 162,
   "metadata": {},
   "outputs": [
    {
     "name": "stdout",
     "output_type": "stream",
     "text": [
      "               precision    recall  f1-score   support\n",
      "\n",
      "  Normal Days       0.96      0.94      0.95       915\n",
      "Power Outages       0.16      0.24      0.19        46\n",
      "\n",
      "  avg / total       0.92      0.90      0.91       961\n",
      "\n"
     ]
    }
   ],
   "source": [
    "from sklearn.metrics import classification_report\n",
    "print(classification_report(y_test, pred, target_names = ['Normal Days', 'Power Outages']));\n"
   ]
  },
  {
   "cell_type": "code",
   "execution_count": 163,
   "metadata": {},
   "outputs": [
    {
     "name": "stdout",
     "output_type": "stream",
     "text": [
      "Optimal K value is :  1\n",
      "Misclassification error at that value is  0.122566371681\n"
     ]
    },
    {
     "data": {
      "image/png": "[encoded data removed]",
      "text/plain": [
       "<matplotlib.figure.Figure at 0x11a4eca90>"
      ]
     },
     "metadata": {},
     "output_type": "display_data"
    }
   ],
   "source": [
    "#Import KNN Classifier\n",
    "from sklearn.neighbors import KNeighborsClassifier\n",
    "from sklearn.metrics import accuracy_score\n",
    "from sklearn.model_selection import cross_val_score\n",
    "checkKValue = list(range(1,50))\n",
    "neighbors = list(filter(lambda x: x % 2 !=0, checkKValue))\n",
    "cv_scores = []\n",
    "for k in neighbors:\n",
    "    knn = KNeighborsClassifier(n_neighbors=k, weights='distance')\n",
    "    scores = cross_val_score(knn, X_train, y_train, cv=10, scoring='accuracy')\n",
    "    cv_scores.append(scores.mean())\n",
    "\n",
    "MSE = [1-x for x in cv_scores]\n",
    "optimalK = neighbors[MSE.index(min(MSE))]\n",
    "print(\"Optimal K value is : \", optimalK);\n",
    "print(\"Misclassification error at that value is \", min(MSE));\n",
    "plt.plot(neighbors, MSE)\n",
    "plt.xlabel('No. of neighbors K')\n",
    "plt.ylabel('Misclassification error')\n",
    "plt.show()"
   ]
  },
  {
   "cell_type": "code",
   "execution_count": 164,
   "metadata": {},
   "outputs": [
    {
     "name": "stdout",
     "output_type": "stream",
     "text": [
      "Accuracy:  0.795005202914\n"
     ]
    },
    {
     "data": {
      "image/png": "[encoded data removed]",
      "text/plain": [
       "<matplotlib.figure.Figure at 0x115fe1b00>"
      ]
     },
     "metadata": {},
     "output_type": "display_data"
    },
    {
     "name": "stdout",
     "output_type": "stream",
     "text": [
      "               precision    recall  f1-score   support\n",
      "\n",
      "  Normal Days       0.96      0.82      0.88       915\n",
      "Power Outages       0.10      0.39      0.15        46\n",
      "\n",
      "  avg / total       0.92      0.80      0.85       961\n",
      "\n"
     ]
    }
   ],
   "source": [
    "knn = KNeighborsClassifier(n_neighbors=optimalK);\n",
    "knn.fit(X_train, y_train);\n",
    "pred = knn.predict(X_test);\n",
    "accuracy = accuracy_score(y_test, pred);\n",
    "print(\"Accuracy: \", accuracy);\n",
    "# from sklearn.metrics import confusion_matrix\n",
    "# con_mat = confusion_matrix(y_test, pred, [0, 1])\n",
    "# print(con_mat)\n",
    "from sklearn.metrics import confusion_matrix\n",
    "\n",
    "cm = pd.DataFrame(confusion_matrix(y_test, pred));\n",
    "\n",
    "sns.heatmap(cm, annot=True);\n",
    "\n",
    "plt.show();\n",
    "from sklearn.metrics import classification_report\n",
    "print(classification_report(y_test, pred, target_names = ['Normal Days', 'Power Outages']));\n"
   ]
  },
  {
   "cell_type": "code",
   "execution_count": 165,
   "metadata": {},
   "outputs": [
    {
     "name": "stdout",
     "output_type": "stream",
     "text": [
      "Accuracy:  0.617647058824\n"
     ]
    }
   ],
   "source": [
    "#Indiana prediction based on Michigan Weather\n",
    "#Split the data into X and Y, and then into training and testing sets\n",
    "indiana=pd.read_csv('Indiana Final Data');\n",
    "X = np.array(df[['Avg Wind Speed Squared','5 second wind speed squared','2 min wind speed squared','Fog/Ice','Thunder']]);\n",
    "X_test = np.array(indiana[['Avg Wind Speed Squared','5 second wind speed squared','2 min wind speed squared','Fog/Ice fog','Thunder']]);\n",
    "y = np.array(df['Power Outage']);\n",
    "y_test = np.array(indiana['Power Outage']);\n",
    "knn = KNeighborsClassifier(n_neighbors=optimalK)\n",
    "knn.fit(X,y);\n",
    "pred = knn.predict(X_test);\n",
    "accuracy = accuracy_score(y_test, pred);\n",
    "print(\"Accuracy: \", accuracy);"
   ]
  },
  {
   "cell_type": "code",
   "execution_count": 166,
   "metadata": {},
   "outputs": [
    {
     "name": "stdout",
     "output_type": "stream",
     "text": [
      "Accuracy:  0.617647058824\n"
     ]
    },
    {
     "data": {
      "image/png": "[encoded data removed]",
      "text/plain": [
       "<matplotlib.figure.Figure at 0x11a4aee80>"
      ]
     },
     "metadata": {},
     "output_type": "display_data"
    }
   ],
   "source": [
    "from sklearn.metrics import confusion_matrix\n",
    "\n",
    "cm = pd.DataFrame(confusion_matrix(y_test, pred));\n",
    "\n",
    "sns.heatmap(cm, annot=True, vmin=0, vmax=50);\n",
    "print(\"Accuracy: \", accuracy);\n",
    "plt.show();\n"
   ]
  }
 ],
 "metadata": {
  "kernelspec": {
   "display_name": "Python 3",
   "language": "python",
   "name": "python3"
  },
  "language_info": {
   "codemirror_mode": {
    "name": "ipython",
    "version": 3
   },
   "file_extension": ".py",
   "mimetype": "text/x-python",
   "name": "python",
   "nbconvert_exporter": "python",
   "pygments_lexer": "ipython3",
   "version": "3.6.2"
  }
 },
 "nbformat": 4,
 "nbformat_minor": 2
}
