{
 "cells": [
  {
   "cell_type": "code",
   "execution_count": 1,
   "metadata": {
    "collapsed": true
   },
   "outputs": [],
   "source": [
    "import numpy as np\n",
    "import pandas as pd\n",
    "import matplotlib.pyplot as plt\n",
    "import seaborn as sns\n",
    "from sklearn import preprocessing\n",
    "from imblearn.over_sampling import SMOTE \n",
    "from imblearn.under_sampling import ClusterCentroids\n",
    "from sklearn.model_selection import train_test_split"
   ]
  },
  {
   "cell_type": "code",
   "execution_count": 2,
   "metadata": {},
   "outputs": [
    {
     "name": "stdout",
     "output_type": "stream",
     "text": [
      "             PRCP        TMAX  5 second wind speed squared  \\\n",
      "count  318.000000  318.000000                   318.000000   \n",
      "mean     0.075122    0.619488                     0.109774   \n",
      "std      0.148938    0.205566                     0.185419   \n",
      "min      0.000000    0.000000                     0.000000   \n",
      "25%      0.000000    0.450980                     0.015994   \n",
      "50%      0.011662    0.663501                     0.036915   \n",
      "75%      0.072998    0.779412                     0.109737   \n",
      "max      1.000000    1.000000                     1.000000   \n",
      "\n",
      "       2 min wind speed squared  Avg Wind Speed Squared     Fog/Ice  \\\n",
      "count                318.000000              318.000000  318.000000   \n",
      "mean                   0.108352                0.174002    0.511540   \n",
      "std                    0.136324                0.186327    0.442045   \n",
      "min                    0.000000                0.000000    0.000000   \n",
      "25%                    0.032261                0.054280    0.000000   \n",
      "50%                    0.067961                0.108732    0.419872   \n",
      "75%                    0.130270                0.220255    1.000000   \n",
      "max                    1.000000                1.000000    1.000000   \n",
      "\n",
      "       Heavy/Freezing Fog       Thunder    Smoke/Haze  Power Outage  \n",
      "count        3.180000e+02  3.180000e+02  3.180000e+02    318.000000  \n",
      "mean         1.503688e-01  1.317914e-01  2.098480e-01      0.500000  \n",
      "std          3.122838e-01  3.110567e-01  3.568476e-01      0.500788  \n",
      "min          0.000000e+00  0.000000e+00  0.000000e+00      0.000000  \n",
      "25%          2.775558e-17  2.775558e-17  2.775558e-17      0.000000  \n",
      "50%          2.775558e-17  2.775558e-17  2.775558e-17      0.500000  \n",
      "75%          1.073059e-01  2.895067e-02  2.000000e-01      1.000000  \n",
      "max          1.000000e+00  1.000000e+00  1.000000e+00      1.000000  \n"
     ]
    }
   ],
   "source": [
    "df = pd.read_csv('Final Data');\n",
    "#Normalize data\n",
    "scaledData = preprocessing.MinMaxScaler().fit_transform(df.values);\n",
    "df = pd.DataFrame(scaledData, index = df.index, columns = df.columns);\n",
    "print(df.describe());"
   ]
  },
  {
   "cell_type": "code",
   "execution_count": null,
   "metadata": {
    "collapsed": true
   },
   "outputs": [],
   "source": []
  }
 ],
 "metadata": {
  "kernelspec": {
   "display_name": "Python 3",
   "language": "python",
   "name": "python3"
  },
  "language_info": {
   "codemirror_mode": {
    "name": "ipython",
    "version": 3
   },
   "file_extension": ".py",
   "mimetype": "text/x-python",
   "name": "python",
   "nbconvert_exporter": "python",
   "pygments_lexer": "ipython3",
   "version": "3.6.2"
  }
 },
 "nbformat": 4,
 "nbformat_minor": 2
}
