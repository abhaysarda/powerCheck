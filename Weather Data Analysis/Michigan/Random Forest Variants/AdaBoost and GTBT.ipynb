{
 "cells": [
  {
   "cell_type": "code",
   "execution_count": 145,
   "metadata": {
    "collapsed": true
   },
   "outputs": [],
   "source": [
    "import numpy as np\n",
    "import pandas as pd\n",
    "import matplotlib.pyplot as plt\n",
    "from sklearn.model_selection import train_test_split\n",
    "from sklearn.ensemble import AdaBoostClassifier\n",
    "from sklearn.ensemble import GradientBoostingClassifier\n",
    "from sklearn.metrics import accuracy_score\n",
    "from sklearn import preprocessing\n",
    "from sklearn.model_selection import cross_val_score\n",
    "import seaborn as sns"
   ]
  },
  {
   "cell_type": "code",
   "execution_count": 146,
   "metadata": {},
   "outputs": [
    {
     "data": {
      "text/html": [
       "<div>\n",
       "<style>\n",
       "    .dataframe thead tr:only-child th {\n",
       "        text-align: right;\n",
       "    }\n",
       "\n",
       "    .dataframe thead th {\n",
       "        text-align: left;\n",
       "    }\n",
       "\n",
       "    .dataframe tbody tr th {\n",
       "        vertical-align: top;\n",
       "    }\n",
       "</style>\n",
       "<table border=\"1\" class=\"dataframe\">\n",
       "  <thead>\n",
       "    <tr style=\"text-align: right;\">\n",
       "      <th></th>\n",
       "      <th>PRCP</th>\n",
       "      <th>Delta T Min</th>\n",
       "      <th>Delta T Max</th>\n",
       "      <th>TMAX</th>\n",
       "      <th>5 second wind speed squared</th>\n",
       "      <th>2 min wind speed squared</th>\n",
       "      <th>Avg Wind Speed Squared</th>\n",
       "      <th>Fog/Ice</th>\n",
       "      <th>Heavy/Freezing Fog</th>\n",
       "      <th>Thunder</th>\n",
       "      <th>Smoke/Haze</th>\n",
       "    </tr>\n",
       "  </thead>\n",
       "  <tbody>\n",
       "    <tr>\n",
       "      <th>0</th>\n",
       "      <td>0.000</td>\n",
       "      <td>0.000000</td>\n",
       "      <td>0.000000</td>\n",
       "      <td>0.471698</td>\n",
       "      <td>0.005809</td>\n",
       "      <td>0.014808</td>\n",
       "      <td>0.036815</td>\n",
       "      <td>0.0</td>\n",
       "      <td>0.0</td>\n",
       "      <td>0.0</td>\n",
       "      <td>0.0</td>\n",
       "    </tr>\n",
       "    <tr>\n",
       "      <th>1</th>\n",
       "      <td>0.000</td>\n",
       "      <td>0.000054</td>\n",
       "      <td>0.000886</td>\n",
       "      <td>0.487421</td>\n",
       "      <td>0.019600</td>\n",
       "      <td>0.057484</td>\n",
       "      <td>0.154984</td>\n",
       "      <td>0.0</td>\n",
       "      <td>0.0</td>\n",
       "      <td>0.0</td>\n",
       "      <td>0.0</td>\n",
       "    </tr>\n",
       "    <tr>\n",
       "      <th>2</th>\n",
       "      <td>0.000</td>\n",
       "      <td>0.001362</td>\n",
       "      <td>0.000016</td>\n",
       "      <td>0.473795</td>\n",
       "      <td>0.011571</td>\n",
       "      <td>0.037627</td>\n",
       "      <td>0.104491</td>\n",
       "      <td>0.0</td>\n",
       "      <td>0.0</td>\n",
       "      <td>0.0</td>\n",
       "      <td>0.0</td>\n",
       "    </tr>\n",
       "    <tr>\n",
       "      <th>3</th>\n",
       "      <td>0.005</td>\n",
       "      <td>0.012255</td>\n",
       "      <td>0.000319</td>\n",
       "      <td>0.481132</td>\n",
       "      <td>0.003535</td>\n",
       "      <td>0.009524</td>\n",
       "      <td>0.019968</td>\n",
       "      <td>1.0</td>\n",
       "      <td>0.0</td>\n",
       "      <td>0.0</td>\n",
       "      <td>0.0</td>\n",
       "    </tr>\n",
       "    <tr>\n",
       "      <th>4</th>\n",
       "      <td>0.000</td>\n",
       "      <td>0.002301</td>\n",
       "      <td>0.000016</td>\n",
       "      <td>0.473795</td>\n",
       "      <td>0.012885</td>\n",
       "      <td>0.041951</td>\n",
       "      <td>0.049338</td>\n",
       "      <td>0.0</td>\n",
       "      <td>0.0</td>\n",
       "      <td>0.0</td>\n",
       "      <td>0.0</td>\n",
       "    </tr>\n",
       "  </tbody>\n",
       "</table>\n",
       "</div>"
      ],
      "text/plain": [
       "    PRCP  Delta T Min  Delta T Max      TMAX  5 second wind speed squared  \\\n",
       "0  0.000     0.000000     0.000000  0.471698                     0.005809   \n",
       "1  0.000     0.000054     0.000886  0.487421                     0.019600   \n",
       "2  0.000     0.001362     0.000016  0.473795                     0.011571   \n",
       "3  0.005     0.012255     0.000319  0.481132                     0.003535   \n",
       "4  0.000     0.002301     0.000016  0.473795                     0.012885   \n",
       "\n",
       "   2 min wind speed squared  Avg Wind Speed Squared  Fog/Ice  \\\n",
       "0                  0.014808                0.036815      0.0   \n",
       "1                  0.057484                0.154984      0.0   \n",
       "2                  0.037627                0.104491      0.0   \n",
       "3                  0.009524                0.019968      1.0   \n",
       "4                  0.041951                0.049338      0.0   \n",
       "\n",
       "   Heavy/Freezing Fog  Thunder  Smoke/Haze  \n",
       "0                 0.0      0.0         0.0  \n",
       "1                 0.0      0.0         0.0  \n",
       "2                 0.0      0.0         0.0  \n",
       "3                 0.0      0.0         0.0  \n",
       "4                 0.0      0.0         0.0  "
      ]
     },
     "execution_count": 146,
     "metadata": {},
     "output_type": "execute_result"
    }
   ],
   "source": [
    "df = pd.read_csv('Final Data');\n",
    "po = df['Power Outage'];\n",
    "df = df.drop(['Power Outage'], axis = 1);\n",
    "X_train, X_test, y_train, y_test = train_test_split(df, po, test_size=0.33, random_state = 1234);\n",
    "df.head()"
   ]
  },
  {
   "cell_type": "code",
   "execution_count": 147,
   "metadata": {},
   "outputs": [
    {
     "name": "stdout",
     "output_type": "stream",
     "text": [
      "Before sampling ratio\n",
      "0.0    1838\n",
      "1.0     111\n",
      "Name: Power Outage, dtype: int64\n",
      "Final counts after undersampling the zeroes\n",
      "0.0    1110\n",
      "1.0     111\n",
      "Name: Power Outage, dtype: int64\n"
     ]
    },
    {
     "name": "stderr",
     "output_type": "stream",
     "text": [
      "/anaconda3/lib/python3.6/site-packages/sklearn/utils/deprecation.py:75: DeprecationWarning: Function _ratio_float is deprecated; Use a float for 'ratio' is deprecated from version 0.2. The support will be removed in 0.4. Use a dict, str, or a callable instead.\n",
      "  warnings.warn(msg, category=DeprecationWarning)\n"
     ]
    },
    {
     "data": {
      "text/html": [
       "<div>\n",
       "<style>\n",
       "    .dataframe thead tr:only-child th {\n",
       "        text-align: right;\n",
       "    }\n",
       "\n",
       "    .dataframe thead th {\n",
       "        text-align: left;\n",
       "    }\n",
       "\n",
       "    .dataframe tbody tr th {\n",
       "        vertical-align: top;\n",
       "    }\n",
       "</style>\n",
       "<table border=\"1\" class=\"dataframe\">\n",
       "  <thead>\n",
       "    <tr style=\"text-align: right;\">\n",
       "      <th></th>\n",
       "      <th>Power Outage</th>\n",
       "      <th>PRCP</th>\n",
       "      <th>Delta T Min</th>\n",
       "      <th>Delta T Max</th>\n",
       "      <th>TMAX</th>\n",
       "      <th>5 second wind speed squared</th>\n",
       "      <th>2 min wind speed squared</th>\n",
       "      <th>Avg Wind Speed Squared</th>\n",
       "      <th>Fog/Ice</th>\n",
       "      <th>Heavy/Freezing Fog</th>\n",
       "      <th>Thunder</th>\n",
       "      <th>Smoke/Haze</th>\n",
       "    </tr>\n",
       "  </thead>\n",
       "  <tbody>\n",
       "    <tr>\n",
       "      <th>0</th>\n",
       "      <td>0.0</td>\n",
       "      <td>0.0000</td>\n",
       "      <td>0.375213</td>\n",
       "      <td>0.513042</td>\n",
       "      <td>0.850105</td>\n",
       "      <td>0.012885</td>\n",
       "      <td>0.037627</td>\n",
       "      <td>0.069040</td>\n",
       "      <td>0.0</td>\n",
       "      <td>0.0</td>\n",
       "      <td>0.0</td>\n",
       "      <td>0.0</td>\n",
       "    </tr>\n",
       "    <tr>\n",
       "      <th>1</th>\n",
       "      <td>0.0</td>\n",
       "      <td>0.0575</td>\n",
       "      <td>0.286284</td>\n",
       "      <td>0.888231</td>\n",
       "      <td>0.969602</td>\n",
       "      <td>0.018408</td>\n",
       "      <td>0.057484</td>\n",
       "      <td>0.180098</td>\n",
       "      <td>1.0</td>\n",
       "      <td>0.0</td>\n",
       "      <td>0.0</td>\n",
       "      <td>0.0</td>\n",
       "    </tr>\n",
       "    <tr>\n",
       "      <th>2</th>\n",
       "      <td>0.0</td>\n",
       "      <td>0.0000</td>\n",
       "      <td>0.000667</td>\n",
       "      <td>0.471293</td>\n",
       "      <td>0.834382</td>\n",
       "      <td>0.008444</td>\n",
       "      <td>0.028859</td>\n",
       "      <td>0.085850</td>\n",
       "      <td>0.0</td>\n",
       "      <td>0.0</td>\n",
       "      <td>0.0</td>\n",
       "      <td>0.0</td>\n",
       "    </tr>\n",
       "    <tr>\n",
       "      <th>3</th>\n",
       "      <td>0.0</td>\n",
       "      <td>0.0000</td>\n",
       "      <td>0.263082</td>\n",
       "      <td>0.335664</td>\n",
       "      <td>0.165618</td>\n",
       "      <td>0.012885</td>\n",
       "      <td>0.037627</td>\n",
       "      <td>0.147262</td>\n",
       "      <td>0.0</td>\n",
       "      <td>0.0</td>\n",
       "      <td>0.0</td>\n",
       "      <td>1.0</td>\n",
       "    </tr>\n",
       "    <tr>\n",
       "      <th>4</th>\n",
       "      <td>0.0</td>\n",
       "      <td>0.0000</td>\n",
       "      <td>0.001362</td>\n",
       "      <td>0.109792</td>\n",
       "      <td>0.646751</td>\n",
       "      <td>0.019600</td>\n",
       "      <td>0.057484</td>\n",
       "      <td>0.206686</td>\n",
       "      <td>0.0</td>\n",
       "      <td>0.0</td>\n",
       "      <td>0.0</td>\n",
       "      <td>0.0</td>\n",
       "    </tr>\n",
       "  </tbody>\n",
       "</table>\n",
       "</div>"
      ],
      "text/plain": [
       "   Power Outage    PRCP  Delta T Min  Delta T Max      TMAX  \\\n",
       "0           0.0  0.0000     0.375213     0.513042  0.850105   \n",
       "1           0.0  0.0575     0.286284     0.888231  0.969602   \n",
       "2           0.0  0.0000     0.000667     0.471293  0.834382   \n",
       "3           0.0  0.0000     0.263082     0.335664  0.165618   \n",
       "4           0.0  0.0000     0.001362     0.109792  0.646751   \n",
       "\n",
       "   5 second wind speed squared  2 min wind speed squared  \\\n",
       "0                     0.012885                  0.037627   \n",
       "1                     0.018408                  0.057484   \n",
       "2                     0.008444                  0.028859   \n",
       "3                     0.012885                  0.037627   \n",
       "4                     0.019600                  0.057484   \n",
       "\n",
       "   Avg Wind Speed Squared  Fog/Ice  Heavy/Freezing Fog  Thunder  Smoke/Haze  \n",
       "0                0.069040      0.0                 0.0      0.0         0.0  \n",
       "1                0.180098      1.0                 0.0      0.0         0.0  \n",
       "2                0.085850      0.0                 0.0      0.0         0.0  \n",
       "3                0.147262      0.0                 0.0      0.0         1.0  \n",
       "4                0.206686      0.0                 0.0      0.0         0.0  "
      ]
     },
     "execution_count": 147,
     "metadata": {},
     "output_type": "execute_result"
    }
   ],
   "source": [
    "#Undersample the number of zeroes\n",
    "import pandas_ml as pdml\n",
    "df_ML = pdml.ModelFrame(X_train, target = y_train)\n",
    "print(\"Before sampling ratio\");\n",
    "print(df_ML.target.value_counts());\n",
    "sampler = df_ML.imbalance.under_sampling.RandomUnderSampler(ratio=0.1);\n",
    "df_ML = df_ML.fit_sample(sampler);\n",
    "print(\"Final counts after undersampling the zeroes\");\n",
    "print(df_ML.target.value_counts());\n",
    "X_train = df_ML.iloc[:,1:];\n",
    "y_train = df_ML['Power Outage'];\n",
    "df_ML.head()"
   ]
  },
  {
   "cell_type": "code",
   "execution_count": 148,
   "metadata": {},
   "outputs": [
    {
     "name": "stderr",
     "output_type": "stream",
     "text": [
      "/anaconda3/lib/python3.6/site-packages/sklearn/utils/deprecation.py:75: DeprecationWarning: Function _ratio_float is deprecated; Use a float for 'ratio' is deprecated from version 0.2. The support will be removed in 0.4. Use a dict, str, or a callable instead.\n",
      "  warnings.warn(msg, category=DeprecationWarning)\n"
     ]
    }
   ],
   "source": [
    "#Oversampling the number of ones\n",
    "from imblearn.over_sampling import SMOTE\n",
    "sampler = SMOTE(random_state=44, ratio=1);\n",
    "X_train, y_train = sampler.fit_sample(X_train, y_train);"
   ]
  },
  {
   "cell_type": "code",
   "execution_count": 149,
   "metadata": {},
   "outputs": [
    {
     "name": "stdout",
     "output_type": "stream",
     "text": [
      "0.8202702702702702\n",
      "Best parameters: {'base_estimator__criterion': 'entropy', 'base_estimator__splitter': 'random', 'n_estimators': 150}\n",
      "Accuracy:  0.786680541103\n",
      "[ 0.10979702  0.15439261  0.16209521  0.11738638  0.09768559  0.13608857\n",
      "  0.12376716  0.00872819  0.0306622   0.02639071  0.03300635]\n"
     ]
    },
    {
     "data": {
      "image/png": "[encoded data removed]",
      "text/plain": [
       "<matplotlib.figure.Figure at 0x116b9a7f0>"
      ]
     },
     "metadata": {},
     "output_type": "display_data"
    },
    {
     "name": "stdout",
     "output_type": "stream",
     "text": [
      "               precision    recall  f1-score   support\n",
      "\n",
      "  Normal Days       0.96      0.81      0.88       913\n",
      "Power Outages       0.09      0.38      0.15        48\n",
      "\n",
      "  avg / total       0.92      0.79      0.84       961\n",
      "\n"
     ]
    }
   ],
   "source": [
    "from sklearn.tree import DecisionTreeClassifier\n",
    "from sklearn.ensemble import AdaBoostClassifier\n",
    "from sklearn.grid_search import GridSearchCV\n",
    "\n",
    "param_grid = {\"base_estimator__criterion\" : [\"gini\", \"entropy\"],\n",
    "              \"base_estimator__splitter\" :   [\"best\", \"random\"],\n",
    "              \"n_estimators\": [50, 75 ,100, 150]\n",
    "             }\n",
    "\n",
    "\n",
    "DTC = DecisionTreeClassifier(random_state = 11, max_features = \"auto\", class_weight = \"balanced\", max_depth = None)\n",
    "\n",
    "ABC = AdaBoostClassifier(base_estimator = DTC)\n",
    "\n",
    "# run grid search\n",
    "grid_search_ABC = GridSearchCV(ABC, param_grid=param_grid, scoring = 'roc_auc')\n",
    "\n",
    "grid_search_ABC.fit(X_train, y_train);\n",
    "print(grid_search_ABC.best_score_);\n",
    "print('Best parameters: {}'.format(grid_search_ABC.best_params_));\n",
    "clf = grid_search_ABC.best_estimator_;\n",
    "\n",
    "\n",
    "clf.fit(X_train, y_train);\n",
    "scores = cross_val_score(clf, X_train, y_train);\n",
    "pred = clf.predict(X_test);\n",
    "\n",
    "\n",
    "accuracy = accuracy_score(y_test, pred);\n",
    "print(\"Accuracy: \", accuracy);\n",
    "print(clf.feature_importances_)\n",
    "from sklearn.metrics import confusion_matrix\n",
    "\n",
    "cm = pd.DataFrame(confusion_matrix(y_test, pred));\n",
    "\n",
    "sns.heatmap(cm, annot=True);\n",
    "\n",
    "plt.show();\n",
    "from sklearn.metrics import classification_report\n",
    "print(classification_report(y_test, pred, target_names = ['Normal Days', 'Power Outages']));\n"
   ]
  },
  {
   "cell_type": "code",
   "execution_count": 150,
   "metadata": {},
   "outputs": [
    {
     "name": "stdout",
     "output_type": "stream",
     "text": [
      "Accuracy:  0.779396462019\n"
     ]
    },
    {
     "data": {
      "image/png": "[encoded data removed]",
      "text/plain": [
       "<matplotlib.figure.Figure at 0x116a595c0>"
      ]
     },
     "metadata": {},
     "output_type": "display_data"
    }
   ],
   "source": [
    "arr = list(y_train > 0);\n",
    "test = [];\n",
    "for i in arr:\n",
    "    if (i==False):\n",
    "        test.append(1);\n",
    "    else:\n",
    "        test.append(20);\n",
    "        \n",
    "clf.fit(X_train, y_train, sample_weight = test);\n",
    "pred = clf.predict(X_test);\n",
    "\n",
    "\n",
    "accuracy = accuracy_score(y_test, pred);\n",
    "\n",
    "print(\"Accuracy: \", accuracy);\n",
    "#print(clf.feature_importances_)\n",
    "from sklearn.metrics import confusion_matrix\n",
    "\n",
    "cm = pd.DataFrame(confusion_matrix(y_test, pred));\n",
    "\n",
    "sns.heatmap(cm, annot=True);\n",
    "\n",
    "plt.show();"
   ]
  },
  {
   "cell_type": "code",
   "execution_count": 151,
   "metadata": {},
   "outputs": [
    {
     "name": "stdout",
     "output_type": "stream",
     "text": [
      "0.798126951093\n"
     ]
    }
   ],
   "source": [
    "clf = GradientBoostingClassifier(n_estimators = 200, learning_rate=1.0, max_depth=1, random_state=123).fit(X_train, y_train);\n",
    "\n",
    "pred = clf.predict(X_test);\n",
    "print(clf.score(X_test, y_test));"
   ]
  },
  {
   "cell_type": "code",
   "execution_count": 152,
   "metadata": {
    "scrolled": true
   },
   "outputs": [
    {
     "name": "stdout",
     "output_type": "stream",
     "text": [
      "Accuracy:  0.798126951093\n",
      "[ 0.07   0.065  0.06   0.1    0.085  0.54   0.055  0.005  0.015  0.     0.005]\n"
     ]
    }
   ],
   "source": [
    "accuracy = accuracy_score(y_test, pred);\n",
    "\n",
    "print(\"Accuracy: \", accuracy);\n",
    "print(clf.feature_importances_)"
   ]
  },
  {
   "cell_type": "code",
   "execution_count": 153,
   "metadata": {
    "scrolled": true
   },
   "outputs": [
    {
     "name": "stdout",
     "output_type": "stream",
     "text": [
      "Accuracy:  0.798126951093\n"
     ]
    },
    {
     "data": {
      "image/png": "[encoded data removed]",
      "text/plain": [
       "<matplotlib.figure.Figure at 0x104252a58>"
      ]
     },
     "metadata": {},
     "output_type": "display_data"
    }
   ],
   "source": [
    "from sklearn.metrics import confusion_matrix\n",
    "\n",
    "cm = pd.DataFrame(confusion_matrix(y_test, pred));\n",
    "\n",
    "sns.heatmap(cm, annot=True);\n",
    "print(\"Accuracy: \", accuracy);\n",
    "plt.show();"
   ]
  },
  {
   "cell_type": "code",
   "execution_count": 154,
   "metadata": {
    "collapsed": true
   },
   "outputs": [],
   "source": [
    "#Voting classifier\n",
    "from sklearn.model_selection import cross_val_score\n",
    "from sklearn.ensemble import RandomForestClassifier\n",
    "from sklearn.ensemble import VotingClassifier\n",
    "from sklearn.neighbors import KNeighborsClassifier\n",
    "from itertools import product"
   ]
  },
  {
   "cell_type": "code",
   "execution_count": null,
   "metadata": {
    "collapsed": true
   },
   "outputs": [],
   "source": [
    "clf2 = KNeighborsClassifier(n_neighbors=5)\n",
    "clf4 = RandomForestClassifier(n_estimators=100, oob_score=True, random_state=12345)\n",
    "clf5 = GradientBoostingClassifier(n_estimators = 200, learning_rate=1, max_depth=1, random_state=123)\n",
    "\n",
    "eclf = VotingClassifier(estimators=[ ('knn', clf2),('rforest', clf4), ('gboost', clf5)], voting = 'hard');\n",
    "\n"
   ]
  },
  {
   "cell_type": "code",
   "execution_count": null,
   "metadata": {},
   "outputs": [
    {
     "name": "stdout",
     "output_type": "stream",
     "text": [
      "Accuracy for cross validation run: \n",
      "Accuracy: 0.83 (+/- 0.01) [K Nearest Neighbors]\n"
     ]
    }
   ],
   "source": [
    "print(\"Accuracy for cross validation run: \");\n",
    "for clf, label in zip([clf2, clf4, clf5, eclf], ['K Nearest Neighbors', 'Random Forest', 'Gradient Boost', 'Ensemble']):\n",
    "    scores = cross_val_score(clf, X_train, y_train, cv=5, scoring='accuracy')\n",
    "    print(\"Accuracy: %0.2f (+/- %0.2f) [%s]\" %(scores.mean(), scores.std(), label));\n",
    "eclf = eclf.fit(X_train, y_train);from sklearn.metrics import confusion_matrix\n",
    "pred = eclf.predict(X_test);\n",
    "cm = pd.DataFrame(confusion_matrix(y_test, pred));\n",
    "print(\"Accuracy for test data\");\n",
    "sns.heatmap(cm, annot=True);\n",
    "print(\"Accuracy: \", accuracy);\n",
    "plt.show();"
   ]
  },
  {
   "cell_type": "code",
   "execution_count": null,
   "metadata": {
    "collapsed": true
   },
   "outputs": [],
   "source": []
  }
 ],
 "metadata": {
  "kernelspec": {
   "display_name": "Python 3",
   "language": "python",
   "name": "python3"
  },
  "language_info": {
   "codemirror_mode": {
    "name": "ipython",
    "version": 3
   },
   "file_extension": ".py",
   "mimetype": "text/x-python",
   "name": "python",
   "nbconvert_exporter": "python",
   "pygments_lexer": "ipython3",
   "version": "3.6.2"
  }
 },
 "nbformat": 4,
 "nbformat_minor": 2
}
