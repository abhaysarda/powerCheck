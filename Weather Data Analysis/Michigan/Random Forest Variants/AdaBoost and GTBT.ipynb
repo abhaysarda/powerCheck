{
 "cells": [
  {
   "cell_type": "code",
   "execution_count": 92,
   "metadata": {
    "collapsed": true
   },
   "outputs": [],
   "source": [
    "import numpy as np\n",
    "import pandas as pd\n",
    "import matplotlib.pyplot as plt\n",
    "from sklearn.model_selection import train_test_split\n",
    "from sklearn.ensemble import AdaBoostClassifier\n",
    "from sklearn.ensemble import GradientBoostingClassifier\n",
    "from sklearn.metrics import accuracy_score\n",
    "from sklearn import preprocessing\n",
    "from sklearn.model_selection import cross_val_score\n",
    "import seaborn as sns"
   ]
  },
  {
   "cell_type": "code",
   "execution_count": 93,
   "metadata": {},
   "outputs": [],
   "source": [
    "df = pd.read_csv('Final Data');\n",
    "#Normalize data\n",
    "scaledData = preprocessing.MinMaxScaler().fit_transform(df.values);\n",
    "df = pd.DataFrame(scaledData, index = df.index, columns = df.columns);"
   ]
  },
  {
   "cell_type": "code",
   "execution_count": 94,
   "metadata": {
    "collapsed": true
   },
   "outputs": [],
   "source": [
    "df = df[['Power Outage','Avg Wind Speed Squared','2 min wind speed squared', '5 second wind speed squared','Fog/Ice' ,'Heavy/Freezing Fog']];\n",
    "#df = df[['Power Outage','5 second wind speed squared','2 min wind speed squared','Avg Wind Speed Squared','Fog/Ice','Heavy/Freezing Fog', 'Thunder']];\n",
    "X_train, X_test, y_train, y_test = train_test_split(df.iloc[:,1:], df['Power Outage'], test_size=0.33, random_state = 1234);"
   ]
  },
  {
   "cell_type": "code",
   "execution_count": 95,
   "metadata": {},
   "outputs": [
    {
     "name": "stdout",
     "output_type": "stream",
     "text": [
      "Accuracy:  0.933333333333\n"
     ]
    },
    {
     "data": {
      "image/png": "[encoded data removed]",
      "text/plain": [
       "<matplotlib.figure.Figure at 0x11b93b710>"
      ]
     },
     "metadata": {},
     "output_type": "display_data"
    }
   ],
   "source": [
    "clf = AdaBoostClassifier(n_estimators=100)\n",
    "scores = cross_val_score(clf, df.iloc[:,1:], df.iloc[:,0]);\n",
    "clf.fit(X_train, y_train);\n",
    "pred = clf.predict(X_test);\n",
    "\n",
    "\n",
    "accuracy = accuracy_score(y_test, pred);\n",
    "\n",
    "print(\"Accuracy: \", accuracy);\n",
    "#print(clf.feature_importances_)\n",
    "from sklearn.metrics import confusion_matrix\n",
    "\n",
    "cm = pd.DataFrame(confusion_matrix(y_test, pred));\n",
    "\n",
    "sns.heatmap(cm, annot=True);\n",
    "\n",
    "plt.show();"
   ]
  },
  {
   "cell_type": "code",
   "execution_count": 96,
   "metadata": {},
   "outputs": [
    {
     "name": "stdout",
     "output_type": "stream",
     "text": [
      "0.952380952381\n"
     ]
    }
   ],
   "source": [
    "clf = GradientBoostingClassifier(n_estimators = 200, learning_rate=1.0, max_depth=1, random_state=123).fit(X_train, y_train);\n",
    "\n",
    "pred = clf.predict(X_test);\n",
    "print(clf.score(X_test, y_test));"
   ]
  },
  {
   "cell_type": "code",
   "execution_count": 97,
   "metadata": {
    "scrolled": true
   },
   "outputs": [
    {
     "name": "stdout",
     "output_type": "stream",
     "text": [
      "Accuracy:  0.952380952381\n",
      "[ 0.195  0.355  0.195  0.195  0.06 ]\n"
     ]
    }
   ],
   "source": [
    "accuracy = accuracy_score(y_test, pred);\n",
    "\n",
    "print(\"Accuracy: \", accuracy);\n",
    "print(clf.feature_importances_)"
   ]
  },
  {
   "cell_type": "code",
   "execution_count": 98,
   "metadata": {
    "scrolled": true
   },
   "outputs": [
    {
     "name": "stdout",
     "output_type": "stream",
     "text": [
      "Accuracy:  0.952380952381\n"
     ]
    },
    {
     "data": {
      "image/png": "[encoded data removed]",
      "text/plain": [
       "<matplotlib.figure.Figure at 0x11bdd1a20>"
      ]
     },
     "metadata": {},
     "output_type": "display_data"
    }
   ],
   "source": [
    "from sklearn.metrics import confusion_matrix\n",
    "\n",
    "cm = pd.DataFrame(confusion_matrix(y_test, pred));\n",
    "\n",
    "sns.heatmap(cm, annot=True);\n",
    "print(\"Accuracy: \", accuracy);\n",
    "plt.show();"
   ]
  },
  {
   "cell_type": "code",
   "execution_count": 99,
   "metadata": {
    "collapsed": true
   },
   "outputs": [],
   "source": [
    "#Voting classifier\n",
    "from sklearn.model_selection import cross_val_score\n",
    "from sklearn.ensemble import RandomForestClassifier\n",
    "from sklearn.ensemble import VotingClassifier\n",
    "from sklearn.neighbors import KNeighborsClassifier\n",
    "from itertools import product"
   ]
  },
  {
   "cell_type": "code",
   "execution_count": 100,
   "metadata": {
    "collapsed": true
   },
   "outputs": [],
   "source": [
    "#X=df[['5 second wind speed squared', 'Fog/Ice','Heavy/Freezing Fog']];\n",
    "X=df.iloc[:,1:];\n",
    "y=df['Power Outage'];"
   ]
  },
  {
   "cell_type": "code",
   "execution_count": 103,
   "metadata": {},
   "outputs": [],
   "source": [
    "clf2 = KNeighborsClassifier(n_neighbors=5)\n",
    "clf4 = RandomForestClassifier(n_estimators=100, oob_score=True, random_state=12345)\n",
    "clf5 = GradientBoostingClassifier(n_estimators = 200, learning_rate=1, max_depth=1, random_state=123)\n",
    "\n",
    "eclf = VotingClassifier(estimators=[ ('knn', clf2),('rforest', clf4), ('gboost', clf5)], voting = 'hard');\n",
    "\n"
   ]
  },
  {
   "cell_type": "code",
   "execution_count": 104,
   "metadata": {},
   "outputs": [
    {
     "name": "stdout",
     "output_type": "stream",
     "text": [
      "Accuracy for cross validation run: \n",
      "Accuracy: 0.92 (+/- 0.06) [K Nearest Neighbors]\n",
      "Accuracy: 0.92 (+/- 0.07) [Random Forest]\n",
      "Accuracy: 0.94 (+/- 0.04) [Gradient Boost]\n",
      "Accuracy: 0.94 (+/- 0.06) [Ensemble]\n",
      "Accuracy for test data\n",
      "Accuracy:  0.952380952381\n"
     ]
    },
    {
     "data": {
      "image/png": "[encoded data removed]",
      "text/plain": [
       "<matplotlib.figure.Figure at 0x11be31ac8>"
      ]
     },
     "metadata": {},
     "output_type": "display_data"
    }
   ],
   "source": [
    "print(\"Accuracy for cross validation run: \");\n",
    "for clf, label in zip([clf2, clf4, clf5, eclf], ['K Nearest Neighbors', 'Random Forest', 'Gradient Boost', 'Ensemble']):\n",
    "    scores = cross_val_score(clf, X, y, cv=5, scoring='accuracy')\n",
    "    print(\"Accuracy: %0.2f (+/- %0.2f) [%s]\" %(scores.mean(), scores.std(), label));\n",
    "eclf = eclf.fit(X,y);from sklearn.metrics import confusion_matrix\n",
    "pred = eclf.predict(X_test);\n",
    "cm = pd.DataFrame(confusion_matrix(y_test, pred));\n",
    "print(\"Accuracy for test data\");\n",
    "sns.heatmap(cm, annot=True);\n",
    "print(\"Accuracy: \", accuracy);\n",
    "plt.show();"
   ]
  },
  {
   "cell_type": "code",
   "execution_count": null,
   "metadata": {
    "collapsed": true
   },
   "outputs": [],
   "source": []
  }
 ],
 "metadata": {
  "kernelspec": {
   "display_name": "Python 3",
   "language": "python",
   "name": "python3"
  },
  "language_info": {
   "codemirror_mode": {
    "name": "ipython",
    "version": 3
   },
   "file_extension": ".py",
   "mimetype": "text/x-python",
   "name": "python",
   "nbconvert_exporter": "python",
   "pygments_lexer": "ipython3",
   "version": "3.6.2"
  }
 },
 "nbformat": 4,
 "nbformat_minor": 2
}
