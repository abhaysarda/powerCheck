{
 "cells": [
  {
   "cell_type": "code",
   "execution_count": 9,
   "metadata": {
    "collapsed": true
   },
   "outputs": [],
   "source": [
    "import numpy as np\n",
    "import pandas as pd\n",
    "import matplotlib.pyplot as plt\n",
    "import seaborn as sns\n",
    "from sklearn import preprocessing\n",
    "from imblearn.over_sampling import SMOTE \n",
    "from imblearn.under_sampling import ClusterCentroids\n",
    "from sklearn.model_selection import train_test_split"
   ]
  },
  {
   "cell_type": "code",
   "execution_count": 10,
   "metadata": {},
   "outputs": [
    {
     "name": "stdout",
     "output_type": "stream",
     "text": [
      "             PRCP        TMAX  5 second wind speed squared  \\\n",
      "count  318.000000  318.000000                   318.000000   \n",
      "mean     0.075122    0.619488                     0.109774   \n",
      "std      0.148938    0.205566                     0.185419   \n",
      "min      0.000000    0.000000                     0.000000   \n",
      "25%      0.000000    0.450980                     0.015994   \n",
      "50%      0.011662    0.663501                     0.036915   \n",
      "75%      0.072998    0.779412                     0.109737   \n",
      "max      1.000000    1.000000                     1.000000   \n",
      "\n",
      "       2 min wind speed squared  Avg Wind Speed Squared     Fog/Ice  \\\n",
      "count                318.000000              318.000000  318.000000   \n",
      "mean                   0.108352                0.174002    0.511540   \n",
      "std                    0.136324                0.186327    0.442045   \n",
      "min                    0.000000                0.000000    0.000000   \n",
      "25%                    0.032261                0.054280    0.000000   \n",
      "50%                    0.067961                0.108732    0.419872   \n",
      "75%                    0.130270                0.220255    1.000000   \n",
      "max                    1.000000                1.000000    1.000000   \n",
      "\n",
      "       Heavy/Freezing Fog       Thunder    Smoke/Haze  Power Outage  \n",
      "count        3.180000e+02  3.180000e+02  3.180000e+02    318.000000  \n",
      "mean         1.503688e-01  1.317914e-01  2.098480e-01      0.500000  \n",
      "std          3.122838e-01  3.110567e-01  3.568476e-01      0.500788  \n",
      "min          0.000000e+00  0.000000e+00  0.000000e+00      0.000000  \n",
      "25%          2.775558e-17  2.775558e-17  2.775558e-17      0.000000  \n",
      "50%          2.775558e-17  2.775558e-17  2.775558e-17      0.500000  \n",
      "75%          1.073059e-01  2.895067e-02  2.000000e-01      1.000000  \n",
      "max          1.000000e+00  1.000000e+00  1.000000e+00      1.000000  \n"
     ]
    }
   ],
   "source": [
    "df = pd.read_csv('Final Data');\n",
    "#Normalize data\n",
    "scaledData = preprocessing.MinMaxScaler().fit_transform(df.values);\n",
    "df = pd.DataFrame(scaledData, index = df.index, columns = df.columns);\n",
    "print(df.describe());"
   ]
  },
  {
   "cell_type": "code",
   "execution_count": 11,
   "metadata": {
    "collapsed": true
   },
   "outputs": [],
   "source": [
    "df = df[['Power Outage','2 min wind speed squared','Avg Wind Speed Squared','5 second wind speed squared','Fog/Ice' ,'Heavy/Freezing Fog']];"
   ]
  },
  {
   "cell_type": "code",
   "execution_count": null,
   "metadata": {
    "collapsed": true
   },
   "outputs": [],
   "source": []
  },
  {
   "cell_type": "code",
   "execution_count": 12,
   "metadata": {
    "collapsed": true
   },
   "outputs": [],
   "source": [
    "X_train, X_test, y_train, y_test = train_test_split(df.iloc[:,1:], df['Power Outage'], test_size=0.33, random_state = 1234);"
   ]
  },
  {
   "cell_type": "code",
   "execution_count": 13,
   "metadata": {
    "collapsed": true
   },
   "outputs": [],
   "source": [
    "from sklearn.ensemble import RandomForestClassifier\n",
    "\n",
    "rf = RandomForestClassifier(n_estimators=100, oob_score=True, random_state=12345);\n",
    "rf.fit(X_train, y_train);"
   ]
  },
  {
   "cell_type": "code",
   "execution_count": 14,
   "metadata": {},
   "outputs": [
    {
     "name": "stdout",
     "output_type": "stream",
     "text": [
      "Score estimate:0.948\n",
      "Accuracy:  0.942857142857\n",
      "[ 0.11953034  0.0867079   0.32523717  0.30420419  0.16432039]\n"
     ]
    }
   ],
   "source": [
    "from sklearn.metrics import accuracy_score\n",
    "\n",
    "pred = rf.predict(X_test)\n",
    "accuracy = accuracy_score(y_test, pred);\n",
    "\n",
    "print(f'Score estimate:{rf.oob_score_:.3}');\n",
    "print(\"Accuracy: \", accuracy);\n",
    "print(rf.feature_importances_)"
   ]
  },
  {
   "cell_type": "code",
   "execution_count": 15,
   "metadata": {},
   "outputs": [
    {
     "name": "stdout",
     "output_type": "stream",
     "text": [
      "Accuracy:  0.942857142857\n"
     ]
    },
    {
     "data": {
      "image/png": "[encoded data removed]",
      "text/plain": [
       "<matplotlib.figure.Figure at 0x114fa1630>"
      ]
     },
     "metadata": {},
     "output_type": "display_data"
    }
   ],
   "source": [
    "from sklearn.metrics import confusion_matrix\n",
    "\n",
    "cm = pd.DataFrame(confusion_matrix(y_test, pred));\n",
    "\n",
    "sns.heatmap(cm, annot=True);\n",
    "print(\"Accuracy: \", accuracy);\n",
    "plt.show();"
   ]
  },
  {
   "cell_type": "code",
   "execution_count": null,
   "metadata": {
    "collapsed": true
   },
   "outputs": [],
   "source": []
  }
 ],
 "metadata": {
  "kernelspec": {
   "display_name": "Python 3",
   "language": "python",
   "name": "python3"
  },
  "language_info": {
   "codemirror_mode": {
    "name": "ipython",
    "version": 3
   },
   "file_extension": ".py",
   "mimetype": "text/x-python",
   "name": "python",
   "nbconvert_exporter": "python",
   "pygments_lexer": "ipython3",
   "version": "3.6.2"
  }
 },
 "nbformat": 4,
 "nbformat_minor": 2
}
