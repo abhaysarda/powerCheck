{
 "cells": [
  {
   "cell_type": "code",
   "execution_count": 1,
   "metadata": {
    "collapsed": true
   },
   "outputs": [],
   "source": [
    "import numpy as np\n",
    "import pandas as pd\n",
    "import matplotlib.pyplot as plt\n",
    "import seaborn as sns\n",
    "from sklearn import preprocessing\n",
    "from imblearn.over_sampling import SMOTE \n",
    "from imblearn.under_sampling import ClusterCentroids\n",
    "from sklearn.model_selection import train_test_split"
   ]
  },
  {
   "cell_type": "code",
   "execution_count": 2,
   "metadata": {},
   "outputs": [
    {
     "name": "stdout",
     "output_type": "stream",
     "text": [
      "              PRCP  Delta T Min  Delta T Max         TMAX  \\\n",
      "count  2910.000000  2910.000000  2910.000000  2910.000000   \n",
      "mean      0.019899     0.217197     0.448535     0.502817   \n",
      "std       0.056304     0.219058     0.292105     0.352508   \n",
      "min       0.000000     0.000000     0.000000     0.000000   \n",
      "25%       0.000000     0.021786     0.165847     0.134172   \n",
      "50%       0.000000     0.164758     0.496130     0.495807   \n",
      "75%       0.007500     0.370706     0.684559     0.865828   \n",
      "max       1.000000     1.000000     1.000000     1.000000   \n",
      "\n",
      "       5 second wind speed squared  2 min wind speed squared  \\\n",
      "count                  2910.000000               2910.000000   \n",
      "mean                      0.031864                  0.057726   \n",
      "std                       0.071300                  0.059636   \n",
      "min                       0.000000                  0.000000   \n",
      "25%                       0.010548                  0.028859   \n",
      "50%                       0.016690                  0.041951   \n",
      "75%                       0.028260                  0.069620   \n",
      "max                       1.000000                  1.000000   \n",
      "\n",
      "       Avg Wind Speed Squared      Fog/Ice  Heavy/Freezing Fog      Thunder  \\\n",
      "count             2910.000000  2910.000000         2910.000000  2910.000000   \n",
      "mean                 0.133314     0.344674            0.100344     0.053265   \n",
      "std                  0.128751     0.475343            0.300509     0.224599   \n",
      "min                  0.000000     0.000000            0.000000     0.000000   \n",
      "25%                  0.045024     0.000000            0.000000     0.000000   \n",
      "50%                  0.097886     0.000000            0.000000     0.000000   \n",
      "75%                  0.180098     1.000000            0.000000     0.000000   \n",
      "max                  1.000000     1.000000            1.000000     1.000000   \n",
      "\n",
      "        Smoke/Haze  Power Outage  \n",
      "count  2910.000000   2910.000000  \n",
      "mean      0.150172      0.054639  \n",
      "std       0.357301      0.227314  \n",
      "min       0.000000      0.000000  \n",
      "25%       0.000000      0.000000  \n",
      "50%       0.000000      0.000000  \n",
      "75%       0.000000      0.000000  \n",
      "max       1.000000      1.000000  \n"
     ]
    }
   ],
   "source": [
    "df = pd.read_csv('Final Data');\n",
    "#Normalize data\n",
    "scaledData = preprocessing.MinMaxScaler().fit_transform(df.values);\n",
    "df = pd.DataFrame(scaledData, index = df.index, columns = df.columns);\n",
    "print(df.describe());"
   ]
  },
  {
   "cell_type": "code",
   "execution_count": 3,
   "metadata": {
    "collapsed": true
   },
   "outputs": [],
   "source": [
    "df = df[['Power Outage','2 min wind speed squared','Avg Wind Speed Squared','5 second wind speed squared','Fog/Ice' ,'Heavy/Freezing Fog']];"
   ]
  },
  {
   "cell_type": "code",
   "execution_count": null,
   "metadata": {
    "collapsed": true
   },
   "outputs": [],
   "source": []
  },
  {
   "cell_type": "code",
   "execution_count": 4,
   "metadata": {
    "collapsed": true
   },
   "outputs": [],
   "source": [
    "X_train, X_test, y_train, y_test = train_test_split(df.iloc[:,1:], df['Power Outage'], test_size=0.33, random_state = 1234);"
   ]
  },
  {
   "cell_type": "code",
   "execution_count": 5,
   "metadata": {
    "collapsed": true
   },
   "outputs": [],
   "source": [
    "from sklearn.ensemble import RandomForestClassifier\n",
    "\n",
    "rf = RandomForestClassifier(n_estimators=100, oob_score=True, random_state=12345);\n",
    "rf.fit(X_train, y_train);"
   ]
  },
  {
   "cell_type": "code",
   "execution_count": 6,
   "metadata": {},
   "outputs": [
    {
     "name": "stdout",
     "output_type": "stream",
     "text": [
      "Score estimate:0.934\n",
      "Accuracy:  0.935483870968\n",
      "[ 0.23199704  0.43358464  0.2822695   0.03134259  0.02080622]\n"
     ]
    }
   ],
   "source": [
    "from sklearn.metrics import accuracy_score\n",
    "\n",
    "pred = rf.predict(X_test)\n",
    "accuracy = accuracy_score(y_test, pred);\n",
    "\n",
    "print(f'Score estimate:{rf.oob_score_:.3}');\n",
    "print(\"Accuracy: \", accuracy);\n",
    "print(rf.feature_importances_)"
   ]
  },
  {
   "cell_type": "code",
   "execution_count": 7,
   "metadata": {},
   "outputs": [
    {
     "name": "stdout",
     "output_type": "stream",
     "text": [
      "Accuracy:  0.935483870968\n"
     ]
    },
    {
     "data": {
      "image/png": "[encoded data removed]",
      "text/plain": [
       "<matplotlib.figure.Figure at 0x115971a90>"
      ]
     },
     "metadata": {},
     "output_type": "display_data"
    }
   ],
   "source": [
    "from sklearn.metrics import confusion_matrix\n",
    "\n",
    "cm = pd.DataFrame(confusion_matrix(y_test, pred));\n",
    "\n",
    "sns.heatmap(cm, annot=True);\n",
    "print(\"Accuracy: \", accuracy);\n",
    "plt.show();"
   ]
  },
  {
   "cell_type": "code",
   "execution_count": null,
   "metadata": {
    "collapsed": true
   },
   "outputs": [],
   "source": []
  }
 ],
 "metadata": {
  "kernelspec": {
   "display_name": "Python 3",
   "language": "python",
   "name": "python3"
  },
  "language_info": {
   "codemirror_mode": {
    "name": "ipython",
    "version": 3
   },
   "file_extension": ".py",
   "mimetype": "text/x-python",
   "name": "python",
   "nbconvert_exporter": "python",
   "pygments_lexer": "ipython3",
   "version": "3.6.2"
  }
 },
 "nbformat": 4,
 "nbformat_minor": 2
}
