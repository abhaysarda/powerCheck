{
 "cells": [
  {
   "cell_type": "code",
   "execution_count": 73,
   "metadata": {
    "collapsed": true
   },
   "outputs": [],
   "source": [
    "import numpy as np\n",
    "import pandas as pd\n",
    "import matplotlib.pyplot as plt\n",
    "from sklearn.model_selection import train_test_split\n",
    "from sklearn.ensemble import AdaBoostClassifier\n",
    "from sklearn.ensemble import GradientBoostingClassifier\n",
    "from sklearn.metrics import accuracy_score\n",
    "from sklearn import preprocessing\n",
    "from sklearn.model_selection import cross_val_score\n",
    "import seaborn as sns"
   ]
  },
  {
   "cell_type": "code",
   "execution_count": 74,
   "metadata": {},
   "outputs": [
    {
     "data": {
      "text/html": [
       "<div>\n",
       "<style>\n",
       "    .dataframe thead tr:only-child th {\n",
       "        text-align: right;\n",
       "    }\n",
       "\n",
       "    .dataframe thead th {\n",
       "        text-align: left;\n",
       "    }\n",
       "\n",
       "    .dataframe tbody tr th {\n",
       "        vertical-align: top;\n",
       "    }\n",
       "</style>\n",
       "<table border=\"1\" class=\"dataframe\">\n",
       "  <thead>\n",
       "    <tr style=\"text-align: right;\">\n",
       "      <th></th>\n",
       "      <th>PRCP</th>\n",
       "      <th>Delta T Min</th>\n",
       "      <th>Delta T Max</th>\n",
       "      <th>TMAX</th>\n",
       "      <th>5 second wind speed squared</th>\n",
       "      <th>2 min wind speed squared</th>\n",
       "      <th>Avg Wind Speed Squared</th>\n",
       "      <th>Fog/Ice</th>\n",
       "      <th>Heavy/Freezing Fog</th>\n",
       "      <th>Thunder</th>\n",
       "      <th>Smoke/Haze</th>\n",
       "    </tr>\n",
       "  </thead>\n",
       "  <tbody>\n",
       "    <tr>\n",
       "      <th>0</th>\n",
       "      <td>0.000</td>\n",
       "      <td>0.000000</td>\n",
       "      <td>0.000000</td>\n",
       "      <td>0.471698</td>\n",
       "      <td>0.005809</td>\n",
       "      <td>0.014808</td>\n",
       "      <td>0.036815</td>\n",
       "      <td>0.0</td>\n",
       "      <td>0.0</td>\n",
       "      <td>0.0</td>\n",
       "      <td>0.0</td>\n",
       "    </tr>\n",
       "    <tr>\n",
       "      <th>1</th>\n",
       "      <td>0.000</td>\n",
       "      <td>0.000054</td>\n",
       "      <td>0.000886</td>\n",
       "      <td>0.487421</td>\n",
       "      <td>0.019600</td>\n",
       "      <td>0.057484</td>\n",
       "      <td>0.154984</td>\n",
       "      <td>0.0</td>\n",
       "      <td>0.0</td>\n",
       "      <td>0.0</td>\n",
       "      <td>0.0</td>\n",
       "    </tr>\n",
       "    <tr>\n",
       "      <th>2</th>\n",
       "      <td>0.000</td>\n",
       "      <td>0.001362</td>\n",
       "      <td>0.000016</td>\n",
       "      <td>0.473795</td>\n",
       "      <td>0.011571</td>\n",
       "      <td>0.037627</td>\n",
       "      <td>0.104491</td>\n",
       "      <td>0.0</td>\n",
       "      <td>0.0</td>\n",
       "      <td>0.0</td>\n",
       "      <td>0.0</td>\n",
       "    </tr>\n",
       "    <tr>\n",
       "      <th>3</th>\n",
       "      <td>0.005</td>\n",
       "      <td>0.012255</td>\n",
       "      <td>0.000319</td>\n",
       "      <td>0.481132</td>\n",
       "      <td>0.003535</td>\n",
       "      <td>0.009524</td>\n",
       "      <td>0.019968</td>\n",
       "      <td>1.0</td>\n",
       "      <td>0.0</td>\n",
       "      <td>0.0</td>\n",
       "      <td>0.0</td>\n",
       "    </tr>\n",
       "    <tr>\n",
       "      <th>4</th>\n",
       "      <td>0.000</td>\n",
       "      <td>0.002301</td>\n",
       "      <td>0.000016</td>\n",
       "      <td>0.473795</td>\n",
       "      <td>0.012885</td>\n",
       "      <td>0.041951</td>\n",
       "      <td>0.049338</td>\n",
       "      <td>0.0</td>\n",
       "      <td>0.0</td>\n",
       "      <td>0.0</td>\n",
       "      <td>0.0</td>\n",
       "    </tr>\n",
       "  </tbody>\n",
       "</table>\n",
       "</div>"
      ],
      "text/plain": [
       "    PRCP  Delta T Min  Delta T Max      TMAX  5 second wind speed squared  \\\n",
       "0  0.000     0.000000     0.000000  0.471698                     0.005809   \n",
       "1  0.000     0.000054     0.000886  0.487421                     0.019600   \n",
       "2  0.000     0.001362     0.000016  0.473795                     0.011571   \n",
       "3  0.005     0.012255     0.000319  0.481132                     0.003535   \n",
       "4  0.000     0.002301     0.000016  0.473795                     0.012885   \n",
       "\n",
       "   2 min wind speed squared  Avg Wind Speed Squared  Fog/Ice  \\\n",
       "0                  0.014808                0.036815      0.0   \n",
       "1                  0.057484                0.154984      0.0   \n",
       "2                  0.037627                0.104491      0.0   \n",
       "3                  0.009524                0.019968      1.0   \n",
       "4                  0.041951                0.049338      0.0   \n",
       "\n",
       "   Heavy/Freezing Fog  Thunder  Smoke/Haze  \n",
       "0                 0.0      0.0         0.0  \n",
       "1                 0.0      0.0         0.0  \n",
       "2                 0.0      0.0         0.0  \n",
       "3                 0.0      0.0         0.0  \n",
       "4                 0.0      0.0         0.0  "
      ]
     },
     "execution_count": 74,
     "metadata": {},
     "output_type": "execute_result"
    }
   ],
   "source": [
    "df = pd.read_csv('Final Data');\n",
    "po = df['Power Outage'];\n",
    "df = df.drop(['Power Outage'], axis = 1);\n",
    "X_train, X_test, y_train, y_test = train_test_split(df, po, test_size=0.33, random_state = 1234);\n",
    "df.head()"
   ]
  },
  {
   "cell_type": "code",
   "execution_count": 75,
   "metadata": {},
   "outputs": [
    {
     "name": "stdout",
     "output_type": "stream",
     "text": [
      "Before sampling ratio\n",
      "0.0    1838\n",
      "1.0     111\n",
      "Name: Power Outage, dtype: int64\n",
      "Final counts after undersampling the zeroes\n",
      "0.0    1110\n",
      "1.0     111\n",
      "Name: Power Outage, dtype: int64\n"
     ]
    },
    {
     "name": "stderr",
     "output_type": "stream",
     "text": [
      "/anaconda3/lib/python3.6/site-packages/sklearn/utils/deprecation.py:75: DeprecationWarning: Function _ratio_float is deprecated; Use a float for 'ratio' is deprecated from version 0.2. The support will be removed in 0.4. Use a dict, str, or a callable instead.\n",
      "  warnings.warn(msg, category=DeprecationWarning)\n"
     ]
    },
    {
     "data": {
      "text/html": [
       "<div>\n",
       "<style>\n",
       "    .dataframe thead tr:only-child th {\n",
       "        text-align: right;\n",
       "    }\n",
       "\n",
       "    .dataframe thead th {\n",
       "        text-align: left;\n",
       "    }\n",
       "\n",
       "    .dataframe tbody tr th {\n",
       "        vertical-align: top;\n",
       "    }\n",
       "</style>\n",
       "<table border=\"1\" class=\"dataframe\">\n",
       "  <thead>\n",
       "    <tr style=\"text-align: right;\">\n",
       "      <th></th>\n",
       "      <th>Power Outage</th>\n",
       "      <th>PRCP</th>\n",
       "      <th>Delta T Min</th>\n",
       "      <th>Delta T Max</th>\n",
       "      <th>TMAX</th>\n",
       "      <th>5 second wind speed squared</th>\n",
       "      <th>2 min wind speed squared</th>\n",
       "      <th>Avg Wind Speed Squared</th>\n",
       "      <th>Fog/Ice</th>\n",
       "      <th>Heavy/Freezing Fog</th>\n",
       "      <th>Thunder</th>\n",
       "      <th>Smoke/Haze</th>\n",
       "    </tr>\n",
       "  </thead>\n",
       "  <tbody>\n",
       "    <tr>\n",
       "      <th>0</th>\n",
       "      <td>0.0</td>\n",
       "      <td>0.0025</td>\n",
       "      <td>0.025177</td>\n",
       "      <td>0.000035</td>\n",
       "      <td>0.468553</td>\n",
       "      <td>0.009572</td>\n",
       "      <td>0.028859</td>\n",
       "      <td>0.118038</td>\n",
       "      <td>0.0</td>\n",
       "      <td>0.0</td>\n",
       "      <td>0.0</td>\n",
       "      <td>0.0</td>\n",
       "    </tr>\n",
       "    <tr>\n",
       "      <th>1</th>\n",
       "      <td>0.0</td>\n",
       "      <td>0.1400</td>\n",
       "      <td>0.589099</td>\n",
       "      <td>0.671489</td>\n",
       "      <td>0.904612</td>\n",
       "      <td>0.032012</td>\n",
       "      <td>0.082916</td>\n",
       "      <td>0.154984</td>\n",
       "      <td>1.0</td>\n",
       "      <td>0.0</td>\n",
       "      <td>0.0</td>\n",
       "      <td>0.0</td>\n",
       "    </tr>\n",
       "    <tr>\n",
       "      <th>2</th>\n",
       "      <td>0.0</td>\n",
       "      <td>0.0000</td>\n",
       "      <td>0.259310</td>\n",
       "      <td>0.308642</td>\n",
       "      <td>0.178197</td>\n",
       "      <td>0.015457</td>\n",
       "      <td>0.011498</td>\n",
       "      <td>0.012335</td>\n",
       "      <td>0.0</td>\n",
       "      <td>0.0</td>\n",
       "      <td>0.0</td>\n",
       "      <td>0.0</td>\n",
       "    </tr>\n",
       "    <tr>\n",
       "      <th>3</th>\n",
       "      <td>0.0</td>\n",
       "      <td>0.0000</td>\n",
       "      <td>0.000123</td>\n",
       "      <td>0.510204</td>\n",
       "      <td>0.849057</td>\n",
       "      <td>0.021458</td>\n",
       "      <td>0.028859</td>\n",
       "      <td>0.033103</td>\n",
       "      <td>0.0</td>\n",
       "      <td>0.0</td>\n",
       "      <td>0.0</td>\n",
       "      <td>0.0</td>\n",
       "    </tr>\n",
       "    <tr>\n",
       "      <th>4</th>\n",
       "      <td>0.0</td>\n",
       "      <td>0.0200</td>\n",
       "      <td>0.150121</td>\n",
       "      <td>0.652120</td>\n",
       "      <td>0.045073</td>\n",
       "      <td>0.008444</td>\n",
       "      <td>0.028859</td>\n",
       "      <td>0.104491</td>\n",
       "      <td>1.0</td>\n",
       "      <td>0.0</td>\n",
       "      <td>0.0</td>\n",
       "      <td>0.0</td>\n",
       "    </tr>\n",
       "  </tbody>\n",
       "</table>\n",
       "</div>"
      ],
      "text/plain": [
       "   Power Outage    PRCP  Delta T Min  Delta T Max      TMAX  \\\n",
       "0           0.0  0.0025     0.025177     0.000035  0.468553   \n",
       "1           0.0  0.1400     0.589099     0.671489  0.904612   \n",
       "2           0.0  0.0000     0.259310     0.308642  0.178197   \n",
       "3           0.0  0.0000     0.000123     0.510204  0.849057   \n",
       "4           0.0  0.0200     0.150121     0.652120  0.045073   \n",
       "\n",
       "   5 second wind speed squared  2 min wind speed squared  \\\n",
       "0                     0.009572                  0.028859   \n",
       "1                     0.032012                  0.082916   \n",
       "2                     0.015457                  0.011498   \n",
       "3                     0.021458                  0.028859   \n",
       "4                     0.008444                  0.028859   \n",
       "\n",
       "   Avg Wind Speed Squared  Fog/Ice  Heavy/Freezing Fog  Thunder  Smoke/Haze  \n",
       "0                0.118038      0.0                 0.0      0.0         0.0  \n",
       "1                0.154984      1.0                 0.0      0.0         0.0  \n",
       "2                0.012335      0.0                 0.0      0.0         0.0  \n",
       "3                0.033103      0.0                 0.0      0.0         0.0  \n",
       "4                0.104491      1.0                 0.0      0.0         0.0  "
      ]
     },
     "execution_count": 75,
     "metadata": {},
     "output_type": "execute_result"
    }
   ],
   "source": [
    "#Undersample the number of zeroes\n",
    "import pandas_ml as pdml\n",
    "df_ML = pdml.ModelFrame(X_train, target = y_train)\n",
    "print(\"Before sampling ratio\");\n",
    "print(df_ML.target.value_counts());\n",
    "sampler = df_ML.imbalance.under_sampling.RandomUnderSampler(ratio=0.1);\n",
    "df_ML = df_ML.fit_sample(sampler);\n",
    "print(\"Final counts after undersampling the zeroes\");\n",
    "print(df_ML.target.value_counts());\n",
    "X_train = df_ML.iloc[:,1:];\n",
    "y_train = df_ML['Power Outage'];\n",
    "df_ML.head()"
   ]
  },
  {
   "cell_type": "code",
   "execution_count": 76,
   "metadata": {},
   "outputs": [
    {
     "name": "stderr",
     "output_type": "stream",
     "text": [
      "/anaconda3/lib/python3.6/site-packages/sklearn/utils/deprecation.py:75: DeprecationWarning: Function _ratio_float is deprecated; Use a float for 'ratio' is deprecated from version 0.2. The support will be removed in 0.4. Use a dict, str, or a callable instead.\n",
      "  warnings.warn(msg, category=DeprecationWarning)\n"
     ]
    }
   ],
   "source": [
    "#Oversampling the number of ones\n",
    "from imblearn.over_sampling import SMOTE\n",
    "sampler = SMOTE(random_state=44, ratio=1);\n",
    "X_train, y_train = sampler.fit_sample(X_train, y_train);"
   ]
  },
  {
   "cell_type": "code",
   "execution_count": 87,
   "metadata": {},
   "outputs": [
    {
     "name": "stdout",
     "output_type": "stream",
     "text": [
      "0.8348826884258116\n",
      "Best parameters: {'base_estimator__criterion': 'entropy', 'base_estimator__splitter': 'best', 'n_estimators': 50}\n",
      "Accuracy:  0.800208116545\n",
      "[ 0.06822993  0.15423684  0.18004655  0.08628185  0.18187479  0.11738676\n",
      "  0.14137482  0.02394082  0.00821245  0.00429981  0.03411541]\n"
     ]
    },
    {
     "data": {
      "image/png": "[encoded data removed]",
      "text/plain": [
       "<matplotlib.figure.Figure at 0x1126480f0>"
      ]
     },
     "metadata": {},
     "output_type": "display_data"
    },
    {
     "name": "stdout",
     "output_type": "stream",
     "text": [
      "               precision    recall  f1-score   support\n",
      "\n",
      "  Normal Days       0.95      0.83      0.89       913\n",
      "Power Outages       0.06      0.21      0.09        48\n",
      "\n",
      "  avg / total       0.91      0.80      0.85       961\n",
      "\n"
     ]
    }
   ],
   "source": [
    "from sklearn.tree import DecisionTreeClassifier\n",
    "from sklearn.ensemble import AdaBoostClassifier\n",
    "from sklearn.grid_search import GridSearchCV\n",
    "\n",
    "param_grid = {\"base_estimator__criterion\" : [\"gini\", \"entropy\"],\n",
    "              \"base_estimator__splitter\" :   [\"best\", \"random\"],\n",
    "              \"n_estimators\": [50, 75 ,100, 150]\n",
    "             }\n",
    "\n",
    "\n",
    "DTC = DecisionTreeClassifier(random_state = 11, max_features = \"auto\", class_weight = balanced, max_depth = None)\n",
    "\n",
    "ABC = AdaBoostClassifier(base_estimator = DTC)\n",
    "\n",
    "# run grid search\n",
    "grid_search_ABC = GridSearchCV(ABC, param_grid=param_grid, scoring = 'f1_weighted')\n",
    "\n",
    "grid_search_ABC.fit(X_train, y_train);\n",
    "print(grid_search_ABC.best_score_);\n",
    "print('Best parameters: {}'.format(grid_search_ABC.best_params_));\n",
    "clf = grid_search_ABC.best_estimator_;\n",
    "\n",
    "\n",
    "clf.fit(X_train, y_train);\n",
    "scores = cross_val_score(clf, X_train, y_train);\n",
    "pred = clf.predict(X_test);\n",
    "\n",
    "\n",
    "accuracy = accuracy_score(y_test, pred);\n",
    "print(\"Accuracy: \", accuracy);\n",
    "print(clf.feature_importances_)\n",
    "from sklearn.metrics import confusion_matrix\n",
    "\n",
    "cm = pd.DataFrame(confusion_matrix(y_test, pred));\n",
    "\n",
    "sns.heatmap(cm, annot=True);\n",
    "\n",
    "plt.show();\n",
    "from sklearn.metrics import classification_report\n",
    "print(classification_report(y_test, pred, target_names = ['Normal Days', 'Power Outages']));\n"
   ]
  },
  {
   "cell_type": "code",
   "execution_count": 78,
   "metadata": {},
   "outputs": [
    {
     "name": "stdout",
     "output_type": "stream",
     "text": [
      "Accuracy:  0.766909469303\n"
     ]
    },
    {
     "data": {
      "image/png": "[encoded data removed]",
      "text/plain": [
       "<matplotlib.figure.Figure at 0x116225b00>"
      ]
     },
     "metadata": {},
     "output_type": "display_data"
    }
   ],
   "source": [
    "clf = AdaBoostClassifier(n_estimators=100)\n",
    "scores = cross_val_score(clf, X_train, y_train);\n",
    "clf.fit(X_train, y_train);\n",
    "pred = clf.predict(X_test);\n",
    "\n",
    "\n",
    "accuracy = accuracy_score(y_test, pred);\n",
    "\n",
    "print(\"Accuracy: \", accuracy);\n",
    "#print(clf.feature_importances_)\n",
    "from sklearn.metrics import confusion_matrix\n",
    "\n",
    "cm = pd.DataFrame(confusion_matrix(y_test, pred));\n",
    "\n",
    "sns.heatmap(cm, annot=True);\n",
    "\n",
    "plt.show();"
   ]
  },
  {
   "cell_type": "code",
   "execution_count": 79,
   "metadata": {},
   "outputs": [
    {
     "name": "stdout",
     "output_type": "stream",
     "text": [
      "0.810613943809\n"
     ]
    }
   ],
   "source": [
    "clf = GradientBoostingClassifier(n_estimators = 200, learning_rate=1.0, max_depth=1, random_state=123).fit(X_train, y_train);\n",
    "\n",
    "pred = clf.predict(X_test);\n",
    "print(clf.score(X_test, y_test));"
   ]
  },
  {
   "cell_type": "code",
   "execution_count": 80,
   "metadata": {
    "scrolled": true
   },
   "outputs": [
    {
     "name": "stdout",
     "output_type": "stream",
     "text": [
      "Accuracy:  0.810613943809\n",
      "[ 0.11   0.06   0.07   0.07   0.105  0.505  0.055  0.005  0.015  0.     0.005]\n"
     ]
    }
   ],
   "source": [
    "accuracy = accuracy_score(y_test, pred);\n",
    "\n",
    "print(\"Accuracy: \", accuracy);\n",
    "print(clf.feature_importances_)"
   ]
  },
  {
   "cell_type": "code",
   "execution_count": 81,
   "metadata": {
    "scrolled": true
   },
   "outputs": [
    {
     "name": "stdout",
     "output_type": "stream",
     "text": [
      "Accuracy:  0.810613943809\n"
     ]
    },
    {
     "data": {
      "image/png": "[encoded data removed]",
      "text/plain": [
       "<matplotlib.figure.Figure at 0x116881cf8>"
      ]
     },
     "metadata": {},
     "output_type": "display_data"
    }
   ],
   "source": [
    "from sklearn.metrics import confusion_matrix\n",
    "\n",
    "cm = pd.DataFrame(confusion_matrix(y_test, pred));\n",
    "\n",
    "sns.heatmap(cm, annot=True);\n",
    "print(\"Accuracy: \", accuracy);\n",
    "plt.show();"
   ]
  },
  {
   "cell_type": "code",
   "execution_count": 82,
   "metadata": {
    "collapsed": true
   },
   "outputs": [],
   "source": [
    "#Voting classifier\n",
    "from sklearn.model_selection import cross_val_score\n",
    "from sklearn.ensemble import RandomForestClassifier\n",
    "from sklearn.ensemble import VotingClassifier\n",
    "from sklearn.neighbors import KNeighborsClassifier\n",
    "from itertools import product"
   ]
  },
  {
   "cell_type": "code",
   "execution_count": 83,
   "metadata": {
    "collapsed": true
   },
   "outputs": [],
   "source": [
    "clf2 = KNeighborsClassifier(n_neighbors=5)\n",
    "clf4 = RandomForestClassifier(n_estimators=100, oob_score=True, random_state=12345)\n",
    "clf5 = GradientBoostingClassifier(n_estimators = 200, learning_rate=1, max_depth=1, random_state=123)\n",
    "\n",
    "eclf = VotingClassifier(estimators=[ ('knn', clf2),('rforest', clf4), ('gboost', clf5)], voting = 'hard');\n",
    "\n"
   ]
  },
  {
   "cell_type": "code",
   "execution_count": 84,
   "metadata": {},
   "outputs": [
    {
     "name": "stdout",
     "output_type": "stream",
     "text": [
      "Accuracy for cross validation run: \n",
      "Accuracy: 0.81 (+/- 0.02) [K Nearest Neighbors]\n",
      "Accuracy: 0.90 (+/- 0.02) [Random Forest]\n",
      "Accuracy: 0.85 (+/- 0.06) [Gradient Boost]\n",
      "Accuracy: 0.90 (+/- 0.03) [Ensemble]\n",
      "Accuracy for test data\n",
      "Accuracy:  0.810613943809\n"
     ]
    },
    {
     "data": {
      "image/png": "[encoded data removed]",
      "text/plain": [
       "<matplotlib.figure.Figure at 0x115ceda20>"
      ]
     },
     "metadata": {},
     "output_type": "display_data"
    }
   ],
   "source": [
    "print(\"Accuracy for cross validation run: \");\n",
    "for clf, label in zip([clf2, clf4, clf5, eclf], ['K Nearest Neighbors', 'Random Forest', 'Gradient Boost', 'Ensemble']):\n",
    "    scores = cross_val_score(clf, X_train, y_train, cv=5, scoring='accuracy')\n",
    "    print(\"Accuracy: %0.2f (+/- %0.2f) [%s]\" %(scores.mean(), scores.std(), label));\n",
    "eclf = eclf.fit(X_train, y_train);from sklearn.metrics import confusion_matrix\n",
    "pred = eclf.predict(X_test);\n",
    "cm = pd.DataFrame(confusion_matrix(y_test, pred));\n",
    "print(\"Accuracy for test data\");\n",
    "sns.heatmap(cm, annot=True);\n",
    "print(\"Accuracy: \", accuracy);\n",
    "plt.show();"
   ]
  },
  {
   "cell_type": "code",
   "execution_count": null,
   "metadata": {
    "collapsed": true
   },
   "outputs": [],
   "source": []
  }
 ],
 "metadata": {
  "kernelspec": {
   "display_name": "Python 3",
   "language": "python",
   "name": "python3"
  },
  "language_info": {
   "codemirror_mode": {
    "name": "ipython",
    "version": 3
   },
   "file_extension": ".py",
   "mimetype": "text/x-python",
   "name": "python",
   "nbconvert_exporter": "python",
   "pygments_lexer": "ipython3",
   "version": "3.6.2"
  }
 },
 "nbformat": 4,
 "nbformat_minor": 2
}
