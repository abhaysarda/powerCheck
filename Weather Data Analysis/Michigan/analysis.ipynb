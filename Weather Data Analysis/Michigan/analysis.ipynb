{
 "cells": [
  {
   "cell_type": "code",
   "execution_count": 109,
   "metadata": {
    "collapsed": true
   },
   "outputs": [],
   "source": [
    "import pandas as pd\n",
    "import matplotlib.pyplot as plt\n",
    "from sklearn import preprocessing"
   ]
  },
  {
   "cell_type": "code",
   "execution_count": 110,
   "metadata": {
    "collapsed": true
   },
   "outputs": [],
   "source": [
    "#Use this to check if you can eliminate certain months\n",
    "#powerOutages = pd.DataFrame(df.loc[:,['DATE','Power Outage']]);\n",
    "#plt.plot_date(powerOutages['DATE'],powerOutages['Power Outage']);\n",
    "# plt.show()"
   ]
  },
  {
   "cell_type": "code",
   "execution_count": 111,
   "metadata": {},
   "outputs": [
    {
     "data": {
      "text/html": [
       "<div>\n",
       "<style>\n",
       "    .dataframe thead tr:only-child th {\n",
       "        text-align: right;\n",
       "    }\n",
       "\n",
       "    .dataframe thead th {\n",
       "        text-align: left;\n",
       "    }\n",
       "\n",
       "    .dataframe tbody tr th {\n",
       "        vertical-align: top;\n",
       "    }\n",
       "</style>\n",
       "<table border=\"1\" class=\"dataframe\">\n",
       "  <thead>\n",
       "    <tr style=\"text-align: right;\">\n",
       "      <th></th>\n",
       "      <th>PRCP</th>\n",
       "      <th>TMAX</th>\n",
       "      <th>5 second wind speed squared</th>\n",
       "      <th>2 min wind speed squared</th>\n",
       "      <th>Avg Wind Speed Squared</th>\n",
       "      <th>Fog/Ice</th>\n",
       "      <th>Heavy/Freezing Fog</th>\n",
       "      <th>Thunder</th>\n",
       "      <th>Smoke/Haze</th>\n",
       "      <th>Power Outage</th>\n",
       "    </tr>\n",
       "  </thead>\n",
       "  <tbody>\n",
       "    <tr>\n",
       "      <th>0</th>\n",
       "      <td>0.024027</td>\n",
       "      <td>0.638747</td>\n",
       "      <td>0.009206</td>\n",
       "      <td>0.010812</td>\n",
       "      <td>0.034255</td>\n",
       "      <td>0.521739</td>\n",
       "      <td>1.521739e-01</td>\n",
       "      <td>6.521739e-02</td>\n",
       "      <td>1.739130e-01</td>\n",
       "      <td>0.0</td>\n",
       "    </tr>\n",
       "    <tr>\n",
       "      <th>1</th>\n",
       "      <td>0.000000</td>\n",
       "      <td>0.764706</td>\n",
       "      <td>0.507675</td>\n",
       "      <td>0.011893</td>\n",
       "      <td>0.002474</td>\n",
       "      <td>1.000000</td>\n",
       "      <td>1.000000e+00</td>\n",
       "      <td>2.775558e-17</td>\n",
       "      <td>1.000000e+00</td>\n",
       "      <td>0.0</td>\n",
       "    </tr>\n",
       "    <tr>\n",
       "      <th>2</th>\n",
       "      <td>0.007368</td>\n",
       "      <td>0.864706</td>\n",
       "      <td>0.206135</td>\n",
       "      <td>0.073630</td>\n",
       "      <td>0.099192</td>\n",
       "      <td>0.600000</td>\n",
       "      <td>2.000000e-01</td>\n",
       "      <td>2.775558e-17</td>\n",
       "      <td>4.000000e-01</td>\n",
       "      <td>0.0</td>\n",
       "    </tr>\n",
       "    <tr>\n",
       "      <th>3</th>\n",
       "      <td>0.000000</td>\n",
       "      <td>0.764706</td>\n",
       "      <td>0.957100</td>\n",
       "      <td>0.202051</td>\n",
       "      <td>0.017456</td>\n",
       "      <td>0.000000</td>\n",
       "      <td>2.775558e-17</td>\n",
       "      <td>2.775558e-17</td>\n",
       "      <td>2.775558e-17</td>\n",
       "      <td>0.0</td>\n",
       "    </tr>\n",
       "    <tr>\n",
       "      <th>4</th>\n",
       "      <td>0.150000</td>\n",
       "      <td>0.554902</td>\n",
       "      <td>0.036995</td>\n",
       "      <td>0.087547</td>\n",
       "      <td>0.221798</td>\n",
       "      <td>0.400000</td>\n",
       "      <td>1.387779e-17</td>\n",
       "      <td>2.000000e-01</td>\n",
       "      <td>2.000000e-01</td>\n",
       "      <td>0.0</td>\n",
       "    </tr>\n",
       "  </tbody>\n",
       "</table>\n",
       "</div>"
      ],
      "text/plain": [
       "       PRCP      TMAX  5 second wind speed squared  2 min wind speed squared  \\\n",
       "0  0.024027  0.638747                     0.009206                  0.010812   \n",
       "1  0.000000  0.764706                     0.507675                  0.011893   \n",
       "2  0.007368  0.864706                     0.206135                  0.073630   \n",
       "3  0.000000  0.764706                     0.957100                  0.202051   \n",
       "4  0.150000  0.554902                     0.036995                  0.087547   \n",
       "\n",
       "   Avg Wind Speed Squared   Fog/Ice  Heavy/Freezing Fog       Thunder  \\\n",
       "0                0.034255  0.521739        1.521739e-01  6.521739e-02   \n",
       "1                0.002474  1.000000        1.000000e+00  2.775558e-17   \n",
       "2                0.099192  0.600000        2.000000e-01  2.775558e-17   \n",
       "3                0.017456  0.000000        2.775558e-17  2.775558e-17   \n",
       "4                0.221798  0.400000        1.387779e-17  2.000000e-01   \n",
       "\n",
       "     Smoke/Haze  Power Outage  \n",
       "0  1.739130e-01           0.0  \n",
       "1  1.000000e+00           0.0  \n",
       "2  4.000000e-01           0.0  \n",
       "3  2.775558e-17           0.0  \n",
       "4  2.000000e-01           0.0  "
      ]
     },
     "execution_count": 111,
     "metadata": {},
     "output_type": "execute_result"
    }
   ],
   "source": [
    "df = pd.read_csv('Final Data');\n",
    "df.head()"
   ]
  },
  {
   "cell_type": "code",
   "execution_count": 112,
   "metadata": {},
   "outputs": [
    {
     "data": {
      "text/plain": [
       "(318, 10)"
      ]
     },
     "execution_count": 112,
     "metadata": {},
     "output_type": "execute_result"
    }
   ],
   "source": [
    "import numpy as np\n",
    "from sklearn.cross_validation import train_test_split\n",
    "df.shape"
   ]
  },
  {
   "cell_type": "code",
   "execution_count": 113,
   "metadata": {
    "collapsed": true
   },
   "outputs": [],
   "source": [
    "#Split the data into X and Y, and then into training and testing sets\n",
    "X = np.array(df[['2 min wind speed squared','Avg Wind Speed Squared','5 second wind speed squared','Fog/Ice','Heavy/Freezing Fog','Thunder']]);\n",
    "y = np.array(df['Power Outage']);\n",
    "X_train, X_test, y_train, y_test = train_test_split(X, y, test_size=0.33, random_state = 20);"
   ]
  },
  {
   "cell_type": "code",
   "execution_count": 114,
   "metadata": {
    "collapsed": true
   },
   "outputs": [],
   "source": [
    "#Import KNN Classifier\n",
    "from sklearn.neighbors import KNeighborsClassifier\n",
    "from sklearn.metrics import accuracy_score\n",
    "from sklearn.model_selection import cross_val_score"
   ]
  },
  {
   "cell_type": "code",
   "execution_count": 115,
   "metadata": {
    "collapsed": true
   },
   "outputs": [],
   "source": [
    "knn = KNeighborsClassifier(n_neighbors=3, weights= \"distance\")"
   ]
  },
  {
   "cell_type": "code",
   "execution_count": 116,
   "metadata": {
    "collapsed": true
   },
   "outputs": [],
   "source": [
    "knn.fit(X_train, y_train);"
   ]
  },
  {
   "cell_type": "code",
   "execution_count": 117,
   "metadata": {},
   "outputs": [],
   "source": [
    "pred = knn.predict(X_test);"
   ]
  },
  {
   "cell_type": "code",
   "execution_count": 118,
   "metadata": {
    "collapsed": true
   },
   "outputs": [],
   "source": [
    "accuracy = accuracy_score(y_test, pred);"
   ]
  },
  {
   "cell_type": "code",
   "execution_count": 119,
   "metadata": {},
   "outputs": [
    {
     "name": "stdout",
     "output_type": "stream",
     "text": [
      "Accuracy:  0.92380952381\n",
      "[[45  8]\n",
      " [ 0 52]]\n"
     ]
    }
   ],
   "source": [
    "print(\"Accuracy: \", accuracy);\n",
    "from sklearn.metrics import confusion_matrix\n",
    "con_mat = confusion_matrix(y_test, pred, [0, 1])\n",
    "print(con_mat)"
   ]
  },
  {
   "cell_type": "code",
   "execution_count": 120,
   "metadata": {},
   "outputs": [
    {
     "name": "stdout",
     "output_type": "stream",
     "text": [
      "Out of the number of actual ones, it predicted :  100.0\n"
     ]
    }
   ],
   "source": [
    "#Calculate how many Power outages were predicted correctly\n",
    "actualOutage = set(np.nonzero(y_test)[0]);\n",
    "predictedOutage = set(np.nonzero(pred)[0]);\n",
    "accuratePrediction = predictedOutage.intersection(actualOutage);\n",
    "if len(accuratePrediction)>len(actualOutage):\n",
    "    accuracyPredictionPercentage = 100;\n",
    "else:\n",
    "    accuracyPredictionPercentage = len(accuratePrediction)/len(actualOutage)*100;\n",
    "print(\"Out of the number of actual ones, it predicted : \", accuracyPredictionPercentage);\n"
   ]
  },
  {
   "cell_type": "code",
   "execution_count": 121,
   "metadata": {},
   "outputs": [
    {
     "name": "stdout",
     "output_type": "stream",
     "text": [
      "Out of the number of normal days, it predicted :  84.90566037735849\n"
     ]
    }
   ],
   "source": [
    "#Calculate how many days were classified as normal days\n",
    "noOutage = set(np.where(y_test == 0)[0])\n",
    "predictedNoOutage = set(np.where(pred == 0)[0])\n",
    "accuratePredictionNoOutage = predictedNoOutage.intersection(noOutage);\n",
    "if len(accuratePredictionNoOutage)>len(noOutage):\n",
    "    accuratePredictionNoOutagePercentage = 100\n",
    "else:\n",
    "    accuratePredictionNoOutagePercentage = len(accuratePredictionNoOutage)/len(noOutage)*100;\n",
    "print(\"Out of the number of normal days, it predicted : \", accuratePredictionNoOutagePercentage);"
   ]
  },
  {
   "cell_type": "code",
   "execution_count": 122,
   "metadata": {},
   "outputs": [
    {
     "data": {
      "image/png": "[encoded data removed]",
      "text/plain": [
       "<matplotlib.figure.Figure at 0x11f710898>"
      ]
     },
     "metadata": {},
     "output_type": "display_data"
    }
   ],
   "source": [
    "#Plot graphs of accuracy\n",
    "plt.barh([1,2,3,4], [len(actualOutage),len(accuratePrediction),len(noOutage),len(accuratePredictionNoOutage)]);\n",
    "plt.yticks([1,2,3,4],['Actual Outages','Predicted Outages','No Outage days','Predicted No Outage days'])\n",
    "plt.xlabel('Counts');\n",
    "plt.title('Accuracy');\n",
    "plt.show()"
   ]
  },
  {
   "cell_type": "code",
   "execution_count": 123,
   "metadata": {
    "collapsed": true
   },
   "outputs": [],
   "source": [
    "checkKValue = list(range(1,50))\n",
    "neighbors = list(filter(lambda x: x % 2 !=0, checkKValue))\n",
    "cv_scores = []\n",
    "for k in neighbors:\n",
    "    knn = KNeighborsClassifier(n_neighbors=k, weights='distance')\n",
    "    scores = cross_val_score(knn, X_train, y_train, cv=10, scoring='accuracy')\n",
    "    cv_scores.append(scores.mean())"
   ]
  },
  {
   "cell_type": "code",
   "execution_count": 124,
   "metadata": {},
   "outputs": [
    {
     "name": "stdout",
     "output_type": "stream",
     "text": [
      "Optimal K value is :  5\n",
      "Misclassification error at that value is  0.0611255411255\n"
     ]
    }
   ],
   "source": [
    "MSE = [1-x for x in cv_scores]\n",
    "optimalK = neighbors[MSE.index(min(MSE))]\n",
    "print(\"Optimal K value is : \", optimalK);\n",
    "print(\"Misclassification error at that value is \", min(MSE));"
   ]
  },
  {
   "cell_type": "code",
   "execution_count": 125,
   "metadata": {},
   "outputs": [
    {
     "data": {
      "image/png": "[encoded data removed]",
      "text/plain": [
       "<matplotlib.figure.Figure at 0x11ff73e48>"
      ]
     },
     "metadata": {},
     "output_type": "display_data"
    }
   ],
   "source": [
    "plt.plot(neighbors, MSE)\n",
    "plt.xlabel('No. of neighbors K')\n",
    "plt.ylabel('Misclassification error')\n",
    "plt.show()"
   ]
  },
  {
   "cell_type": "code",
   "execution_count": 126,
   "metadata": {},
   "outputs": [
    {
     "name": "stdout",
     "output_type": "stream",
     "text": [
      "Accuracy:  0.911764705882\n"
     ]
    }
   ],
   "source": [
    "#Indiana prediction based on Michigan Weather\n",
    "#Split the data into X and Y, and then into training and testing sets\n",
    "indiana=pd.read_csv('Indiana data');\n",
    "X = np.array(df[['Avg Wind Speed Squared','5 second wind speed squared','2 min wind speed squared','Fog/Ice','Thunder']]);\n",
    "X_test = np.array(indiana[['Avg Wind Speed Squared','5 second wind speed squared','2 min wind speed squared','Fog/Ice fog','Thunder']]);\n",
    "y = np.array(df['Power Outage']);\n",
    "y_test = np.array(indiana['Power Outage']);\n",
    "knn = KNeighborsClassifier(n_neighbors=3)\n",
    "knn.fit(X,y);\n",
    "pred = knn.predict(X_test);\n",
    "accuracy = accuracy_score(y_test, pred);\n",
    "print(\"Accuracy: \", accuracy);"
   ]
  },
  {
   "cell_type": "code",
   "execution_count": 127,
   "metadata": {},
   "outputs": [
    {
     "name": "stdout",
     "output_type": "stream",
     "text": [
      "Out of the number of actual ones, it predicted :  88.23529411764706\n"
     ]
    }
   ],
   "source": [
    "#Calculate how many Power outages were predicted correctly\n",
    "actualOutage = set(np.nonzero(y_test)[0]);\n",
    "predictedOutage = set(np.nonzero(pred)[0]);\n",
    "accuratePrediction = predictedOutage.intersection(actualOutage);\n",
    "if len(accuratePrediction)>len(actualOutage):\n",
    "    accuracyPredictionPercentage = 100;\n",
    "else:\n",
    "    accuracyPredictionPercentage = len(accuratePrediction)/len(actualOutage)*100;\n",
    "print(\"Out of the number of actual ones, it predicted : \", accuracyPredictionPercentage);\n"
   ]
  },
  {
   "cell_type": "code",
   "execution_count": 128,
   "metadata": {},
   "outputs": [
    {
     "name": "stdout",
     "output_type": "stream",
     "text": [
      "Out of the number of normal days, it predicted :  94.11764705882352\n"
     ]
    }
   ],
   "source": [
    "#Calculate how many days were classified as normal days\n",
    "noOutage = set(np.where(y_test == 0)[0])\n",
    "predictedNoOutage = set(np.where(pred == 0)[0])\n",
    "accuratePredictionNoOutage = predictedNoOutage.intersection(noOutage);\n",
    "if len(accuratePredictionNoOutage)>len(noOutage):\n",
    "    accuratePredictionNoOutagePercentage = 100\n",
    "else:\n",
    "    accuratePredictionNoOutagePercentage = len(accuratePredictionNoOutage)/len(noOutage)*100;\n",
    "print(\"Out of the number of normal days, it predicted : \", accuratePredictionNoOutagePercentage);"
   ]
  },
  {
   "cell_type": "code",
   "execution_count": 129,
   "metadata": {},
   "outputs": [
    {
     "data": {
      "text/html": [
       "<div>\n",
       "<style>\n",
       "    .dataframe thead tr:only-child th {\n",
       "        text-align: right;\n",
       "    }\n",
       "\n",
       "    .dataframe thead th {\n",
       "        text-align: left;\n",
       "    }\n",
       "\n",
       "    .dataframe tbody tr th {\n",
       "        vertical-align: top;\n",
       "    }\n",
       "</style>\n",
       "<table border=\"1\" class=\"dataframe\">\n",
       "  <thead>\n",
       "    <tr style=\"text-align: right;\">\n",
       "      <th></th>\n",
       "      <th>PRCP</th>\n",
       "      <th>Fog/Ice</th>\n",
       "      <th>Heavy/Freezing Fog</th>\n",
       "      <th>Thunder</th>\n",
       "      <th>Power Outage</th>\n",
       "      <th>Avg Wind Speed Squared</th>\n",
       "      <th>5 second wind speed squared</th>\n",
       "      <th>2 min wind speed squared</th>\n",
       "    </tr>\n",
       "  </thead>\n",
       "  <tbody>\n",
       "    <tr>\n",
       "      <th>count</th>\n",
       "      <td>2910.000000</td>\n",
       "      <td>2910.000000</td>\n",
       "      <td>2910.000000</td>\n",
       "      <td>2910.000000</td>\n",
       "      <td>2910.000000</td>\n",
       "      <td>2910.000000</td>\n",
       "      <td>2910.000000</td>\n",
       "      <td>2910.000000</td>\n",
       "    </tr>\n",
       "    <tr>\n",
       "      <th>mean</th>\n",
       "      <td>0.019899</td>\n",
       "      <td>0.344674</td>\n",
       "      <td>0.100344</td>\n",
       "      <td>0.053265</td>\n",
       "      <td>0.054639</td>\n",
       "      <td>0.133314</td>\n",
       "      <td>0.031864</td>\n",
       "      <td>0.057726</td>\n",
       "    </tr>\n",
       "    <tr>\n",
       "      <th>std</th>\n",
       "      <td>0.056304</td>\n",
       "      <td>0.475343</td>\n",
       "      <td>0.300509</td>\n",
       "      <td>0.224599</td>\n",
       "      <td>0.227314</td>\n",
       "      <td>0.128751</td>\n",
       "      <td>0.071300</td>\n",
       "      <td>0.059636</td>\n",
       "    </tr>\n",
       "    <tr>\n",
       "      <th>min</th>\n",
       "      <td>0.000000</td>\n",
       "      <td>0.000000</td>\n",
       "      <td>0.000000</td>\n",
       "      <td>0.000000</td>\n",
       "      <td>0.000000</td>\n",
       "      <td>0.000000</td>\n",
       "      <td>0.000000</td>\n",
       "      <td>0.000000</td>\n",
       "    </tr>\n",
       "    <tr>\n",
       "      <th>25%</th>\n",
       "      <td>0.000000</td>\n",
       "      <td>0.000000</td>\n",
       "      <td>0.000000</td>\n",
       "      <td>0.000000</td>\n",
       "      <td>0.000000</td>\n",
       "      <td>0.045024</td>\n",
       "      <td>0.010548</td>\n",
       "      <td>0.028859</td>\n",
       "    </tr>\n",
       "    <tr>\n",
       "      <th>50%</th>\n",
       "      <td>0.000000</td>\n",
       "      <td>0.000000</td>\n",
       "      <td>0.000000</td>\n",
       "      <td>0.000000</td>\n",
       "      <td>0.000000</td>\n",
       "      <td>0.097886</td>\n",
       "      <td>0.016690</td>\n",
       "      <td>0.041951</td>\n",
       "    </tr>\n",
       "    <tr>\n",
       "      <th>75%</th>\n",
       "      <td>0.007500</td>\n",
       "      <td>1.000000</td>\n",
       "      <td>0.000000</td>\n",
       "      <td>0.000000</td>\n",
       "      <td>0.000000</td>\n",
       "      <td>0.180098</td>\n",
       "      <td>0.028260</td>\n",
       "      <td>0.069620</td>\n",
       "    </tr>\n",
       "    <tr>\n",
       "      <th>max</th>\n",
       "      <td>1.000000</td>\n",
       "      <td>1.000000</td>\n",
       "      <td>1.000000</td>\n",
       "      <td>1.000000</td>\n",
       "      <td>1.000000</td>\n",
       "      <td>1.000000</td>\n",
       "      <td>1.000000</td>\n",
       "      <td>1.000000</td>\n",
       "    </tr>\n",
       "  </tbody>\n",
       "</table>\n",
       "</div>"
      ],
      "text/plain": [
       "              PRCP      Fog/Ice  Heavy/Freezing Fog      Thunder  \\\n",
       "count  2910.000000  2910.000000         2910.000000  2910.000000   \n",
       "mean      0.019899     0.344674            0.100344     0.053265   \n",
       "std       0.056304     0.475343            0.300509     0.224599   \n",
       "min       0.000000     0.000000            0.000000     0.000000   \n",
       "25%       0.000000     0.000000            0.000000     0.000000   \n",
       "50%       0.000000     0.000000            0.000000     0.000000   \n",
       "75%       0.007500     1.000000            0.000000     0.000000   \n",
       "max       1.000000     1.000000            1.000000     1.000000   \n",
       "\n",
       "       Power Outage  Avg Wind Speed Squared  5 second wind speed squared  \\\n",
       "count   2910.000000             2910.000000                  2910.000000   \n",
       "mean       0.054639                0.133314                     0.031864   \n",
       "std        0.227314                0.128751                     0.071300   \n",
       "min        0.000000                0.000000                     0.000000   \n",
       "25%        0.000000                0.045024                     0.010548   \n",
       "50%        0.000000                0.097886                     0.016690   \n",
       "75%        0.000000                0.180098                     0.028260   \n",
       "max        1.000000                1.000000                     1.000000   \n",
       "\n",
       "       2 min wind speed squared  \n",
       "count               2910.000000  \n",
       "mean                   0.057726  \n",
       "std                    0.059636  \n",
       "min                    0.000000  \n",
       "25%                    0.028859  \n",
       "50%                    0.041951  \n",
       "75%                    0.069620  \n",
       "max                    1.000000  "
      ]
     },
     "execution_count": 129,
     "metadata": {},
     "output_type": "execute_result"
    }
   ],
   "source": [
    "#Now find how well was the data undersampled using clustering\n",
    "raw_data = pd.read_csv('data.csv');\n",
    "raw_data = raw_data.fillna(0);\n",
    "raw_data['Avg Wind Speed Squared'] = pd.Series(np.square(raw_data['Average Wind Speed']));\n",
    "raw_data['5 second wind speed squared'] = pd.Series(np.square(raw_data['Fastest 5 second wind speed']));\n",
    "raw_data['2 min wind speed squared'] = pd.Series(np.square(raw_data['Fastest 2 minute wind speed']));\n",
    "raw_data = raw_data.drop(['DATE','TMAX','TMIN','Smoke/Haze','Average Wind Speed','Fastest 5 second wind speed','Fastest 2 minute wind speed'], axis=1);\n",
    "#Normalize data\n",
    "scaledData = preprocessing.MinMaxScaler().fit_transform(raw_data.values);\n",
    "raw_data = pd.DataFrame(scaledData, index = raw_data.index, columns = raw_data.columns);\n",
    "raw_data.describe()"
   ]
  },
  {
   "cell_type": "code",
   "execution_count": 130,
   "metadata": {},
   "outputs": [
    {
     "data": {
      "text/html": [
       "<div>\n",
       "<style>\n",
       "    .dataframe thead tr:only-child th {\n",
       "        text-align: right;\n",
       "    }\n",
       "\n",
       "    .dataframe thead th {\n",
       "        text-align: left;\n",
       "    }\n",
       "\n",
       "    .dataframe tbody tr th {\n",
       "        vertical-align: top;\n",
       "    }\n",
       "</style>\n",
       "<table border=\"1\" class=\"dataframe\">\n",
       "  <thead>\n",
       "    <tr style=\"text-align: right;\">\n",
       "      <th></th>\n",
       "      <th>PRCP</th>\n",
       "      <th>TMAX</th>\n",
       "      <th>5 second wind speed squared</th>\n",
       "      <th>2 min wind speed squared</th>\n",
       "      <th>Avg Wind Speed Squared</th>\n",
       "      <th>Fog/Ice</th>\n",
       "      <th>Heavy/Freezing Fog</th>\n",
       "      <th>Thunder</th>\n",
       "      <th>Smoke/Haze</th>\n",
       "      <th>Power Outage</th>\n",
       "    </tr>\n",
       "  </thead>\n",
       "  <tbody>\n",
       "    <tr>\n",
       "      <th>count</th>\n",
       "      <td>318.000000</td>\n",
       "      <td>318.000000</td>\n",
       "      <td>318.000000</td>\n",
       "      <td>318.000000</td>\n",
       "      <td>318.000000</td>\n",
       "      <td>318.000000</td>\n",
       "      <td>3.180000e+02</td>\n",
       "      <td>3.180000e+02</td>\n",
       "      <td>3.180000e+02</td>\n",
       "      <td>318.000000</td>\n",
       "    </tr>\n",
       "    <tr>\n",
       "      <th>mean</th>\n",
       "      <td>0.075122</td>\n",
       "      <td>0.619488</td>\n",
       "      <td>0.109774</td>\n",
       "      <td>0.108352</td>\n",
       "      <td>0.174002</td>\n",
       "      <td>0.511540</td>\n",
       "      <td>1.503688e-01</td>\n",
       "      <td>1.317914e-01</td>\n",
       "      <td>2.098480e-01</td>\n",
       "      <td>0.500000</td>\n",
       "    </tr>\n",
       "    <tr>\n",
       "      <th>std</th>\n",
       "      <td>0.148938</td>\n",
       "      <td>0.205566</td>\n",
       "      <td>0.185419</td>\n",
       "      <td>0.136324</td>\n",
       "      <td>0.186327</td>\n",
       "      <td>0.442045</td>\n",
       "      <td>3.122838e-01</td>\n",
       "      <td>3.110567e-01</td>\n",
       "      <td>3.568476e-01</td>\n",
       "      <td>0.500788</td>\n",
       "    </tr>\n",
       "    <tr>\n",
       "      <th>min</th>\n",
       "      <td>0.000000</td>\n",
       "      <td>0.000000</td>\n",
       "      <td>0.000000</td>\n",
       "      <td>0.000000</td>\n",
       "      <td>0.000000</td>\n",
       "      <td>0.000000</td>\n",
       "      <td>0.000000e+00</td>\n",
       "      <td>0.000000e+00</td>\n",
       "      <td>0.000000e+00</td>\n",
       "      <td>0.000000</td>\n",
       "    </tr>\n",
       "    <tr>\n",
       "      <th>25%</th>\n",
       "      <td>0.000000</td>\n",
       "      <td>0.450980</td>\n",
       "      <td>0.015994</td>\n",
       "      <td>0.032261</td>\n",
       "      <td>0.054280</td>\n",
       "      <td>0.000000</td>\n",
       "      <td>2.775558e-17</td>\n",
       "      <td>2.775558e-17</td>\n",
       "      <td>2.775558e-17</td>\n",
       "      <td>0.000000</td>\n",
       "    </tr>\n",
       "    <tr>\n",
       "      <th>50%</th>\n",
       "      <td>0.011662</td>\n",
       "      <td>0.663501</td>\n",
       "      <td>0.036915</td>\n",
       "      <td>0.067961</td>\n",
       "      <td>0.108732</td>\n",
       "      <td>0.419872</td>\n",
       "      <td>2.775558e-17</td>\n",
       "      <td>2.775558e-17</td>\n",
       "      <td>2.775558e-17</td>\n",
       "      <td>0.500000</td>\n",
       "    </tr>\n",
       "    <tr>\n",
       "      <th>75%</th>\n",
       "      <td>0.072998</td>\n",
       "      <td>0.779412</td>\n",
       "      <td>0.109737</td>\n",
       "      <td>0.130270</td>\n",
       "      <td>0.220255</td>\n",
       "      <td>1.000000</td>\n",
       "      <td>1.073059e-01</td>\n",
       "      <td>2.895067e-02</td>\n",
       "      <td>2.000000e-01</td>\n",
       "      <td>1.000000</td>\n",
       "    </tr>\n",
       "    <tr>\n",
       "      <th>max</th>\n",
       "      <td>1.000000</td>\n",
       "      <td>1.000000</td>\n",
       "      <td>1.000000</td>\n",
       "      <td>1.000000</td>\n",
       "      <td>1.000000</td>\n",
       "      <td>1.000000</td>\n",
       "      <td>1.000000e+00</td>\n",
       "      <td>1.000000e+00</td>\n",
       "      <td>1.000000e+00</td>\n",
       "      <td>1.000000</td>\n",
       "    </tr>\n",
       "  </tbody>\n",
       "</table>\n",
       "</div>"
      ],
      "text/plain": [
       "             PRCP        TMAX  5 second wind speed squared  \\\n",
       "count  318.000000  318.000000                   318.000000   \n",
       "mean     0.075122    0.619488                     0.109774   \n",
       "std      0.148938    0.205566                     0.185419   \n",
       "min      0.000000    0.000000                     0.000000   \n",
       "25%      0.000000    0.450980                     0.015994   \n",
       "50%      0.011662    0.663501                     0.036915   \n",
       "75%      0.072998    0.779412                     0.109737   \n",
       "max      1.000000    1.000000                     1.000000   \n",
       "\n",
       "       2 min wind speed squared  Avg Wind Speed Squared     Fog/Ice  \\\n",
       "count                318.000000              318.000000  318.000000   \n",
       "mean                   0.108352                0.174002    0.511540   \n",
       "std                    0.136324                0.186327    0.442045   \n",
       "min                    0.000000                0.000000    0.000000   \n",
       "25%                    0.032261                0.054280    0.000000   \n",
       "50%                    0.067961                0.108732    0.419872   \n",
       "75%                    0.130270                0.220255    1.000000   \n",
       "max                    1.000000                1.000000    1.000000   \n",
       "\n",
       "       Heavy/Freezing Fog       Thunder    Smoke/Haze  Power Outage  \n",
       "count        3.180000e+02  3.180000e+02  3.180000e+02    318.000000  \n",
       "mean         1.503688e-01  1.317914e-01  2.098480e-01      0.500000  \n",
       "std          3.122838e-01  3.110567e-01  3.568476e-01      0.500788  \n",
       "min          0.000000e+00  0.000000e+00  0.000000e+00      0.000000  \n",
       "25%          2.775558e-17  2.775558e-17  2.775558e-17      0.000000  \n",
       "50%          2.775558e-17  2.775558e-17  2.775558e-17      0.500000  \n",
       "75%          1.073059e-01  2.895067e-02  2.000000e-01      1.000000  \n",
       "max          1.000000e+00  1.000000e+00  1.000000e+00      1.000000  "
      ]
     },
     "execution_count": 130,
     "metadata": {},
     "output_type": "execute_result"
    }
   ],
   "source": [
    "df.describe()"
   ]
  },
  {
   "cell_type": "code",
   "execution_count": 131,
   "metadata": {},
   "outputs": [
    {
     "data": {
      "text/html": [
       "<div>\n",
       "<style>\n",
       "    .dataframe thead tr:only-child th {\n",
       "        text-align: right;\n",
       "    }\n",
       "\n",
       "    .dataframe thead th {\n",
       "        text-align: left;\n",
       "    }\n",
       "\n",
       "    .dataframe tbody tr th {\n",
       "        vertical-align: top;\n",
       "    }\n",
       "</style>\n",
       "<table border=\"1\" class=\"dataframe\">\n",
       "  <thead>\n",
       "    <tr style=\"text-align: right;\">\n",
       "      <th></th>\n",
       "      <th>Avg Wind Speed Squared</th>\n",
       "      <th>2 min wind speed squared</th>\n",
       "      <th>5 second wind speed squared</th>\n",
       "      <th>Fog/Ice</th>\n",
       "      <th>Thunder</th>\n",
       "    </tr>\n",
       "  </thead>\n",
       "  <tbody>\n",
       "    <tr>\n",
       "      <th>0</th>\n",
       "      <td>0.036815</td>\n",
       "      <td>0.014808</td>\n",
       "      <td>0.005809</td>\n",
       "      <td>0.0</td>\n",
       "      <td>0.0</td>\n",
       "    </tr>\n",
       "    <tr>\n",
       "      <th>1</th>\n",
       "      <td>0.154984</td>\n",
       "      <td>0.057484</td>\n",
       "      <td>0.019600</td>\n",
       "      <td>0.0</td>\n",
       "      <td>0.0</td>\n",
       "    </tr>\n",
       "    <tr>\n",
       "      <th>2</th>\n",
       "      <td>0.104491</td>\n",
       "      <td>0.037627</td>\n",
       "      <td>0.011571</td>\n",
       "      <td>0.0</td>\n",
       "      <td>0.0</td>\n",
       "    </tr>\n",
       "    <tr>\n",
       "      <th>3</th>\n",
       "      <td>0.019968</td>\n",
       "      <td>0.009524</td>\n",
       "      <td>0.003535</td>\n",
       "      <td>1.0</td>\n",
       "      <td>0.0</td>\n",
       "    </tr>\n",
       "    <tr>\n",
       "      <th>4</th>\n",
       "      <td>0.049338</td>\n",
       "      <td>0.041951</td>\n",
       "      <td>0.012885</td>\n",
       "      <td>0.0</td>\n",
       "      <td>0.0</td>\n",
       "    </tr>\n",
       "  </tbody>\n",
       "</table>\n",
       "</div>"
      ],
      "text/plain": [
       "   Avg Wind Speed Squared  2 min wind speed squared  \\\n",
       "0                0.036815                  0.014808   \n",
       "1                0.154984                  0.057484   \n",
       "2                0.104491                  0.037627   \n",
       "3                0.019968                  0.009524   \n",
       "4                0.049338                  0.041951   \n",
       "\n",
       "   5 second wind speed squared  Fog/Ice  Thunder  \n",
       "0                     0.005809      0.0      0.0  \n",
       "1                     0.019600      0.0      0.0  \n",
       "2                     0.011571      0.0      0.0  \n",
       "3                     0.003535      1.0      0.0  \n",
       "4                     0.012885      0.0      0.0  "
      ]
     },
     "execution_count": 131,
     "metadata": {},
     "output_type": "execute_result"
    }
   ],
   "source": [
    "y_test = raw_data['Power Outage'];\n",
    "raw_data=raw_data[['Avg Wind Speed Squared','2 min wind speed squared','5 second wind speed squared','Fog/Ice','Thunder']];\n",
    "X = df[['Avg Wind Speed Squared','2 min wind speed squared','5 second wind speed squared','Fog/Ice','Thunder']];\n",
    "X_test = raw_data;\n",
    "X_test.head()"
   ]
  },
  {
   "cell_type": "code",
   "execution_count": 132,
   "metadata": {},
   "outputs": [
    {
     "name": "stdout",
     "output_type": "stream",
     "text": [
      "Accuracy:  0.0927835051546\n"
     ]
    }
   ],
   "source": [
    "knn = KNeighborsClassifier(n_neighbors=10, weights=\"distance\")\n",
    "knn.fit(X,y);\n",
    "pred = knn.predict(X_test);\n",
    "accuracy = accuracy_score(y_test, pred);\n",
    "print(\"Accuracy: \", accuracy);\n"
   ]
  },
  {
   "cell_type": "code",
   "execution_count": 133,
   "metadata": {},
   "outputs": [
    {
     "name": "stdout",
     "output_type": "stream",
     "text": [
      "Out of the number of actual ones, it predicted :  100.0\n"
     ]
    }
   ],
   "source": [
    "#Calculate how many Power outages were predicted correctly\n",
    "actualOutage = set(np.nonzero(y_test)[0]);\n",
    "predictedOutage = set(np.nonzero(pred)[0]);\n",
    "accuratePrediction = predictedOutage.intersection(actualOutage);\n",
    "if len(accuratePrediction)>len(actualOutage):\n",
    "    accuracyPredictionPercentage = 100;\n",
    "else:\n",
    "    accuracyPredictionPercentage = len(accuratePrediction)/len(actualOutage)*100;\n",
    "print(\"Out of the number of actual ones, it predicted : \", accuracyPredictionPercentage);\n"
   ]
  },
  {
   "cell_type": "code",
   "execution_count": 134,
   "metadata": {},
   "outputs": [
    {
     "name": "stdout",
     "output_type": "stream",
     "text": [
      "Out of the number of normal days, it predicted :  4.0348964013086155\n"
     ]
    }
   ],
   "source": [
    "#Calculate how many days were classified as normal days\n",
    "noOutage = set(np.where(y_test == 0)[0])\n",
    "predictedNoOutage = set(np.where(pred == 0)[0])\n",
    "accuratePredictionNoOutage = predictedNoOutage.intersection(noOutage);\n",
    "if len(accuratePredictionNoOutage)>len(noOutage):\n",
    "    accuratePredictionNoOutagePercentage = 100\n",
    "else:\n",
    "    accuratePredictionNoOutagePercentage = len(accuratePredictionNoOutage)/len(noOutage)*100;\n",
    "print(\"Out of the number of normal days, it predicted : \", accuratePredictionNoOutagePercentage);"
   ]
  }
 ],
 "metadata": {
  "kernelspec": {
   "display_name": "Python 3",
   "language": "python",
   "name": "python3"
  },
  "language_info": {
   "codemirror_mode": {
    "name": "ipython",
    "version": 3
   },
   "file_extension": ".py",
   "mimetype": "text/x-python",
   "name": "python",
   "nbconvert_exporter": "python",
   "pygments_lexer": "ipython3",
   "version": "3.6.2"
  }
 },
 "nbformat": 4,
 "nbformat_minor": 2
}
