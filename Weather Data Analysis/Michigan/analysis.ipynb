{
 "cells": [
  {
   "cell_type": "code",
   "execution_count": 2099,
   "metadata": {
    "collapsed": true
   },
   "outputs": [],
   "source": [
    "import pandas as pd\n",
    "import matplotlib.pyplot as plt"
   ]
  },
  {
   "cell_type": "code",
   "execution_count": 2100,
   "metadata": {
    "collapsed": true
   },
   "outputs": [],
   "source": [
    "#Use this to check if you can eliminate certain months\n",
    "#powerOutages = pd.DataFrame(df.loc[:,['DATE','Power Outage']]);\n",
    "#plt.plot_date(powerOutages['DATE'],powerOutages['Power Outage']);\n",
    "# plt.show()"
   ]
  },
  {
   "cell_type": "code",
   "execution_count": 2101,
   "metadata": {},
   "outputs": [
    {
     "data": {
      "text/html": [
       "<div>\n",
       "<style>\n",
       "    .dataframe thead tr:only-child th {\n",
       "        text-align: right;\n",
       "    }\n",
       "\n",
       "    .dataframe thead th {\n",
       "        text-align: left;\n",
       "    }\n",
       "\n",
       "    .dataframe tbody tr th {\n",
       "        vertical-align: top;\n",
       "    }\n",
       "</style>\n",
       "<table border=\"1\" class=\"dataframe\">\n",
       "  <thead>\n",
       "    <tr style=\"text-align: right;\">\n",
       "      <th></th>\n",
       "      <th>Average Wind Speed</th>\n",
       "      <th>PRCP</th>\n",
       "      <th>TMIN</th>\n",
       "      <th>Fastest 5 second wind speed</th>\n",
       "      <th>Fog/Ice</th>\n",
       "      <th>Heavy/Freezing Fog</th>\n",
       "      <th>Thunder</th>\n",
       "      <th>Smoke/Haze</th>\n",
       "      <th>Power Outage</th>\n",
       "    </tr>\n",
       "  </thead>\n",
       "  <tbody>\n",
       "    <tr>\n",
       "      <th>0</th>\n",
       "      <td>11.41</td>\n",
       "      <td>0.14</td>\n",
       "      <td>4.0</td>\n",
       "      <td>35.1</td>\n",
       "      <td>1.0</td>\n",
       "      <td>0.0</td>\n",
       "      <td>0.0</td>\n",
       "      <td>1.0</td>\n",
       "      <td>0.0</td>\n",
       "    </tr>\n",
       "    <tr>\n",
       "      <th>1</th>\n",
       "      <td>8.50</td>\n",
       "      <td>0.00</td>\n",
       "      <td>26.0</td>\n",
       "      <td>25.1</td>\n",
       "      <td>0.0</td>\n",
       "      <td>0.0</td>\n",
       "      <td>0.0</td>\n",
       "      <td>0.0</td>\n",
       "      <td>1.0</td>\n",
       "    </tr>\n",
       "    <tr>\n",
       "      <th>2</th>\n",
       "      <td>9.17</td>\n",
       "      <td>0.00</td>\n",
       "      <td>45.0</td>\n",
       "      <td>30.0</td>\n",
       "      <td>0.0</td>\n",
       "      <td>0.0</td>\n",
       "      <td>0.0</td>\n",
       "      <td>0.0</td>\n",
       "      <td>0.0</td>\n",
       "    </tr>\n",
       "    <tr>\n",
       "      <th>3</th>\n",
       "      <td>2.91</td>\n",
       "      <td>0.00</td>\n",
       "      <td>70.0</td>\n",
       "      <td>18.1</td>\n",
       "      <td>1.0</td>\n",
       "      <td>1.0</td>\n",
       "      <td>0.0</td>\n",
       "      <td>1.0</td>\n",
       "      <td>1.0</td>\n",
       "    </tr>\n",
       "    <tr>\n",
       "      <th>4</th>\n",
       "      <td>16.33</td>\n",
       "      <td>0.44</td>\n",
       "      <td>34.0</td>\n",
       "      <td>42.9</td>\n",
       "      <td>0.0</td>\n",
       "      <td>0.0</td>\n",
       "      <td>0.0</td>\n",
       "      <td>0.0</td>\n",
       "      <td>0.0</td>\n",
       "    </tr>\n",
       "  </tbody>\n",
       "</table>\n",
       "</div>"
      ],
      "text/plain": [
       "   Average Wind Speed  PRCP  TMIN  Fastest 5 second wind speed  Fog/Ice  \\\n",
       "0               11.41  0.14   4.0                         35.1      1.0   \n",
       "1                8.50  0.00  26.0                         25.1      0.0   \n",
       "2                9.17  0.00  45.0                         30.0      0.0   \n",
       "3                2.91  0.00  70.0                         18.1      1.0   \n",
       "4               16.33  0.44  34.0                         42.9      0.0   \n",
       "\n",
       "   Heavy/Freezing Fog  Thunder  Smoke/Haze  Power Outage  \n",
       "0                 0.0      0.0         1.0           0.0  \n",
       "1                 0.0      0.0         0.0           1.0  \n",
       "2                 0.0      0.0         0.0           0.0  \n",
       "3                 1.0      0.0         1.0           1.0  \n",
       "4                 0.0      0.0         0.0           0.0  "
      ]
     },
     "execution_count": 2101,
     "metadata": {},
     "output_type": "execute_result"
    }
   ],
   "source": [
    "df = pd.read_csv('Final Data');\n",
    "df.head()"
   ]
  },
  {
   "cell_type": "code",
   "execution_count": 2102,
   "metadata": {
    "collapsed": true
   },
   "outputs": [],
   "source": [
    "import numpy as np\n",
    "from sklearn.cross_validation import train_test_split\n"
   ]
  },
  {
   "cell_type": "code",
   "execution_count": 2103,
   "metadata": {},
   "outputs": [
    {
     "data": {
      "text/html": [
       "<div>\n",
       "<style>\n",
       "    .dataframe thead tr:only-child th {\n",
       "        text-align: right;\n",
       "    }\n",
       "\n",
       "    .dataframe thead th {\n",
       "        text-align: left;\n",
       "    }\n",
       "\n",
       "    .dataframe tbody tr th {\n",
       "        vertical-align: top;\n",
       "    }\n",
       "</style>\n",
       "<table border=\"1\" class=\"dataframe\">\n",
       "  <thead>\n",
       "    <tr style=\"text-align: right;\">\n",
       "      <th></th>\n",
       "      <th>Average Wind Speed</th>\n",
       "      <th>PRCP</th>\n",
       "      <th>TMIN</th>\n",
       "      <th>Fastest 5 second wind speed</th>\n",
       "      <th>Fog/Ice</th>\n",
       "      <th>Heavy/Freezing Fog</th>\n",
       "      <th>Thunder</th>\n",
       "      <th>Smoke/Haze</th>\n",
       "      <th>Power Outage</th>\n",
       "    </tr>\n",
       "  </thead>\n",
       "  <tbody>\n",
       "    <tr>\n",
       "      <th>count</th>\n",
       "      <td>318.000000</td>\n",
       "      <td>318.000000</td>\n",
       "      <td>318.000000</td>\n",
       "      <td>318.000000</td>\n",
       "      <td>318.000000</td>\n",
       "      <td>318.000000</td>\n",
       "      <td>318.000000</td>\n",
       "      <td>318.000000</td>\n",
       "      <td>318.000000</td>\n",
       "    </tr>\n",
       "    <tr>\n",
       "      <th>mean</th>\n",
       "      <td>7.932956</td>\n",
       "      <td>0.095786</td>\n",
       "      <td>39.827044</td>\n",
       "      <td>30.706289</td>\n",
       "      <td>0.374214</td>\n",
       "      <td>0.103774</td>\n",
       "      <td>0.106918</td>\n",
       "      <td>0.179245</td>\n",
       "      <td>0.500000</td>\n",
       "    </tr>\n",
       "    <tr>\n",
       "      <th>std</th>\n",
       "      <td>4.119541</td>\n",
       "      <td>0.234191</td>\n",
       "      <td>19.021115</td>\n",
       "      <td>17.701957</td>\n",
       "      <td>0.484682</td>\n",
       "      <td>0.305447</td>\n",
       "      <td>0.309496</td>\n",
       "      <td>0.384162</td>\n",
       "      <td>0.500788</td>\n",
       "    </tr>\n",
       "    <tr>\n",
       "      <th>min</th>\n",
       "      <td>0.000000</td>\n",
       "      <td>0.000000</td>\n",
       "      <td>-8.000000</td>\n",
       "      <td>11.000000</td>\n",
       "      <td>0.000000</td>\n",
       "      <td>0.000000</td>\n",
       "      <td>0.000000</td>\n",
       "      <td>0.000000</td>\n",
       "      <td>0.000000</td>\n",
       "    </tr>\n",
       "    <tr>\n",
       "      <th>25%</th>\n",
       "      <td>4.920000</td>\n",
       "      <td>0.000000</td>\n",
       "      <td>26.000000</td>\n",
       "      <td>21.225000</td>\n",
       "      <td>0.000000</td>\n",
       "      <td>0.000000</td>\n",
       "      <td>0.000000</td>\n",
       "      <td>0.000000</td>\n",
       "      <td>0.000000</td>\n",
       "    </tr>\n",
       "    <tr>\n",
       "      <th>50%</th>\n",
       "      <td>7.160000</td>\n",
       "      <td>0.000000</td>\n",
       "      <td>42.000000</td>\n",
       "      <td>25.900000</td>\n",
       "      <td>0.000000</td>\n",
       "      <td>0.000000</td>\n",
       "      <td>0.000000</td>\n",
       "      <td>0.000000</td>\n",
       "      <td>0.500000</td>\n",
       "    </tr>\n",
       "    <tr>\n",
       "      <th>75%</th>\n",
       "      <td>10.070000</td>\n",
       "      <td>0.050000</td>\n",
       "      <td>56.000000</td>\n",
       "      <td>34.825000</td>\n",
       "      <td>1.000000</td>\n",
       "      <td>0.000000</td>\n",
       "      <td>0.000000</td>\n",
       "      <td>0.000000</td>\n",
       "      <td>1.000000</td>\n",
       "    </tr>\n",
       "    <tr>\n",
       "      <th>max</th>\n",
       "      <td>22.150000</td>\n",
       "      <td>1.760000</td>\n",
       "      <td>73.000000</td>\n",
       "      <td>181.000000</td>\n",
       "      <td>1.000000</td>\n",
       "      <td>1.000000</td>\n",
       "      <td>1.000000</td>\n",
       "      <td>1.000000</td>\n",
       "      <td>1.000000</td>\n",
       "    </tr>\n",
       "  </tbody>\n",
       "</table>\n",
       "</div>"
      ],
      "text/plain": [
       "       Average Wind Speed        PRCP        TMIN  \\\n",
       "count          318.000000  318.000000  318.000000   \n",
       "mean             7.932956    0.095786   39.827044   \n",
       "std              4.119541    0.234191   19.021115   \n",
       "min              0.000000    0.000000   -8.000000   \n",
       "25%              4.920000    0.000000   26.000000   \n",
       "50%              7.160000    0.000000   42.000000   \n",
       "75%             10.070000    0.050000   56.000000   \n",
       "max             22.150000    1.760000   73.000000   \n",
       "\n",
       "       Fastest 5 second wind speed     Fog/Ice  Heavy/Freezing Fog  \\\n",
       "count                   318.000000  318.000000          318.000000   \n",
       "mean                     30.706289    0.374214            0.103774   \n",
       "std                      17.701957    0.484682            0.305447   \n",
       "min                      11.000000    0.000000            0.000000   \n",
       "25%                      21.225000    0.000000            0.000000   \n",
       "50%                      25.900000    0.000000            0.000000   \n",
       "75%                      34.825000    1.000000            0.000000   \n",
       "max                     181.000000    1.000000            1.000000   \n",
       "\n",
       "          Thunder  Smoke/Haze  Power Outage  \n",
       "count  318.000000  318.000000    318.000000  \n",
       "mean     0.106918    0.179245      0.500000  \n",
       "std      0.309496    0.384162      0.500788  \n",
       "min      0.000000    0.000000      0.000000  \n",
       "25%      0.000000    0.000000      0.000000  \n",
       "50%      0.000000    0.000000      0.500000  \n",
       "75%      0.000000    0.000000      1.000000  \n",
       "max      1.000000    1.000000      1.000000  "
      ]
     },
     "execution_count": 2103,
     "metadata": {},
     "output_type": "execute_result"
    }
   ],
   "source": [
    "df.describe()"
   ]
  },
  {
   "cell_type": "code",
   "execution_count": 2104,
   "metadata": {
    "collapsed": true
   },
   "outputs": [],
   "source": [
    "#Split the data into X and Y, and then into training and testing sets\n",
    "#X_raw = np.array(shuffledFinalData.iloc[:,1:11]);\n",
    "X_raw = np.array(df.iloc[:,0:7]);\n",
    "X_raw = preprocessing.MaxAbsScaler().fit_transform(X_raw);\n",
    "\n",
    "y = np.array(df['Power Outage']);\n",
    "X_train, X_test, y_train, y_test = train_test_split(X_raw, y, test_size=0.2, random_state = 20);"
   ]
  },
  {
   "cell_type": "code",
   "execution_count": null,
   "metadata": {
    "collapsed": true
   },
   "outputs": [],
   "source": []
  },
  {
   "cell_type": "code",
   "execution_count": 2105,
   "metadata": {
    "collapsed": true
   },
   "outputs": [],
   "source": [
    "#Import KNN Classifier\n",
    "from sklearn.neighbors import KNeighborsClassifier\n",
    "from sklearn.metrics import accuracy_score\n",
    "from sklearn import preprocessing\n",
    "from sklearn.model_selection import cross_val_score"
   ]
  },
  {
   "cell_type": "code",
   "execution_count": 2106,
   "metadata": {
    "collapsed": true
   },
   "outputs": [],
   "source": [
    "knn = KNeighborsClassifier(n_neighbors=5, weights='distance')"
   ]
  },
  {
   "cell_type": "code",
   "execution_count": 2107,
   "metadata": {
    "collapsed": true
   },
   "outputs": [],
   "source": [
    "knn.fit(X_train, y_train);"
   ]
  },
  {
   "cell_type": "code",
   "execution_count": 2108,
   "metadata": {
    "collapsed": true
   },
   "outputs": [],
   "source": [
    "pred = knn.predict(X_test);"
   ]
  },
  {
   "cell_type": "code",
   "execution_count": 2109,
   "metadata": {
    "collapsed": true
   },
   "outputs": [],
   "source": [
    "accuracy = accuracy_score(y_test, pred);"
   ]
  },
  {
   "cell_type": "code",
   "execution_count": 2110,
   "metadata": {},
   "outputs": [
    {
     "name": "stdout",
     "output_type": "stream",
     "text": [
      "Accuracy:  0.609375\n"
     ]
    }
   ],
   "source": [
    "print(\"Accuracy: \", accuracy);"
   ]
  },
  {
   "cell_type": "code",
   "execution_count": 2111,
   "metadata": {},
   "outputs": [
    {
     "name": "stdout",
     "output_type": "stream",
     "text": [
      "Out of the number of actual ones, it predicted :  66.66666666666666\n"
     ]
    }
   ],
   "source": [
    "#Calculate how many Power outages were predicted correctly\n",
    "actualOutage = set(np.nonzero(y_test)[0]);\n",
    "predictedOutage = set(np.nonzero(pred)[0]);\n",
    "accuratePrediction = predictedOutage.intersection(actualOutage);\n",
    "if len(accuratePrediction)>len(actualOutage):\n",
    "    accuracyPredictionPercentage = 100;\n",
    "else:\n",
    "    accuracyPredictionPercentage = len(accuratePrediction)/len(actualOutage)*100;\n",
    "print(\"Out of the number of actual ones, it predicted : \", accuracyPredictionPercentage);\n"
   ]
  },
  {
   "cell_type": "code",
   "execution_count": 2112,
   "metadata": {},
   "outputs": [
    {
     "name": "stdout",
     "output_type": "stream",
     "text": [
      "Out of the number of normal days, it predicted :  55.88235294117647\n"
     ]
    }
   ],
   "source": [
    "#Calculate how many days were classified as normal days\n",
    "noOutage = set(np.where(y_test == 0)[0])\n",
    "predictedNoOutage = set(np.where(pred == 0)[0])\n",
    "accuratePredictionNoOutage = predictedNoOutage.intersection(noOutage);\n",
    "if len(accuratePredictionNoOutage)>len(noOutage):\n",
    "    accuratePredictionNoOutagePercentage = 100\n",
    "else:\n",
    "    accuratePredictionNoOutagePercentage = len(accuratePredictionNoOutage)/len(noOutage)*100;\n",
    "print(\"Out of the number of normal days, it predicted : \", accuratePredictionNoOutagePercentage);"
   ]
  },
  {
   "cell_type": "code",
   "execution_count": 2113,
   "metadata": {},
   "outputs": [
    {
     "data": {
      "image/png": "[encoded data removed]",
      "text/plain": [
       "<matplotlib.figure.Figure at 0x112b588d0>"
      ]
     },
     "metadata": {},
     "output_type": "display_data"
    }
   ],
   "source": [
    "#Plot graphs of accuracy\n",
    "plt.barh([1,2,3,4], [len(actualOutage),len(accuratePrediction),len(noOutage),len(accuratePredictionNoOutage)]);\n",
    "plt.yticks([1,2,3,4],['Actual Outages','Predicted Outages','No Outage days','Predicted No Outage days'])\n",
    "plt.xlabel('Counts');\n",
    "plt.title('Accuracy');\n",
    "plt.show()"
   ]
  },
  {
   "cell_type": "code",
   "execution_count": 2114,
   "metadata": {
    "collapsed": true
   },
   "outputs": [],
   "source": [
    "checkKValue = list(range(1,50))\n",
    "neighbors = list(filter(lambda x: x % 2 !=0, checkKValue))\n",
    "cv_scores = []\n",
    "for k in neighbors:\n",
    "    knn = KNeighborsClassifier(n_neighbors=k, weights='distance')\n",
    "    scores = cross_val_score(knn, X_train, y_train, cv=10, scoring='accuracy')\n",
    "    cv_scores.append(scores.mean())"
   ]
  },
  {
   "cell_type": "code",
   "execution_count": 2115,
   "metadata": {},
   "outputs": [
    {
     "name": "stdout",
     "output_type": "stream",
     "text": [
      "Optimal K value is :  9\n",
      "Misclassification error at that value is  0.375076923077\n"
     ]
    }
   ],
   "source": [
    "MSE = [1-x for x in cv_scores]\n",
    "optimalK = neighbors[MSE.index(min(MSE))]\n",
    "print(\"Optimal K value is : \", optimalK);\n",
    "print(\"Misclassification error at that value is \", min(MSE));"
   ]
  },
  {
   "cell_type": "code",
   "execution_count": 2116,
   "metadata": {},
   "outputs": [
    {
     "data": {
      "image/png": "[encoded data removed]",
      "text/plain": [
       "<matplotlib.figure.Figure at 0x117b12d30>"
      ]
     },
     "metadata": {},
     "output_type": "display_data"
    }
   ],
   "source": [
    "plt.plot(neighbors, MSE)\n",
    "plt.xlabel('No. of neighbors K')\n",
    "plt.ylabel('Misclassification error')\n",
    "plt.show()"
   ]
  },
  {
   "cell_type": "code",
   "execution_count": null,
   "metadata": {
    "collapsed": true
   },
   "outputs": [],
   "source": []
  }
 ],
 "metadata": {
  "kernelspec": {
   "display_name": "Python 3",
   "language": "python",
   "name": "python3"
  },
  "language_info": {
   "codemirror_mode": {
    "name": "ipython",
    "version": 3
   },
   "file_extension": ".py",
   "mimetype": "text/x-python",
   "name": "python",
   "nbconvert_exporter": "python",
   "pygments_lexer": "ipython3",
   "version": "3.6.2"
  }
 },
 "nbformat": 4,
 "nbformat_minor": 2
}
