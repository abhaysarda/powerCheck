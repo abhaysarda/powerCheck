{
 "cells": [
  {
   "cell_type": "code",
   "execution_count": 1,
   "metadata": {
    "collapsed": true
   },
   "outputs": [],
   "source": [
    "import pandas as pd\n",
    "import matplotlib.pyplot as plt\n",
    "from sklearn import preprocessing\n",
    "import seaborn as sns"
   ]
  },
  {
   "cell_type": "code",
   "execution_count": null,
   "metadata": {
    "collapsed": true
   },
   "outputs": [],
   "source": []
  },
  {
   "cell_type": "code",
   "execution_count": 2,
   "metadata": {
    "collapsed": true
   },
   "outputs": [],
   "source": [
    "#Use this to check if you can eliminate certain months\n",
    "#powerOutages = pd.DataFrame(df.loc[:,['DATE','Power Outage']]);\n",
    "#plt.plot_date(powerOutages['DATE'],powerOutages['Power Outage']);\n",
    "# plt.show()"
   ]
  },
  {
   "cell_type": "code",
   "execution_count": 3,
   "metadata": {},
   "outputs": [
    {
     "data": {
      "text/html": [
       "<div>\n",
       "<style>\n",
       "    .dataframe thead tr:only-child th {\n",
       "        text-align: right;\n",
       "    }\n",
       "\n",
       "    .dataframe thead th {\n",
       "        text-align: left;\n",
       "    }\n",
       "\n",
       "    .dataframe tbody tr th {\n",
       "        vertical-align: top;\n",
       "    }\n",
       "</style>\n",
       "<table border=\"1\" class=\"dataframe\">\n",
       "  <thead>\n",
       "    <tr style=\"text-align: right;\">\n",
       "      <th></th>\n",
       "      <th>PRCP</th>\n",
       "      <th>Delta T Min</th>\n",
       "      <th>Delta T Max</th>\n",
       "      <th>TMAX</th>\n",
       "      <th>5 second wind speed squared</th>\n",
       "      <th>2 min wind speed squared</th>\n",
       "      <th>Avg Wind Speed Squared</th>\n",
       "      <th>Fog/Ice</th>\n",
       "      <th>Heavy/Freezing Fog</th>\n",
       "      <th>Thunder</th>\n",
       "      <th>Smoke/Haze</th>\n",
       "      <th>Power Outage</th>\n",
       "    </tr>\n",
       "  </thead>\n",
       "  <tbody>\n",
       "    <tr>\n",
       "      <th>0</th>\n",
       "      <td>0.000</td>\n",
       "      <td>0.000000</td>\n",
       "      <td>0.000000</td>\n",
       "      <td>0.471698</td>\n",
       "      <td>0.005809</td>\n",
       "      <td>0.014808</td>\n",
       "      <td>0.036815</td>\n",
       "      <td>0.0</td>\n",
       "      <td>0.0</td>\n",
       "      <td>0.0</td>\n",
       "      <td>0.0</td>\n",
       "      <td>0.0</td>\n",
       "    </tr>\n",
       "    <tr>\n",
       "      <th>1</th>\n",
       "      <td>0.000</td>\n",
       "      <td>0.000054</td>\n",
       "      <td>0.000886</td>\n",
       "      <td>0.487421</td>\n",
       "      <td>0.019600</td>\n",
       "      <td>0.057484</td>\n",
       "      <td>0.154984</td>\n",
       "      <td>0.0</td>\n",
       "      <td>0.0</td>\n",
       "      <td>0.0</td>\n",
       "      <td>0.0</td>\n",
       "      <td>0.0</td>\n",
       "    </tr>\n",
       "    <tr>\n",
       "      <th>2</th>\n",
       "      <td>0.000</td>\n",
       "      <td>0.001362</td>\n",
       "      <td>0.000016</td>\n",
       "      <td>0.473795</td>\n",
       "      <td>0.011571</td>\n",
       "      <td>0.037627</td>\n",
       "      <td>0.104491</td>\n",
       "      <td>0.0</td>\n",
       "      <td>0.0</td>\n",
       "      <td>0.0</td>\n",
       "      <td>0.0</td>\n",
       "      <td>0.0</td>\n",
       "    </tr>\n",
       "    <tr>\n",
       "      <th>3</th>\n",
       "      <td>0.005</td>\n",
       "      <td>0.012255</td>\n",
       "      <td>0.000319</td>\n",
       "      <td>0.481132</td>\n",
       "      <td>0.003535</td>\n",
       "      <td>0.009524</td>\n",
       "      <td>0.019968</td>\n",
       "      <td>1.0</td>\n",
       "      <td>0.0</td>\n",
       "      <td>0.0</td>\n",
       "      <td>0.0</td>\n",
       "      <td>0.0</td>\n",
       "    </tr>\n",
       "    <tr>\n",
       "      <th>4</th>\n",
       "      <td>0.000</td>\n",
       "      <td>0.002301</td>\n",
       "      <td>0.000016</td>\n",
       "      <td>0.473795</td>\n",
       "      <td>0.012885</td>\n",
       "      <td>0.041951</td>\n",
       "      <td>0.049338</td>\n",
       "      <td>0.0</td>\n",
       "      <td>0.0</td>\n",
       "      <td>0.0</td>\n",
       "      <td>0.0</td>\n",
       "      <td>0.0</td>\n",
       "    </tr>\n",
       "  </tbody>\n",
       "</table>\n",
       "</div>"
      ],
      "text/plain": [
       "    PRCP  Delta T Min  Delta T Max      TMAX  5 second wind speed squared  \\\n",
       "0  0.000     0.000000     0.000000  0.471698                     0.005809   \n",
       "1  0.000     0.000054     0.000886  0.487421                     0.019600   \n",
       "2  0.000     0.001362     0.000016  0.473795                     0.011571   \n",
       "3  0.005     0.012255     0.000319  0.481132                     0.003535   \n",
       "4  0.000     0.002301     0.000016  0.473795                     0.012885   \n",
       "\n",
       "   2 min wind speed squared  Avg Wind Speed Squared  Fog/Ice  \\\n",
       "0                  0.014808                0.036815      0.0   \n",
       "1                  0.057484                0.154984      0.0   \n",
       "2                  0.037627                0.104491      0.0   \n",
       "3                  0.009524                0.019968      1.0   \n",
       "4                  0.041951                0.049338      0.0   \n",
       "\n",
       "   Heavy/Freezing Fog  Thunder  Smoke/Haze  Power Outage  \n",
       "0                 0.0      0.0         0.0           0.0  \n",
       "1                 0.0      0.0         0.0           0.0  \n",
       "2                 0.0      0.0         0.0           0.0  \n",
       "3                 0.0      0.0         0.0           0.0  \n",
       "4                 0.0      0.0         0.0           0.0  "
      ]
     },
     "execution_count": 3,
     "metadata": {},
     "output_type": "execute_result"
    }
   ],
   "source": [
    "df = pd.read_csv('Final Data');\n",
    "df.head()"
   ]
  },
  {
   "cell_type": "code",
   "execution_count": 4,
   "metadata": {},
   "outputs": [
    {
     "name": "stderr",
     "output_type": "stream",
     "text": [
      "/anaconda3/lib/python3.6/site-packages/sklearn/cross_validation.py:41: DeprecationWarning: This module was deprecated in version 0.18 in favor of the model_selection module into which all the refactored classes and functions are moved. Also note that the interface of the new CV iterators are different from that of this module. This module will be removed in 0.20.\n",
      "  \"This module will be removed in 0.20.\", DeprecationWarning)\n"
     ]
    },
    {
     "data": {
      "text/plain": [
       "(2910, 12)"
      ]
     },
     "execution_count": 4,
     "metadata": {},
     "output_type": "execute_result"
    }
   ],
   "source": [
    "import numpy as np\n",
    "from sklearn.cross_validation import train_test_split\n",
    "df.shape"
   ]
  },
  {
   "cell_type": "code",
   "execution_count": 5,
   "metadata": {
    "collapsed": true
   },
   "outputs": [],
   "source": [
    "#Split the data into X and Y, and then into training and testing sets\n",
    "X = np.array(df[['2 min wind speed squared','Avg Wind Speed Squared','5 second wind speed squared','Fog/Ice','Heavy/Freezing Fog','Thunder']]);\n",
    "y = np.array(df['Power Outage']);\n",
    "X_train, X_test, y_train, y_test = train_test_split(X, y, test_size=0.33, random_state = 20);"
   ]
  },
  {
   "cell_type": "code",
   "execution_count": 6,
   "metadata": {
    "collapsed": true
   },
   "outputs": [],
   "source": [
    "#Import KNN Classifier\n",
    "from sklearn.neighbors import KNeighborsClassifier\n",
    "from sklearn.metrics import accuracy_score\n",
    "from sklearn.model_selection import cross_val_score\n"
   ]
  },
  {
   "cell_type": "code",
   "execution_count": 7,
   "metadata": {},
   "outputs": [
    {
     "name": "stdout",
     "output_type": "stream",
     "text": [
      "Optimal K value is :  19\n",
      "Misclassification error at that value is  0.0646444620671\n"
     ]
    },
    {
     "data": {
      "image/png": "[encoded data removed]",
      "text/plain": [
       "<matplotlib.figure.Figure at 0x11975a278>"
      ]
     },
     "metadata": {},
     "output_type": "display_data"
    }
   ],
   "source": [
    "checkKValue = list(range(1,50))\n",
    "neighbors = list(filter(lambda x: x % 2 !=0, checkKValue))\n",
    "cv_scores = []\n",
    "for k in neighbors:\n",
    "    knn = KNeighborsClassifier(n_neighbors=k, weights='distance')\n",
    "    scores = cross_val_score(knn, X_train, y_train, cv=10, scoring='accuracy')\n",
    "    cv_scores.append(scores.mean())\n",
    "\n",
    "MSE = [1-x for x in cv_scores]\n",
    "optimalK = neighbors[MSE.index(min(MSE))]\n",
    "print(\"Optimal K value is : \", optimalK);\n",
    "print(\"Misclassification error at that value is \", min(MSE));\n",
    "plt.plot(neighbors, MSE)\n",
    "plt.xlabel('No. of neighbors K')\n",
    "plt.ylabel('Misclassification error')\n",
    "plt.show()"
   ]
  },
  {
   "cell_type": "code",
   "execution_count": 8,
   "metadata": {
    "collapsed": true
   },
   "outputs": [],
   "source": [
    "knn = KNeighborsClassifier(n_neighbors=optimalK)"
   ]
  },
  {
   "cell_type": "code",
   "execution_count": 9,
   "metadata": {
    "collapsed": true
   },
   "outputs": [],
   "source": [
    "knn.fit(X_train, y_train);"
   ]
  },
  {
   "cell_type": "code",
   "execution_count": 10,
   "metadata": {
    "collapsed": true
   },
   "outputs": [],
   "source": [
    "pred = knn.predict(X_test);"
   ]
  },
  {
   "cell_type": "code",
   "execution_count": 11,
   "metadata": {
    "collapsed": true
   },
   "outputs": [],
   "source": [
    "accuracy = accuracy_score(y_test, pred);"
   ]
  },
  {
   "cell_type": "code",
   "execution_count": 12,
   "metadata": {},
   "outputs": [
    {
     "name": "stdout",
     "output_type": "stream",
     "text": [
      "Accuracy:  0.94901144641\n"
     ]
    },
    {
     "data": {
      "image/png": "[encoded data removed]",
      "text/plain": [
       "<matplotlib.figure.Figure at 0x11973d0f0>"
      ]
     },
     "metadata": {},
     "output_type": "display_data"
    }
   ],
   "source": [
    "print(\"Accuracy: \", accuracy);\n",
    "# from sklearn.metrics import confusion_matrix\n",
    "# con_mat = confusion_matrix(y_test, pred, [0, 1])\n",
    "# print(con_mat)\n",
    "from sklearn.metrics import confusion_matrix\n",
    "\n",
    "cm = pd.DataFrame(confusion_matrix(y_test, pred));\n",
    "\n",
    "sns.heatmap(cm, annot=True);\n",
    "\n",
    "plt.show();"
   ]
  },
  {
   "cell_type": "code",
   "execution_count": 13,
   "metadata": {},
   "outputs": [
    {
     "name": "stdout",
     "output_type": "stream",
     "text": [
      "Out of the number of actual ones, it predicted :  0.0\n"
     ]
    }
   ],
   "source": [
    "#Calculate how many Power outages were predicted correctly\n",
    "actualOutage = set(np.nonzero(y_test)[0]);\n",
    "predictedOutage = set(np.nonzero(pred)[0]);\n",
    "accuratePrediction = predictedOutage.intersection(actualOutage);\n",
    "if len(accuratePrediction)>len(actualOutage):\n",
    "    accuracyPredictionPercentage = 100;\n",
    "else:\n",
    "    accuracyPredictionPercentage = len(accuratePrediction)/len(actualOutage)*100;\n",
    "print(\"Out of the number of actual ones, it predicted : \", accuracyPredictionPercentage);\n"
   ]
  },
  {
   "cell_type": "code",
   "execution_count": 14,
   "metadata": {},
   "outputs": [
    {
     "name": "stdout",
     "output_type": "stream",
     "text": [
      "Out of the number of normal days, it predicted :  100.0\n"
     ]
    }
   ],
   "source": [
    "#Calculate how many days were classified as normal days\n",
    "noOutage = set(np.where(y_test == 0)[0])\n",
    "predictedNoOutage = set(np.where(pred == 0)[0])\n",
    "accuratePredictionNoOutage = predictedNoOutage.intersection(noOutage);\n",
    "if len(accuratePredictionNoOutage)>len(noOutage):\n",
    "    accuratePredictionNoOutagePercentage = 100\n",
    "else:\n",
    "    accuratePredictionNoOutagePercentage = len(accuratePredictionNoOutage)/len(noOutage)*100;\n",
    "print(\"Out of the number of normal days, it predicted : \", accuratePredictionNoOutagePercentage);"
   ]
  },
  {
   "cell_type": "code",
   "execution_count": 15,
   "metadata": {},
   "outputs": [
    {
     "data": {
      "image/png": "[encoded data removed]",
      "text/plain": [
       "<matplotlib.figure.Figure at 0x11973ce80>"
      ]
     },
     "metadata": {},
     "output_type": "display_data"
    }
   ],
   "source": [
    "#Plot graphs of accuracy\n",
    "plt.barh([1,2,3,4], [len(actualOutage),len(accuratePrediction),len(noOutage),len(accuratePredictionNoOutage)]);\n",
    "plt.yticks([1,2,3,4],['Actual Outages','Predicted Outages','No Outage days','Predicted No Outage days'])\n",
    "plt.xlabel('Counts');\n",
    "plt.title('Accuracy');\n",
    "plt.show()"
   ]
  },
  {
   "cell_type": "code",
   "execution_count": 16,
   "metadata": {
    "collapsed": true
   },
   "outputs": [],
   "source": [
    "checkKValue = list(range(1,50))\n",
    "neighbors = list(filter(lambda x: x % 2 !=0, checkKValue))\n",
    "cv_scores = []\n",
    "for k in neighbors:\n",
    "    knn = KNeighborsClassifier(n_neighbors=k, weights='distance')\n",
    "    scores = cross_val_score(knn, X_train, y_train, cv=10, scoring='accuracy')\n",
    "    cv_scores.append(scores.mean())"
   ]
  },
  {
   "cell_type": "code",
   "execution_count": 17,
   "metadata": {},
   "outputs": [
    {
     "name": "stdout",
     "output_type": "stream",
     "text": [
      "Optimal K value is :  19\n",
      "Misclassification error at that value is  0.0646444620671\n"
     ]
    }
   ],
   "source": [
    "MSE = [1-x for x in cv_scores]\n",
    "optimalK = neighbors[MSE.index(min(MSE))]\n",
    "print(\"Optimal K value is : \", optimalK);\n",
    "print(\"Misclassification error at that value is \", min(MSE));"
   ]
  },
  {
   "cell_type": "code",
   "execution_count": 18,
   "metadata": {},
   "outputs": [
    {
     "data": {
      "image/png": "[encoded data removed]",
      "text/plain": [
       "<matplotlib.figure.Figure at 0x119786278>"
      ]
     },
     "metadata": {},
     "output_type": "display_data"
    }
   ],
   "source": [
    "plt.plot(neighbors, MSE)\n",
    "plt.xlabel('No. of neighbors K')\n",
    "plt.ylabel('Misclassification error')\n",
    "plt.show()"
   ]
  },
  {
   "cell_type": "code",
   "execution_count": 19,
   "metadata": {},
   "outputs": [
    {
     "name": "stdout",
     "output_type": "stream",
     "text": [
      "Accuracy:  0.5\n"
     ]
    }
   ],
   "source": [
    "#Indiana prediction based on Michigan Weather\n",
    "#Split the data into X and Y, and then into training and testing sets\n",
    "indiana=pd.read_csv('Indiana data');\n",
    "X = np.array(df[['Avg Wind Speed Squared','5 second wind speed squared','2 min wind speed squared','Fog/Ice','Thunder']]);\n",
    "X_test = np.array(indiana[['Avg Wind Speed Squared','5 second wind speed squared','2 min wind speed squared','Fog/Ice fog','Thunder']]);\n",
    "y = np.array(df['Power Outage']);\n",
    "y_test = np.array(indiana['Power Outage']);\n",
    "knn = KNeighborsClassifier(n_neighbors=optimalK)\n",
    "knn.fit(X,y);\n",
    "pred = knn.predict(X_test);\n",
    "accuracy = accuracy_score(y_test, pred);\n",
    "print(\"Accuracy: \", accuracy);"
   ]
  },
  {
   "cell_type": "code",
   "execution_count": 20,
   "metadata": {},
   "outputs": [
    {
     "name": "stdout",
     "output_type": "stream",
     "text": [
      "Accuracy:  0.5\n"
     ]
    },
    {
     "data": {
      "image/png": "[encoded data removed]",
      "text/plain": [
       "<matplotlib.figure.Figure at 0x10c7b1908>"
      ]
     },
     "metadata": {},
     "output_type": "display_data"
    }
   ],
   "source": [
    "from sklearn.metrics import confusion_matrix\n",
    "\n",
    "cm = pd.DataFrame(confusion_matrix(y_test, pred));\n",
    "\n",
    "sns.heatmap(cm, annot=True, vmin=0, vmax=50);\n",
    "print(\"Accuracy: \", accuracy);\n",
    "plt.show();\n"
   ]
  },
  {
   "cell_type": "code",
   "execution_count": 21,
   "metadata": {},
   "outputs": [
    {
     "name": "stdout",
     "output_type": "stream",
     "text": [
      "Out of the number of actual ones, it predicted :  0.0\n"
     ]
    }
   ],
   "source": [
    "#Calculate how many Power outages were predicted correctly\n",
    "actualOutage = set(np.nonzero(y_test)[0]);\n",
    "predictedOutage = set(np.nonzero(pred)[0]);\n",
    "accuratePrediction = predictedOutage.intersection(actualOutage);\n",
    "if len(accuratePrediction)>len(actualOutage):\n",
    "    accuracyPredictionPercentage = 100;\n",
    "else:\n",
    "    accuracyPredictionPercentage = len(accuratePrediction)/len(actualOutage)*100;\n",
    "print(\"Out of the number of actual ones, it predicted : \", accuracyPredictionPercentage);\n"
   ]
  },
  {
   "cell_type": "code",
   "execution_count": 22,
   "metadata": {},
   "outputs": [
    {
     "name": "stdout",
     "output_type": "stream",
     "text": [
      "Out of the number of normal days, it predicted :  100.0\n"
     ]
    }
   ],
   "source": [
    "#Calculate how many days were classified as normal days\n",
    "noOutage = set(np.where(y_test == 0)[0])\n",
    "predictedNoOutage = set(np.where(pred == 0)[0])\n",
    "accuratePredictionNoOutage = predictedNoOutage.intersection(noOutage);\n",
    "if len(accuratePredictionNoOutage)>len(noOutage):\n",
    "    accuratePredictionNoOutagePercentage = 100\n",
    "else:\n",
    "    accuratePredictionNoOutagePercentage = len(accuratePredictionNoOutage)/len(noOutage)*100;\n",
    "print(\"Out of the number of normal days, it predicted : \", accuratePredictionNoOutagePercentage);"
   ]
  },
  {
   "cell_type": "code",
   "execution_count": 23,
   "metadata": {},
   "outputs": [
    {
     "data": {
      "text/html": [
       "<div>\n",
       "<style>\n",
       "    .dataframe thead tr:only-child th {\n",
       "        text-align: right;\n",
       "    }\n",
       "\n",
       "    .dataframe thead th {\n",
       "        text-align: left;\n",
       "    }\n",
       "\n",
       "    .dataframe tbody tr th {\n",
       "        vertical-align: top;\n",
       "    }\n",
       "</style>\n",
       "<table border=\"1\" class=\"dataframe\">\n",
       "  <thead>\n",
       "    <tr style=\"text-align: right;\">\n",
       "      <th></th>\n",
       "      <th>PRCP</th>\n",
       "      <th>Fog/Ice</th>\n",
       "      <th>Heavy/Freezing Fog</th>\n",
       "      <th>Thunder</th>\n",
       "      <th>Power Outage</th>\n",
       "      <th>Avg Wind Speed Squared</th>\n",
       "      <th>5 second wind speed squared</th>\n",
       "      <th>2 min wind speed squared</th>\n",
       "    </tr>\n",
       "  </thead>\n",
       "  <tbody>\n",
       "    <tr>\n",
       "      <th>count</th>\n",
       "      <td>2910.000000</td>\n",
       "      <td>2910.000000</td>\n",
       "      <td>2910.000000</td>\n",
       "      <td>2910.000000</td>\n",
       "      <td>2910.000000</td>\n",
       "      <td>2910.000000</td>\n",
       "      <td>2910.000000</td>\n",
       "      <td>2910.000000</td>\n",
       "    </tr>\n",
       "    <tr>\n",
       "      <th>mean</th>\n",
       "      <td>0.019899</td>\n",
       "      <td>0.344674</td>\n",
       "      <td>0.100344</td>\n",
       "      <td>0.053265</td>\n",
       "      <td>0.054639</td>\n",
       "      <td>0.133314</td>\n",
       "      <td>0.031864</td>\n",
       "      <td>0.057726</td>\n",
       "    </tr>\n",
       "    <tr>\n",
       "      <th>std</th>\n",
       "      <td>0.056304</td>\n",
       "      <td>0.475343</td>\n",
       "      <td>0.300509</td>\n",
       "      <td>0.224599</td>\n",
       "      <td>0.227314</td>\n",
       "      <td>0.128751</td>\n",
       "      <td>0.071300</td>\n",
       "      <td>0.059636</td>\n",
       "    </tr>\n",
       "    <tr>\n",
       "      <th>min</th>\n",
       "      <td>0.000000</td>\n",
       "      <td>0.000000</td>\n",
       "      <td>0.000000</td>\n",
       "      <td>0.000000</td>\n",
       "      <td>0.000000</td>\n",
       "      <td>0.000000</td>\n",
       "      <td>0.000000</td>\n",
       "      <td>0.000000</td>\n",
       "    </tr>\n",
       "    <tr>\n",
       "      <th>25%</th>\n",
       "      <td>0.000000</td>\n",
       "      <td>0.000000</td>\n",
       "      <td>0.000000</td>\n",
       "      <td>0.000000</td>\n",
       "      <td>0.000000</td>\n",
       "      <td>0.045024</td>\n",
       "      <td>0.010548</td>\n",
       "      <td>0.028859</td>\n",
       "    </tr>\n",
       "    <tr>\n",
       "      <th>50%</th>\n",
       "      <td>0.000000</td>\n",
       "      <td>0.000000</td>\n",
       "      <td>0.000000</td>\n",
       "      <td>0.000000</td>\n",
       "      <td>0.000000</td>\n",
       "      <td>0.097886</td>\n",
       "      <td>0.016690</td>\n",
       "      <td>0.041951</td>\n",
       "    </tr>\n",
       "    <tr>\n",
       "      <th>75%</th>\n",
       "      <td>0.007500</td>\n",
       "      <td>1.000000</td>\n",
       "      <td>0.000000</td>\n",
       "      <td>0.000000</td>\n",
       "      <td>0.000000</td>\n",
       "      <td>0.180098</td>\n",
       "      <td>0.028260</td>\n",
       "      <td>0.069620</td>\n",
       "    </tr>\n",
       "    <tr>\n",
       "      <th>max</th>\n",
       "      <td>1.000000</td>\n",
       "      <td>1.000000</td>\n",
       "      <td>1.000000</td>\n",
       "      <td>1.000000</td>\n",
       "      <td>1.000000</td>\n",
       "      <td>1.000000</td>\n",
       "      <td>1.000000</td>\n",
       "      <td>1.000000</td>\n",
       "    </tr>\n",
       "  </tbody>\n",
       "</table>\n",
       "</div>"
      ],
      "text/plain": [
       "              PRCP      Fog/Ice  Heavy/Freezing Fog      Thunder  \\\n",
       "count  2910.000000  2910.000000         2910.000000  2910.000000   \n",
       "mean      0.019899     0.344674            0.100344     0.053265   \n",
       "std       0.056304     0.475343            0.300509     0.224599   \n",
       "min       0.000000     0.000000            0.000000     0.000000   \n",
       "25%       0.000000     0.000000            0.000000     0.000000   \n",
       "50%       0.000000     0.000000            0.000000     0.000000   \n",
       "75%       0.007500     1.000000            0.000000     0.000000   \n",
       "max       1.000000     1.000000            1.000000     1.000000   \n",
       "\n",
       "       Power Outage  Avg Wind Speed Squared  5 second wind speed squared  \\\n",
       "count   2910.000000             2910.000000                  2910.000000   \n",
       "mean       0.054639                0.133314                     0.031864   \n",
       "std        0.227314                0.128751                     0.071300   \n",
       "min        0.000000                0.000000                     0.000000   \n",
       "25%        0.000000                0.045024                     0.010548   \n",
       "50%        0.000000                0.097886                     0.016690   \n",
       "75%        0.000000                0.180098                     0.028260   \n",
       "max        1.000000                1.000000                     1.000000   \n",
       "\n",
       "       2 min wind speed squared  \n",
       "count               2910.000000  \n",
       "mean                   0.057726  \n",
       "std                    0.059636  \n",
       "min                    0.000000  \n",
       "25%                    0.028859  \n",
       "50%                    0.041951  \n",
       "75%                    0.069620  \n",
       "max                    1.000000  "
      ]
     },
     "execution_count": 23,
     "metadata": {},
     "output_type": "execute_result"
    }
   ],
   "source": [
    "#Now find how well was the data undersampled using clustering\n",
    "raw_data = pd.read_csv('data.csv');\n",
    "raw_data = raw_data.fillna(0);\n",
    "raw_data['Avg Wind Speed Squared'] = pd.Series(np.square(raw_data['Average Wind Speed']));\n",
    "raw_data['5 second wind speed squared'] = pd.Series(np.square(raw_data['Fastest 5 second wind speed']));\n",
    "raw_data['2 min wind speed squared'] = pd.Series(np.square(raw_data['Fastest 2 minute wind speed']));\n",
    "raw_data = raw_data.drop(['DATE','TMAX','TMIN','Smoke/Haze','Average Wind Speed','Fastest 5 second wind speed','Fastest 2 minute wind speed'], axis=1);\n",
    "#Normalize data\n",
    "scaledData = preprocessing.MinMaxScaler().fit_transform(raw_data.values);\n",
    "raw_data = pd.DataFrame(scaledData, index = raw_data.index, columns = raw_data.columns);\n",
    "raw_data.describe()"
   ]
  },
  {
   "cell_type": "code",
   "execution_count": 24,
   "metadata": {},
   "outputs": [
    {
     "data": {
      "text/html": [
       "<div>\n",
       "<style>\n",
       "    .dataframe thead tr:only-child th {\n",
       "        text-align: right;\n",
       "    }\n",
       "\n",
       "    .dataframe thead th {\n",
       "        text-align: left;\n",
       "    }\n",
       "\n",
       "    .dataframe tbody tr th {\n",
       "        vertical-align: top;\n",
       "    }\n",
       "</style>\n",
       "<table border=\"1\" class=\"dataframe\">\n",
       "  <thead>\n",
       "    <tr style=\"text-align: right;\">\n",
       "      <th></th>\n",
       "      <th>PRCP</th>\n",
       "      <th>Delta T Min</th>\n",
       "      <th>Delta T Max</th>\n",
       "      <th>TMAX</th>\n",
       "      <th>5 second wind speed squared</th>\n",
       "      <th>2 min wind speed squared</th>\n",
       "      <th>Avg Wind Speed Squared</th>\n",
       "      <th>Fog/Ice</th>\n",
       "      <th>Heavy/Freezing Fog</th>\n",
       "      <th>Thunder</th>\n",
       "      <th>Smoke/Haze</th>\n",
       "      <th>Power Outage</th>\n",
       "    </tr>\n",
       "  </thead>\n",
       "  <tbody>\n",
       "    <tr>\n",
       "      <th>count</th>\n",
       "      <td>2910.000000</td>\n",
       "      <td>2910.000000</td>\n",
       "      <td>2910.000000</td>\n",
       "      <td>2910.000000</td>\n",
       "      <td>2910.000000</td>\n",
       "      <td>2910.000000</td>\n",
       "      <td>2910.000000</td>\n",
       "      <td>2910.000000</td>\n",
       "      <td>2910.000000</td>\n",
       "      <td>2910.000000</td>\n",
       "      <td>2910.000000</td>\n",
       "      <td>2910.000000</td>\n",
       "    </tr>\n",
       "    <tr>\n",
       "      <th>mean</th>\n",
       "      <td>0.019899</td>\n",
       "      <td>0.217197</td>\n",
       "      <td>0.448535</td>\n",
       "      <td>0.502817</td>\n",
       "      <td>0.031864</td>\n",
       "      <td>0.057726</td>\n",
       "      <td>0.133314</td>\n",
       "      <td>0.344674</td>\n",
       "      <td>0.100344</td>\n",
       "      <td>0.053265</td>\n",
       "      <td>0.150172</td>\n",
       "      <td>0.054639</td>\n",
       "    </tr>\n",
       "    <tr>\n",
       "      <th>std</th>\n",
       "      <td>0.056304</td>\n",
       "      <td>0.219058</td>\n",
       "      <td>0.292105</td>\n",
       "      <td>0.352508</td>\n",
       "      <td>0.071300</td>\n",
       "      <td>0.059636</td>\n",
       "      <td>0.128751</td>\n",
       "      <td>0.475343</td>\n",
       "      <td>0.300509</td>\n",
       "      <td>0.224599</td>\n",
       "      <td>0.357301</td>\n",
       "      <td>0.227314</td>\n",
       "    </tr>\n",
       "    <tr>\n",
       "      <th>min</th>\n",
       "      <td>0.000000</td>\n",
       "      <td>0.000000</td>\n",
       "      <td>0.000000</td>\n",
       "      <td>0.000000</td>\n",
       "      <td>0.000000</td>\n",
       "      <td>0.000000</td>\n",
       "      <td>0.000000</td>\n",
       "      <td>0.000000</td>\n",
       "      <td>0.000000</td>\n",
       "      <td>0.000000</td>\n",
       "      <td>0.000000</td>\n",
       "      <td>0.000000</td>\n",
       "    </tr>\n",
       "    <tr>\n",
       "      <th>25%</th>\n",
       "      <td>0.000000</td>\n",
       "      <td>0.021786</td>\n",
       "      <td>0.165847</td>\n",
       "      <td>0.134172</td>\n",
       "      <td>0.010548</td>\n",
       "      <td>0.028859</td>\n",
       "      <td>0.045024</td>\n",
       "      <td>0.000000</td>\n",
       "      <td>0.000000</td>\n",
       "      <td>0.000000</td>\n",
       "      <td>0.000000</td>\n",
       "      <td>0.000000</td>\n",
       "    </tr>\n",
       "    <tr>\n",
       "      <th>50%</th>\n",
       "      <td>0.000000</td>\n",
       "      <td>0.164758</td>\n",
       "      <td>0.496130</td>\n",
       "      <td>0.495807</td>\n",
       "      <td>0.016690</td>\n",
       "      <td>0.041951</td>\n",
       "      <td>0.097886</td>\n",
       "      <td>0.000000</td>\n",
       "      <td>0.000000</td>\n",
       "      <td>0.000000</td>\n",
       "      <td>0.000000</td>\n",
       "      <td>0.000000</td>\n",
       "    </tr>\n",
       "    <tr>\n",
       "      <th>75%</th>\n",
       "      <td>0.007500</td>\n",
       "      <td>0.370706</td>\n",
       "      <td>0.684559</td>\n",
       "      <td>0.865828</td>\n",
       "      <td>0.028260</td>\n",
       "      <td>0.069620</td>\n",
       "      <td>0.180098</td>\n",
       "      <td>1.000000</td>\n",
       "      <td>0.000000</td>\n",
       "      <td>0.000000</td>\n",
       "      <td>0.000000</td>\n",
       "      <td>0.000000</td>\n",
       "    </tr>\n",
       "    <tr>\n",
       "      <th>max</th>\n",
       "      <td>1.000000</td>\n",
       "      <td>1.000000</td>\n",
       "      <td>1.000000</td>\n",
       "      <td>1.000000</td>\n",
       "      <td>1.000000</td>\n",
       "      <td>1.000000</td>\n",
       "      <td>1.000000</td>\n",
       "      <td>1.000000</td>\n",
       "      <td>1.000000</td>\n",
       "      <td>1.000000</td>\n",
       "      <td>1.000000</td>\n",
       "      <td>1.000000</td>\n",
       "    </tr>\n",
       "  </tbody>\n",
       "</table>\n",
       "</div>"
      ],
      "text/plain": [
       "              PRCP  Delta T Min  Delta T Max         TMAX  \\\n",
       "count  2910.000000  2910.000000  2910.000000  2910.000000   \n",
       "mean      0.019899     0.217197     0.448535     0.502817   \n",
       "std       0.056304     0.219058     0.292105     0.352508   \n",
       "min       0.000000     0.000000     0.000000     0.000000   \n",
       "25%       0.000000     0.021786     0.165847     0.134172   \n",
       "50%       0.000000     0.164758     0.496130     0.495807   \n",
       "75%       0.007500     0.370706     0.684559     0.865828   \n",
       "max       1.000000     1.000000     1.000000     1.000000   \n",
       "\n",
       "       5 second wind speed squared  2 min wind speed squared  \\\n",
       "count                  2910.000000               2910.000000   \n",
       "mean                      0.031864                  0.057726   \n",
       "std                       0.071300                  0.059636   \n",
       "min                       0.000000                  0.000000   \n",
       "25%                       0.010548                  0.028859   \n",
       "50%                       0.016690                  0.041951   \n",
       "75%                       0.028260                  0.069620   \n",
       "max                       1.000000                  1.000000   \n",
       "\n",
       "       Avg Wind Speed Squared      Fog/Ice  Heavy/Freezing Fog      Thunder  \\\n",
       "count             2910.000000  2910.000000         2910.000000  2910.000000   \n",
       "mean                 0.133314     0.344674            0.100344     0.053265   \n",
       "std                  0.128751     0.475343            0.300509     0.224599   \n",
       "min                  0.000000     0.000000            0.000000     0.000000   \n",
       "25%                  0.045024     0.000000            0.000000     0.000000   \n",
       "50%                  0.097886     0.000000            0.000000     0.000000   \n",
       "75%                  0.180098     1.000000            0.000000     0.000000   \n",
       "max                  1.000000     1.000000            1.000000     1.000000   \n",
       "\n",
       "        Smoke/Haze  Power Outage  \n",
       "count  2910.000000   2910.000000  \n",
       "mean      0.150172      0.054639  \n",
       "std       0.357301      0.227314  \n",
       "min       0.000000      0.000000  \n",
       "25%       0.000000      0.000000  \n",
       "50%       0.000000      0.000000  \n",
       "75%       0.000000      0.000000  \n",
       "max       1.000000      1.000000  "
      ]
     },
     "execution_count": 24,
     "metadata": {},
     "output_type": "execute_result"
    }
   ],
   "source": [
    "df.describe()"
   ]
  },
  {
   "cell_type": "code",
   "execution_count": 25,
   "metadata": {},
   "outputs": [
    {
     "data": {
      "text/html": [
       "<div>\n",
       "<style>\n",
       "    .dataframe thead tr:only-child th {\n",
       "        text-align: right;\n",
       "    }\n",
       "\n",
       "    .dataframe thead th {\n",
       "        text-align: left;\n",
       "    }\n",
       "\n",
       "    .dataframe tbody tr th {\n",
       "        vertical-align: top;\n",
       "    }\n",
       "</style>\n",
       "<table border=\"1\" class=\"dataframe\">\n",
       "  <thead>\n",
       "    <tr style=\"text-align: right;\">\n",
       "      <th></th>\n",
       "      <th>Avg Wind Speed Squared</th>\n",
       "      <th>2 min wind speed squared</th>\n",
       "      <th>5 second wind speed squared</th>\n",
       "      <th>Fog/Ice</th>\n",
       "      <th>Thunder</th>\n",
       "    </tr>\n",
       "  </thead>\n",
       "  <tbody>\n",
       "    <tr>\n",
       "      <th>0</th>\n",
       "      <td>0.036815</td>\n",
       "      <td>0.014808</td>\n",
       "      <td>0.005809</td>\n",
       "      <td>0.0</td>\n",
       "      <td>0.0</td>\n",
       "    </tr>\n",
       "    <tr>\n",
       "      <th>1</th>\n",
       "      <td>0.154984</td>\n",
       "      <td>0.057484</td>\n",
       "      <td>0.019600</td>\n",
       "      <td>0.0</td>\n",
       "      <td>0.0</td>\n",
       "    </tr>\n",
       "    <tr>\n",
       "      <th>2</th>\n",
       "      <td>0.104491</td>\n",
       "      <td>0.037627</td>\n",
       "      <td>0.011571</td>\n",
       "      <td>0.0</td>\n",
       "      <td>0.0</td>\n",
       "    </tr>\n",
       "    <tr>\n",
       "      <th>3</th>\n",
       "      <td>0.019968</td>\n",
       "      <td>0.009524</td>\n",
       "      <td>0.003535</td>\n",
       "      <td>1.0</td>\n",
       "      <td>0.0</td>\n",
       "    </tr>\n",
       "    <tr>\n",
       "      <th>4</th>\n",
       "      <td>0.049338</td>\n",
       "      <td>0.041951</td>\n",
       "      <td>0.012885</td>\n",
       "      <td>0.0</td>\n",
       "      <td>0.0</td>\n",
       "    </tr>\n",
       "  </tbody>\n",
       "</table>\n",
       "</div>"
      ],
      "text/plain": [
       "   Avg Wind Speed Squared  2 min wind speed squared  \\\n",
       "0                0.036815                  0.014808   \n",
       "1                0.154984                  0.057484   \n",
       "2                0.104491                  0.037627   \n",
       "3                0.019968                  0.009524   \n",
       "4                0.049338                  0.041951   \n",
       "\n",
       "   5 second wind speed squared  Fog/Ice  Thunder  \n",
       "0                     0.005809      0.0      0.0  \n",
       "1                     0.019600      0.0      0.0  \n",
       "2                     0.011571      0.0      0.0  \n",
       "3                     0.003535      1.0      0.0  \n",
       "4                     0.012885      0.0      0.0  "
      ]
     },
     "execution_count": 25,
     "metadata": {},
     "output_type": "execute_result"
    }
   ],
   "source": [
    "y_test = raw_data['Power Outage'];\n",
    "raw_data=raw_data[['Avg Wind Speed Squared','2 min wind speed squared','5 second wind speed squared','Fog/Ice','Thunder']];\n",
    "X = df[['Avg Wind Speed Squared','2 min wind speed squared','5 second wind speed squared','Fog/Ice','Thunder']];\n",
    "X_test = raw_data;\n",
    "X_test.head()"
   ]
  },
  {
   "cell_type": "code",
   "execution_count": 26,
   "metadata": {},
   "outputs": [
    {
     "name": "stdout",
     "output_type": "stream",
     "text": [
      "Accuracy:  0.987285223368\n"
     ]
    }
   ],
   "source": [
    "knn = KNeighborsClassifier(n_neighbors=10, weights=\"distance\")\n",
    "knn.fit(X,y);\n",
    "pred = knn.predict(X_test);\n",
    "accuracy = accuracy_score(y_test, pred);\n",
    "print(\"Accuracy: \", accuracy);\n"
   ]
  },
  {
   "cell_type": "code",
   "execution_count": 27,
   "metadata": {},
   "outputs": [
    {
     "name": "stdout",
     "output_type": "stream",
     "text": [
      "Out of the number of actual ones, it predicted :  76.72955974842768\n"
     ]
    }
   ],
   "source": [
    "#Calculate how many Power outages were predicted correctly\n",
    "actualOutage = set(np.nonzero(y_test)[0]);\n",
    "predictedOutage = set(np.nonzero(pred)[0]);\n",
    "accuratePrediction = predictedOutage.intersection(actualOutage);\n",
    "if len(accuratePrediction)>len(actualOutage):\n",
    "    accuracyPredictionPercentage = 100;\n",
    "else:\n",
    "    accuracyPredictionPercentage = len(accuratePrediction)/len(actualOutage)*100;\n",
    "print(\"Out of the number of actual ones, it predicted : \", accuracyPredictionPercentage);\n"
   ]
  },
  {
   "cell_type": "code",
   "execution_count": 28,
   "metadata": {},
   "outputs": [
    {
     "name": "stdout",
     "output_type": "stream",
     "text": [
      "Out of the number of normal days, it predicted :  100.0\n"
     ]
    }
   ],
   "source": [
    "#Calculate how many days were classified as normal days\n",
    "noOutage = set(np.where(y_test == 0)[0])\n",
    "predictedNoOutage = set(np.where(pred == 0)[0])\n",
    "accuratePredictionNoOutage = predictedNoOutage.intersection(noOutage);\n",
    "if len(accuratePredictionNoOutage)>len(noOutage):\n",
    "    accuratePredictionNoOutagePercentage = 100\n",
    "else:\n",
    "    accuratePredictionNoOutagePercentage = len(accuratePredictionNoOutage)/len(noOutage)*100;\n",
    "print(\"Out of the number of normal days, it predicted : \", accuratePredictionNoOutagePercentage);"
   ]
  }
 ],
 "metadata": {
  "kernelspec": {
   "display_name": "Python 3",
   "language": "python",
   "name": "python3"
  },
  "language_info": {
   "codemirror_mode": {
    "name": "ipython",
    "version": 3
   },
   "file_extension": ".py",
   "mimetype": "text/x-python",
   "name": "python",
   "nbconvert_exporter": "python",
   "pygments_lexer": "ipython3",
   "version": "3.6.2"
  }
 },
 "nbformat": 4,
 "nbformat_minor": 2
}
