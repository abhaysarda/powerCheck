{
 "cells": [
  {
   "cell_type": "code",
   "execution_count": 5,
   "metadata": {},
   "outputs": [],
   "source": [
    "import pandas as pd\n",
    "#Load labels\n",
    "names = ['Date', 'Average Wind Speed', 'Precipitation', 'Tmax', 'Tmin', 'Fastest 2 minute wind speed', 'Fastest 5 second WindSpeed',\n",
    "        'Fog/Ice', 'Heavy/Freezing Fog', 'Thunder', 'Smoke/Haze', 'Power Outage'];\n",
    "#Load data\n",
    "df = pd.read_csv('data.csv');\n",
    "\n"
   ]
  },
  {
   "cell_type": "code",
   "execution_count": 14,
   "metadata": {},
   "outputs": [
    {
     "name": "stdout",
     "output_type": "stream",
     "text": [
      "         DATE  Average Wind Speed  PRCP  TMAX  TMIN  \\\n",
      "0  2010-01-01               10.74   0.0  26.0  14.0   \n",
      "1  2010-01-02               11.18   0.0  14.0   5.0   \n",
      "2  2010-01-03               12.30   0.0  23.0   4.0   \n",
      "3  2010-01-04                9.40   0.0  25.0  19.0   \n",
      "4  2010-01-05                8.50   0.0  28.0  22.0   \n",
      "\n",
      "   Fastest 2 minute wind speed  Fastest 5 second wind speed  Fog/Ice  \\\n",
      "0                         21.9                         28.0      NaN   \n",
      "1                         23.9                         35.1      NaN   \n",
      "2                         23.0                         30.0      NaN   \n",
      "3                         16.1                         21.9      NaN   \n",
      "4                         15.0                         21.9      1.0   \n",
      "\n",
      "   Heavy/Freezing Fog  Thunder  Smoke/Haze  Power Outage  NaN  \n",
      "0                 NaN      NaN         NaN           NaN  NaN  \n",
      "1                 NaN      NaN         NaN           NaN  NaN  \n",
      "2                 NaN      NaN         NaN           NaN  NaN  \n",
      "3                 NaN      NaN         1.0           NaN  NaN  \n",
      "4                 NaN      NaN         1.0           NaN  NaN  \n"
     ]
    }
   ],
   "source": [
    "df.fillna(0);\n",
    "print(df);"
   ]
  },
  {
   "cell_type": "code",
   "execution_count": null,
   "metadata": {
    "collapsed": true
   },
   "outputs": [],
   "source": []
  }
 ],
 "metadata": {
  "kernelspec": {
   "display_name": "Python 3",
   "language": "python",
   "name": "python3"
  },
  "language_info": {
   "codemirror_mode": {
    "name": "ipython",
    "version": 3
   },
   "file_extension": ".py",
   "mimetype": "text/x-python",
   "name": "python",
   "nbconvert_exporter": "python",
   "pygments_lexer": "ipython3",
   "version": "3.6.2"
  }
 },
 "nbformat": 4,
 "nbformat_minor": 2
}
