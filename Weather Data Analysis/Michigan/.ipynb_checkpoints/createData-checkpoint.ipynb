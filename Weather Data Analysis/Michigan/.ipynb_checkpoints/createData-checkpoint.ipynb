{
 "cells": [
  {
   "cell_type": "code",
   "execution_count": 26,
   "metadata": {
    "collapsed": true
   },
   "outputs": [],
   "source": [
    "import pandas as pd\n",
    "import pandas_ml as pdml\n",
    "import numpy as np\n",
    "import matplotlib.pyplot as plt\n",
    "from sklearn import preprocessing\n"
   ]
  },
  {
   "cell_type": "code",
   "execution_count": 27,
   "metadata": {},
   "outputs": [
    {
     "data": {
      "text/html": [
       "<div>\n",
       "<style>\n",
       "    .dataframe thead tr:only-child th {\n",
       "        text-align: right;\n",
       "    }\n",
       "\n",
       "    .dataframe thead th {\n",
       "        text-align: left;\n",
       "    }\n",
       "\n",
       "    .dataframe tbody tr th {\n",
       "        vertical-align: top;\n",
       "    }\n",
       "</style>\n",
       "<table border=\"1\" class=\"dataframe\">\n",
       "  <thead>\n",
       "    <tr style=\"text-align: right;\">\n",
       "      <th></th>\n",
       "      <th>DATE</th>\n",
       "      <th>Average Wind Speed</th>\n",
       "      <th>PRCP</th>\n",
       "      <th>TMAX</th>\n",
       "      <th>TMIN</th>\n",
       "      <th>Fastest 2 minute wind speed</th>\n",
       "      <th>Fastest 5 second wind speed</th>\n",
       "      <th>Fog/Ice</th>\n",
       "      <th>Heavy/Freezing Fog</th>\n",
       "      <th>Thunder</th>\n",
       "      <th>Smoke/Haze</th>\n",
       "      <th>Power Outage</th>\n",
       "    </tr>\n",
       "  </thead>\n",
       "  <tbody>\n",
       "    <tr>\n",
       "      <th>0</th>\n",
       "      <td>2017-12-31</td>\n",
       "      <td>4.25</td>\n",
       "      <td>0.00</td>\n",
       "      <td>15.0</td>\n",
       "      <td>-11.0</td>\n",
       "      <td>10.1</td>\n",
       "      <td>14.1</td>\n",
       "      <td>0.0</td>\n",
       "      <td>0.0</td>\n",
       "      <td>0.0</td>\n",
       "      <td>0.0</td>\n",
       "      <td>0.0</td>\n",
       "    </tr>\n",
       "    <tr>\n",
       "      <th>1</th>\n",
       "      <td>2017-12-30</td>\n",
       "      <td>8.72</td>\n",
       "      <td>0.00</td>\n",
       "      <td>15.0</td>\n",
       "      <td>-2.0</td>\n",
       "      <td>19.9</td>\n",
       "      <td>25.9</td>\n",
       "      <td>0.0</td>\n",
       "      <td>0.0</td>\n",
       "      <td>0.0</td>\n",
       "      <td>0.0</td>\n",
       "      <td>0.0</td>\n",
       "    </tr>\n",
       "    <tr>\n",
       "      <th>2</th>\n",
       "      <td>2017-12-29</td>\n",
       "      <td>7.16</td>\n",
       "      <td>0.00</td>\n",
       "      <td>17.0</td>\n",
       "      <td>8.0</td>\n",
       "      <td>16.1</td>\n",
       "      <td>19.9</td>\n",
       "      <td>0.0</td>\n",
       "      <td>0.0</td>\n",
       "      <td>0.0</td>\n",
       "      <td>0.0</td>\n",
       "      <td>0.0</td>\n",
       "    </tr>\n",
       "    <tr>\n",
       "      <th>3</th>\n",
       "      <td>2017-12-28</td>\n",
       "      <td>3.13</td>\n",
       "      <td>0.02</td>\n",
       "      <td>11.0</td>\n",
       "      <td>-20.0</td>\n",
       "      <td>8.1</td>\n",
       "      <td>11.0</td>\n",
       "      <td>1.0</td>\n",
       "      <td>0.0</td>\n",
       "      <td>0.0</td>\n",
       "      <td>0.0</td>\n",
       "      <td>0.0</td>\n",
       "    </tr>\n",
       "    <tr>\n",
       "      <th>4</th>\n",
       "      <td>2017-12-27</td>\n",
       "      <td>4.92</td>\n",
       "      <td>0.00</td>\n",
       "      <td>11.0</td>\n",
       "      <td>-17.0</td>\n",
       "      <td>17.0</td>\n",
       "      <td>21.0</td>\n",
       "      <td>0.0</td>\n",
       "      <td>0.0</td>\n",
       "      <td>0.0</td>\n",
       "      <td>0.0</td>\n",
       "      <td>0.0</td>\n",
       "    </tr>\n",
       "  </tbody>\n",
       "</table>\n",
       "</div>"
      ],
      "text/plain": [
       "        DATE  Average Wind Speed  PRCP  TMAX  TMIN  \\\n",
       "0 2017-12-31                4.25  0.00  15.0 -11.0   \n",
       "1 2017-12-30                8.72  0.00  15.0  -2.0   \n",
       "2 2017-12-29                7.16  0.00  17.0   8.0   \n",
       "3 2017-12-28                3.13  0.02  11.0 -20.0   \n",
       "4 2017-12-27                4.92  0.00  11.0 -17.0   \n",
       "\n",
       "   Fastest 2 minute wind speed  Fastest 5 second wind speed  Fog/Ice  \\\n",
       "0                         10.1                         14.1      0.0   \n",
       "1                         19.9                         25.9      0.0   \n",
       "2                         16.1                         19.9      0.0   \n",
       "3                          8.1                         11.0      1.0   \n",
       "4                         17.0                         21.0      0.0   \n",
       "\n",
       "   Heavy/Freezing Fog  Thunder  Smoke/Haze  Power Outage  \n",
       "0                 0.0      0.0         0.0           0.0  \n",
       "1                 0.0      0.0         0.0           0.0  \n",
       "2                 0.0      0.0         0.0           0.0  \n",
       "3                 0.0      0.0         0.0           0.0  \n",
       "4                 0.0      0.0         0.0           0.0  "
      ]
     },
     "execution_count": 27,
     "metadata": {},
     "output_type": "execute_result"
    }
   ],
   "source": [
    "#Load data\n",
    "df = pd.read_csv('data.csv');\n",
    "#Replace NaN with 0\n",
    "df = df.fillna(0);\n",
    "df['DATE'] = pd.to_datetime(df['DATE']);\n",
    "df.head()"
   ]
  },
  {
   "cell_type": "code",
   "execution_count": 28,
   "metadata": {
    "collapsed": true
   },
   "outputs": [],
   "source": [
    "#Add column for Delta T Max\n",
    "temp = pd.Series(df.iloc[:,3]);\n",
    "deltaTemp = pd.Series(df.iloc[:,3]);\n",
    "deltaTemp[0] = 0;\n",
    "for i in range (1, temp.shape[0]):\n",
    "    deltaTemp[i] = temp[i] - temp[i-1];\n",
    "df['Delta T Max'] = pd.Series(np.square(deltaTemp));"
   ]
  },
  {
   "cell_type": "code",
   "execution_count": 29,
   "metadata": {
    "collapsed": true
   },
   "outputs": [],
   "source": [
    "#Add column for Delta T min\n",
    "temp = pd.Series(df.iloc[:,4]);\n",
    "deltaTemp = pd.Series(df.iloc[:,4]);\n",
    "deltaTemp[0] = 0;\n",
    "for i in range (1, temp.shape[0]):\n",
    "    deltaTemp[i] = temp[i] - temp[i-1];\n",
    "df['Delta T Min'] = pd.Series(np.square(deltaTemp));"
   ]
  },
  {
   "cell_type": "code",
   "execution_count": 30,
   "metadata": {
    "collapsed": true
   },
   "outputs": [],
   "source": [
    "#Add columns for wind squared\n",
    "df['Avg Wind Speed Squared'] = pd.Series(np.square(df['Average Wind Speed']), index=df.index)\n",
    "df['5 second wind speed squared'] = pd.Series(np.square(df['Fastest 5 second wind speed']));\n",
    "df['2 min wind speed squared'] = pd.Series(np.square(df['Fastest 2 minute wind speed']));\n",
    "df = df[['Power Outage', 'PRCP','Delta T Min', 'Delta T Max', 'TMAX','TMIN','Fastest 5 second wind speed','5 second wind speed squared', 'Fastest 2 minute wind speed' ,'2 min wind speed squared','Average Wind Speed','Avg Wind Speed Squared','Fog/Ice', 'Heavy/Freezing Fog', 'Thunder','Smoke/Haze']];\n"
   ]
  },
  {
   "cell_type": "code",
   "execution_count": null,
   "metadata": {
    "collapsed": true
   },
   "outputs": [],
   "source": []
  },
  {
   "cell_type": "code",
   "execution_count": 31,
   "metadata": {
    "collapsed": true
   },
   "outputs": [],
   "source": [
    "#Normalize data\n",
    "scaledData = preprocessing.MinMaxScaler().fit_transform(df.values);\n",
    "finalData = pd.DataFrame(scaledData, index = df.index, columns = df.columns);"
   ]
  },
  {
   "cell_type": "code",
   "execution_count": 32,
   "metadata": {
    "collapsed": true
   },
   "outputs": [],
   "source": [
    "finalData.to_csv('Clustered Data', index = False);"
   ]
  }
 ],
 "metadata": {
  "kernelspec": {
   "display_name": "Python 3",
   "language": "python",
   "name": "python3"
  },
  "language_info": {
   "codemirror_mode": {
    "name": "ipython",
    "version": 3
   },
   "file_extension": ".py",
   "mimetype": "text/x-python",
   "name": "python",
   "nbconvert_exporter": "python",
   "pygments_lexer": "ipython3",
   "version": "3.6.2"
  }
 },
 "nbformat": 4,
 "nbformat_minor": 2
}
