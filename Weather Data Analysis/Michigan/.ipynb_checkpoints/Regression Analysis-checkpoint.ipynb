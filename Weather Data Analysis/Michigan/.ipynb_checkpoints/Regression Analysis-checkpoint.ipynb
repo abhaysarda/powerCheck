{
 "cells": [
  {
   "cell_type": "code",
   "execution_count": 114,
   "metadata": {
    "collapsed": true
   },
   "outputs": [],
   "source": [
    "import pandas as pd\n",
    "import numpy as np\n",
    "import matplotlib.pyplot as plt\n",
    "from sklearn.feature_selection import VarianceThreshold\n",
    "from sklearn.decomposition import PCA"
   ]
  },
  {
   "cell_type": "code",
   "execution_count": 115,
   "metadata": {},
   "outputs": [
    {
     "name": "stdout",
     "output_type": "stream",
     "text": [
      "(459, 10)\n"
     ]
    }
   ],
   "source": [
    "df = pd.read_csv('Shuffled Data');\n",
    "#Delete a column\n",
    "po = df['Power Outage'];\n",
    "df = df.drop(['DATE','Power Outage'], axis=1);\n",
    "print(df.shape);"
   ]
  },
  {
   "cell_type": "code",
   "execution_count": 116,
   "metadata": {
    "collapsed": true
   },
   "outputs": [],
   "source": [
    "#Visualize data in histograms\n",
    "# df.hist(bins=50, figsize=(20,15))\n",
    "# plt.savefig(\"attribute_histogram_plots\")\n",
    "# plt.show()"
   ]
  },
  {
   "cell_type": "code",
   "execution_count": 117,
   "metadata": {
    "collapsed": true
   },
   "outputs": [],
   "source": [
    "# df.plot(kind=\"scatter\",x=\"PRCP\", y=\"Power Outage\", alpha=0.2)\n",
    "# plt.show()"
   ]
  },
  {
   "cell_type": "code",
   "execution_count": 118,
   "metadata": {
    "collapsed": true
   },
   "outputs": [],
   "source": [
    "# corr_matrix = df.corr()\n",
    "# corr_matrix[\"Power Outage\"].sort_values(ascending=False)\n",
    "# corr_matrix[\"Fastest 5 second wind speed\"].sort_values(ascending=False)"
   ]
  },
  {
   "cell_type": "code",
   "execution_count": 119,
   "metadata": {
    "collapsed": true
   },
   "outputs": [],
   "source": [
    "pca = PCA(3);\n",
    "pca.fit(df);"
   ]
  },
  {
   "cell_type": "code",
   "execution_count": 120,
   "metadata": {},
   "outputs": [
    {
     "name": "stdout",
     "output_type": "stream",
     "text": [
      "[[  2.81499245e-02  -1.52317980e-03  -7.62508366e-01  -6.30424111e-01\n",
      "   -2.98616853e-02  -1.39456040e-01  -8.46110263e-04  -1.39398448e-03\n",
      "   -3.04020719e-03  -2.90841876e-04]\n",
      " [  1.11517382e-01   1.90240723e-03  -1.15835730e-01  -7.46219219e-02\n",
      "    3.59646402e-01   9.16082699e-01   2.85854259e-03   1.06474174e-03\n",
      "    2.64561355e-03   2.13456444e-03]\n",
      " [ -3.58715163e-01  -6.59319862e-03   4.93463970e-01  -6.41055241e-01\n",
      "   -4.12427179e-01   2.15761246e-01   5.42401040e-04   1.15771672e-02\n",
      "   -4.22026026e-03   4.49664006e-03]]\n"
     ]
    }
   ],
   "source": [
    "print(pca.components_)"
   ]
  },
  {
   "cell_type": "code",
   "execution_count": 121,
   "metadata": {},
   "outputs": [
    {
     "name": "stdout",
     "output_type": "stream",
     "text": [
      "[ 819.53406547  299.97827438   35.54757731]\n"
     ]
    }
   ],
   "source": [
    "print(pca.explained_variance_);"
   ]
  },
  {
   "cell_type": "code",
   "execution_count": 122,
   "metadata": {
    "collapsed": true
   },
   "outputs": [],
   "source": [
    "df_pca = pca.transform(df);"
   ]
  },
  {
   "cell_type": "code",
   "execution_count": 123,
   "metadata": {},
   "outputs": [
    {
     "name": "stdout",
     "output_type": "stream",
     "text": [
      "(459, 3)\n"
     ]
    }
   ],
   "source": [
    "print(df_pca.shape);"
   ]
  },
  {
   "cell_type": "code",
   "execution_count": 124,
   "metadata": {
    "collapsed": true
   },
   "outputs": [],
   "source": [
    "pca = PCA().fit(df)"
   ]
  },
  {
   "cell_type": "code",
   "execution_count": 125,
   "metadata": {},
   "outputs": [
    {
     "data": {
      "text/plain": [
       "<matplotlib.text.Text at 0x10e006fd0>"
      ]
     },
     "execution_count": 125,
     "metadata": {},
     "output_type": "execute_result"
    }
   ],
   "source": [
    "plt.plot(np.cumsum(pca.explained_variance_ratio_))\n",
    "plt.xlabel('No. of components')\n",
    "plt.ylabel('Cumulative explained variance')"
   ]
  },
  {
   "cell_type": "code",
   "execution_count": 126,
   "metadata": {},
   "outputs": [
    {
     "data": {
      "image/png": "[encoded data removed]",
      "text/plain": [
       "<matplotlib.figure.Figure at 0x111c22a58>"
      ]
     },
     "metadata": {},
     "output_type": "display_data"
    }
   ],
   "source": [
    "plt.show()"
   ]
  },
  {
   "cell_type": "code",
   "execution_count": 127,
   "metadata": {},
   "outputs": [],
   "source": [
    "dataFramePCA = pd.DataFrame(df_pca);\n",
    "x = pd.concat([dataFramePCA, po],axis=1);\n",
    "\n",
    "x.to_csv('PCAData',index=False);"
   ]
  },
  {
   "cell_type": "code",
   "execution_count": 128,
   "metadata": {},
   "outputs": [
    {
     "name": "stdout",
     "output_type": "stream",
     "text": [
      "                  0             1             2  Power Outage\n",
      "count  4.590000e+02  4.590000e+02  4.590000e+02    459.000000\n",
      "mean  -3.328250e-16  9.752547e-16 -7.131792e-16      0.346405\n",
      "std    2.862751e+01  1.731988e+01  5.962179e+00      0.476343\n",
      "min   -5.272156e+01 -3.441808e+01 -1.382898e+01      0.000000\n",
      "25%   -2.393097e+01 -1.011572e+01 -4.373799e+00      0.000000\n",
      "50%   -3.349821e+00 -3.696985e+00 -3.499491e-01      0.000000\n",
      "75%    2.427038e+01  6.485705e+00  3.737578e+00      1.000000\n",
      "max    7.292633e+01  1.429482e+02  2.162257e+01      1.000000\n"
     ]
    }
   ],
   "source": [
    "print(x.describe())"
   ]
  },
  {
   "cell_type": "code",
   "execution_count": null,
   "metadata": {
    "collapsed": true
   },
   "outputs": [],
   "source": []
  }
 ],
 "metadata": {
  "kernelspec": {
   "display_name": "Python 3",
   "language": "python",
   "name": "python3"
  },
  "language_info": {
   "codemirror_mode": {
    "name": "ipython",
    "version": 3
   },
   "file_extension": ".py",
   "mimetype": "text/x-python",
   "name": "python",
   "nbconvert_exporter": "python",
   "pygments_lexer": "ipython3",
   "version": "3.6.2"
  }
 },
 "nbformat": 4,
 "nbformat_minor": 2
}
