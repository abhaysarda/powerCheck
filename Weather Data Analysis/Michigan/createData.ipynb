{
 "cells": [
  {
   "cell_type": "code",
   "execution_count": 1,
   "metadata": {
    "collapsed": true
   },
   "outputs": [],
   "source": [
    "import pandas as pd\n",
    "import pandas_ml as pdml\n",
    "import numpy as np\n",
    "import matplotlib.pyplot as plt\n",
    "from sklearn import preprocessing\n",
    "from sklearn.decomposition import PCA\n"
   ]
  },
  {
   "cell_type": "code",
   "execution_count": 9,
   "metadata": {},
   "outputs": [
    {
     "data": {
      "text/plain": [
       "0       0.0\n",
       "1       0.0\n",
       "2       0.0\n",
       "3       1.0\n",
       "4       0.0\n",
       "5       1.0\n",
       "6       1.0\n",
       "7       1.0\n",
       "8       1.0\n",
       "9       1.0\n",
       "10      0.0\n",
       "11      0.0\n",
       "12      0.0\n",
       "13      0.0\n",
       "14      1.0\n",
       "15      1.0\n",
       "16      0.0\n",
       "17      0.0\n",
       "18      0.0\n",
       "19      0.0\n",
       "20      0.0\n",
       "21      0.0\n",
       "22      0.0\n",
       "23      0.0\n",
       "24      0.0\n",
       "25      0.0\n",
       "26      0.0\n",
       "27      0.0\n",
       "28      0.0\n",
       "29      0.0\n",
       "       ... \n",
       "2880    0.0\n",
       "2881    0.0\n",
       "2882    0.0\n",
       "2883    1.0\n",
       "2884    1.0\n",
       "2885    1.0\n",
       "2886    1.0\n",
       "2887    0.0\n",
       "2888    0.0\n",
       "2889    0.0\n",
       "2890    0.0\n",
       "2891    1.0\n",
       "2892    1.0\n",
       "2893    1.0\n",
       "2894    1.0\n",
       "2895    1.0\n",
       "2896    0.0\n",
       "2897    0.0\n",
       "2898    0.0\n",
       "2899    0.0\n",
       "2900    0.0\n",
       "2901    0.0\n",
       "2902    1.0\n",
       "2903    1.0\n",
       "2904    1.0\n",
       "2905    1.0\n",
       "2906    0.0\n",
       "2907    0.0\n",
       "2908    0.0\n",
       "2909    0.0\n",
       "Name: Fog/Ice, Length: 2910, dtype: float64"
      ]
     },
     "execution_count": 9,
     "metadata": {},
     "output_type": "execute_result"
    }
   ],
   "source": [
    "#Load data\n",
    "df = pd.read_csv('data.csv');\n",
    "#Replace NaN with 0\n",
    "df = df.fillna(0);\n",
    "df['DATE'] = pd.to_datetime(df['DATE']);\n",
    "df['Fog/Ice']"
   ]
  },
  {
   "cell_type": "code",
   "execution_count": 3,
   "metadata": {
    "collapsed": true
   },
   "outputs": [],
   "source": [
    "#Add columns for wind squared\n",
    "df['Avg Wind Speed Squared'] = pd.Series(np.square(df['Average Wind Speed']), index=df.index)\n",
    "df['5 second wind speed squared'] = pd.Series(np.square(df['Fastest 5 second wind speed']));\n",
    "df['2 min wind speed squared'] = pd.Series(np.square(df['Fastest 2 minute wind speed']));\n",
    "df = df[['Power Outage', 'PRCP', 'TMAX','TMIN','Fastest 5 second wind speed','5 second wind speed squared', 'Fastest 2 minute wind speed' ,'2 min wind speed squared','Average Wind Speed','Avg Wind Speed Squared','Fog/Ice', 'Heavy/Freezing Fog', 'Thunder','Smoke/Haze']];\n"
   ]
  },
  {
   "cell_type": "code",
   "execution_count": 4,
   "metadata": {},
   "outputs": [
    {
     "name": "stdout",
     "output_type": "stream",
     "text": [
      "0.0    2751\n",
      "1.0     159\n",
      "Name: Power Outage, dtype: int64\n",
      "1.0    159\n",
      "0.0    159\n",
      "Name: Power Outage, dtype: int64\n"
     ]
    },
    {
     "data": {
      "text/html": [
       "<div>\n",
       "<style>\n",
       "    .dataframe thead tr:only-child th {\n",
       "        text-align: right;\n",
       "    }\n",
       "\n",
       "    .dataframe thead th {\n",
       "        text-align: left;\n",
       "    }\n",
       "\n",
       "    .dataframe tbody tr th {\n",
       "        vertical-align: top;\n",
       "    }\n",
       "</style>\n",
       "<table border=\"1\" class=\"dataframe\">\n",
       "  <thead>\n",
       "    <tr style=\"text-align: right;\">\n",
       "      <th></th>\n",
       "      <th>Power Outage</th>\n",
       "      <th>PRCP</th>\n",
       "      <th>TMAX</th>\n",
       "      <th>TMIN</th>\n",
       "      <th>Fastest 5 second wind speed</th>\n",
       "      <th>5 second wind speed squared</th>\n",
       "      <th>Fastest 2 minute wind speed</th>\n",
       "      <th>2 min wind speed squared</th>\n",
       "      <th>Average Wind Speed</th>\n",
       "      <th>Avg Wind Speed Squared</th>\n",
       "      <th>Fog/Ice</th>\n",
       "      <th>Heavy/Freezing Fog</th>\n",
       "      <th>Thunder</th>\n",
       "      <th>Smoke/Haze</th>\n",
       "    </tr>\n",
       "  </thead>\n",
       "  <tbody>\n",
       "    <tr>\n",
       "      <th>0</th>\n",
       "      <td>0.0</td>\n",
       "      <td>0.02725</td>\n",
       "      <td>49.4</td>\n",
       "      <td>27.925</td>\n",
       "      <td>23.675</td>\n",
       "      <td>560.6575</td>\n",
       "      <td>20.0375</td>\n",
       "      <td>401.63375</td>\n",
       "      <td>8.1815</td>\n",
       "      <td>70.66704</td>\n",
       "      <td>0.25</td>\n",
       "      <td>0.125</td>\n",
       "      <td>0.025</td>\n",
       "      <td>0.15</td>\n",
       "    </tr>\n",
       "    <tr>\n",
       "      <th>1</th>\n",
       "      <td>0.0</td>\n",
       "      <td>0.29000</td>\n",
       "      <td>41.0</td>\n",
       "      <td>34.000</td>\n",
       "      <td>140.000</td>\n",
       "      <td>19600.0000</td>\n",
       "      <td>48.1000</td>\n",
       "      <td>2313.61000</td>\n",
       "      <td>2.6800</td>\n",
       "      <td>7.18240</td>\n",
       "      <td>1.00</td>\n",
       "      <td>1.000</td>\n",
       "      <td>0.000</td>\n",
       "      <td>0.00</td>\n",
       "    </tr>\n",
       "    <tr>\n",
       "      <th>2</th>\n",
       "      <td>0.0</td>\n",
       "      <td>0.02500</td>\n",
       "      <td>76.5</td>\n",
       "      <td>53.500</td>\n",
       "      <td>83.000</td>\n",
       "      <td>6889.0000</td>\n",
       "      <td>36.0000</td>\n",
       "      <td>1296.81000</td>\n",
       "      <td>6.1500</td>\n",
       "      <td>39.33540</td>\n",
       "      <td>1.00</td>\n",
       "      <td>0.500</td>\n",
       "      <td>0.000</td>\n",
       "      <td>1.00</td>\n",
       "    </tr>\n",
       "    <tr>\n",
       "      <th>3</th>\n",
       "      <td>0.0</td>\n",
       "      <td>0.38000</td>\n",
       "      <td>41.0</td>\n",
       "      <td>34.000</td>\n",
       "      <td>161.100</td>\n",
       "      <td>25953.2100</td>\n",
       "      <td>83.0000</td>\n",
       "      <td>6889.00000</td>\n",
       "      <td>8.2800</td>\n",
       "      <td>68.55840</td>\n",
       "      <td>1.00</td>\n",
       "      <td>0.000</td>\n",
       "      <td>0.000</td>\n",
       "      <td>1.00</td>\n",
       "    </tr>\n",
       "    <tr>\n",
       "      <th>4</th>\n",
       "      <td>0.0</td>\n",
       "      <td>0.00000</td>\n",
       "      <td>39.0</td>\n",
       "      <td>21.000</td>\n",
       "      <td>181.000</td>\n",
       "      <td>32761.0000</td>\n",
       "      <td>25.1000</td>\n",
       "      <td>630.01000</td>\n",
       "      <td>3.1300</td>\n",
       "      <td>9.79690</td>\n",
       "      <td>1.00</td>\n",
       "      <td>0.000</td>\n",
       "      <td>0.000</td>\n",
       "      <td>1.00</td>\n",
       "    </tr>\n",
       "  </tbody>\n",
       "</table>\n",
       "</div>"
      ],
      "text/plain": [
       "   Power Outage     PRCP  TMAX    TMIN  Fastest 5 second wind speed  \\\n",
       "0           0.0  0.02725  49.4  27.925                       23.675   \n",
       "1           0.0  0.29000  41.0  34.000                      140.000   \n",
       "2           0.0  0.02500  76.5  53.500                       83.000   \n",
       "3           0.0  0.38000  41.0  34.000                      161.100   \n",
       "4           0.0  0.00000  39.0  21.000                      181.000   \n",
       "\n",
       "   5 second wind speed squared  Fastest 2 minute wind speed  \\\n",
       "0                     560.6575                      20.0375   \n",
       "1                   19600.0000                      48.1000   \n",
       "2                    6889.0000                      36.0000   \n",
       "3                   25953.2100                      83.0000   \n",
       "4                   32761.0000                      25.1000   \n",
       "\n",
       "   2 min wind speed squared  Average Wind Speed  Avg Wind Speed Squared  \\\n",
       "0                 401.63375              8.1815                70.66704   \n",
       "1                2313.61000              2.6800                 7.18240   \n",
       "2                1296.81000              6.1500                39.33540   \n",
       "3                6889.00000              8.2800                68.55840   \n",
       "4                 630.01000              3.1300                 9.79690   \n",
       "\n",
       "   Fog/Ice  Heavy/Freezing Fog  Thunder  Smoke/Haze  \n",
       "0     0.25               0.125    0.025        0.15  \n",
       "1     1.00               1.000    0.000        0.00  \n",
       "2     1.00               0.500    0.000        1.00  \n",
       "3     1.00               0.000    0.000        1.00  \n",
       "4     1.00               0.000    0.000        1.00  "
      ]
     },
     "execution_count": 4,
     "metadata": {},
     "output_type": "execute_result"
    }
   ],
   "source": [
    "#Under sample based on Cluster Centroids\n",
    "df_ML = pdml.ModelFrame(df, target = 'Power Outage')\n",
    "df_ML.target_name\n",
    "print(df_ML.target.value_counts());\n",
    "sampler = df_ML.imbalance.under_sampling.ClusterCentroids();\n",
    "sampled = df_ML.fit_sample(sampler);\n",
    "print(sampled.target.value_counts());\n",
    "finalData = pd.DataFrame(sampled);\n",
    "finalData.head()"
   ]
  },
  {
   "cell_type": "code",
   "execution_count": 5,
   "metadata": {
    "collapsed": true
   },
   "outputs": [],
   "source": [
    "# Random Split\n",
    "#Split the data in two parts.\n",
    "# powerOutages = df.loc[df['Power Outage'] == 1];\n",
    "# noPowerOutages = df.loc[df['Power Outage'] == 0];\n",
    "\n",
    "# zeroDays = noPowerOutages.sample(159);\n",
    "# finalData = pd.concat([powerOutages,zeroDays]);\n",
    "# finalData = finalData.sample(318);\n"
   ]
  },
  {
   "cell_type": "code",
   "execution_count": 6,
   "metadata": {
    "collapsed": true
   },
   "outputs": [],
   "source": [
    "#Normalize data\n",
    "scaledData = preprocessing.MinMaxScaler().fit_transform(finalData.values);\n",
    "finalData = pd.DataFrame(scaledData, index = finalData.index, columns = finalData.columns);"
   ]
  },
  {
   "cell_type": "code",
   "execution_count": 7,
   "metadata": {
    "collapsed": true
   },
   "outputs": [],
   "source": [
    "finalData.to_csv('Clustered Data', index = False);"
   ]
  },
  {
   "cell_type": "code",
   "execution_count": null,
   "metadata": {
    "collapsed": true
   },
   "outputs": [],
   "source": []
  }
 ],
 "metadata": {
  "kernelspec": {
   "display_name": "Python 3",
   "language": "python",
   "name": "python3"
  },
  "language_info": {
   "codemirror_mode": {
    "name": "ipython",
    "version": 3
   },
   "file_extension": ".py",
   "mimetype": "text/x-python",
   "name": "python",
   "nbconvert_exporter": "python",
   "pygments_lexer": "ipython3",
   "version": "3.6.2"
  }
 },
 "nbformat": 4,
 "nbformat_minor": 2
}
