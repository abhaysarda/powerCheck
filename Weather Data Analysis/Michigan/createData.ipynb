{
 "cells": [
  {
   "cell_type": "code",
   "execution_count": 34,
   "metadata": {
    "collapsed": true
   },
   "outputs": [],
   "source": [
    "import pandas as pd\n",
    "import matplotlib.pyplot as plt\n",
    "#Load labels\n",
    "names = ['Date', 'Average Wind Speed', 'PRCP', 'TMAX', 'TMIN', 'Fastest 2 minute wind speed', 'Fastest 5 second WindSpeed',\n",
    "        'Fog/Ice', 'Heavy/Freezing Fog', 'Thunder', 'Smoke/Haze', 'Power Outage'];\n",
    "#Load data\n",
    "df = pd.read_csv('data.csv');\n",
    "#Replace NaN with 0\n",
    "df = df.fillna(0);\n",
    "df['DATE'] = pd.to_datetime(df['DATE']);"
   ]
  },
  {
   "cell_type": "code",
   "execution_count": 35,
   "metadata": {},
   "outputs": [
    {
     "name": "stdout",
     "output_type": "stream",
     "text": [
      "(318, 12)\n"
     ]
    }
   ],
   "source": [
    "#Split the data in two parts.\n",
    "powerOutages = df.loc[df['Power Outage'] == 1];\n",
    "noPowerOutages = df.loc[df['Power Outage'] == 0];\n",
    "\n",
    "zeroDays = noPowerOutages.sample(159);\n",
    "finalData = pd.concat([powerOutages,zeroDays]);\n",
    "print(finalData.shape);\n",
    "shuffledFinalData = finalData.sample(318);"
   ]
  },
  {
   "cell_type": "code",
   "execution_count": 36,
   "metadata": {
    "collapsed": true
   },
   "outputs": [],
   "source": [
    "shuffledFinalData.to_csv('Shuffled Data', index = False);"
   ]
  },
  {
   "cell_type": "code",
   "execution_count": null,
   "metadata": {
    "collapsed": true
   },
   "outputs": [],
   "source": []
  }
 ],
 "metadata": {
  "kernelspec": {
   "display_name": "Python 3",
   "language": "python",
   "name": "python3"
  },
  "language_info": {
   "codemirror_mode": {
    "name": "ipython",
    "version": 3
   },
   "file_extension": ".py",
   "mimetype": "text/x-python",
   "name": "python",
   "nbconvert_exporter": "python",
   "pygments_lexer": "ipython3",
   "version": "3.6.2"
  }
 },
 "nbformat": 4,
 "nbformat_minor": 2
}
