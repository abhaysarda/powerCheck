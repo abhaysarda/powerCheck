{
 "cells": [
  {
   "cell_type": "code",
   "execution_count": 107,
   "metadata": {
    "collapsed": true
   },
   "outputs": [],
   "source": [
    "import pandas as pd\n",
    "import pandas_ml as pdml\n",
    "import numpy as np\n",
    "import matplotlib.pyplot as plt\n",
    "from sklearn import preprocessing\n",
    "from sklearn.cross_validation import train_test_split\n",
    "#Import KNN Classifier\n",
    "from sklearn.neighbors import KNeighborsClassifier\n",
    "from sklearn.metrics import accuracy_score\n",
    "from sklearn.model_selection import cross_val_score\n",
    "from imblearn.over_sampling import SMOTE \n",
    "from imblearn.under_sampling import ClusterCentroids"
   ]
  },
  {
   "cell_type": "code",
   "execution_count": 108,
   "metadata": {},
   "outputs": [
    {
     "data": {
      "text/html": [
       "<div>\n",
       "<style>\n",
       "    .dataframe thead tr:only-child th {\n",
       "        text-align: right;\n",
       "    }\n",
       "\n",
       "    .dataframe thead th {\n",
       "        text-align: left;\n",
       "    }\n",
       "\n",
       "    .dataframe tbody tr th {\n",
       "        vertical-align: top;\n",
       "    }\n",
       "</style>\n",
       "<table border=\"1\" class=\"dataframe\">\n",
       "  <thead>\n",
       "    <tr style=\"text-align: right;\">\n",
       "      <th></th>\n",
       "      <th>Average Wind Speed</th>\n",
       "      <th>PRCP</th>\n",
       "      <th>TMAX</th>\n",
       "      <th>TMIN</th>\n",
       "      <th>Fastest 2 minute wind speed</th>\n",
       "      <th>Fastest 5 second wind speed</th>\n",
       "      <th>Fog/Ice</th>\n",
       "      <th>Heavy/Freezing Fog</th>\n",
       "      <th>Thunder</th>\n",
       "      <th>Smoke/Haze</th>\n",
       "      <th>Power Outage</th>\n",
       "    </tr>\n",
       "  </thead>\n",
       "  <tbody>\n",
       "    <tr>\n",
       "      <th>count</th>\n",
       "      <td>2910.000000</td>\n",
       "      <td>2910.000000</td>\n",
       "      <td>2910.000000</td>\n",
       "      <td>2910.000000</td>\n",
       "      <td>2910.000000</td>\n",
       "      <td>2910.000000</td>\n",
       "      <td>2910.000000</td>\n",
       "      <td>2910.000000</td>\n",
       "      <td>2910.000000</td>\n",
       "      <td>2910.000000</td>\n",
       "      <td>2910.000000</td>\n",
       "    </tr>\n",
       "    <tr>\n",
       "      <th>mean</th>\n",
       "      <td>7.274945</td>\n",
       "      <td>0.079595</td>\n",
       "      <td>59.249828</td>\n",
       "      <td>37.227835</td>\n",
       "      <td>18.562715</td>\n",
       "      <td>28.019416</td>\n",
       "      <td>0.344674</td>\n",
       "      <td>0.100344</td>\n",
       "      <td>0.053265</td>\n",
       "      <td>0.150172</td>\n",
       "      <td>0.054639</td>\n",
       "    </tr>\n",
       "    <tr>\n",
       "      <th>std</th>\n",
       "      <td>3.533600</td>\n",
       "      <td>0.225217</td>\n",
       "      <td>21.368136</td>\n",
       "      <td>18.345112</td>\n",
       "      <td>7.288373</td>\n",
       "      <td>17.480074</td>\n",
       "      <td>0.475343</td>\n",
       "      <td>0.300509</td>\n",
       "      <td>0.224599</td>\n",
       "      <td>0.357301</td>\n",
       "      <td>0.227314</td>\n",
       "    </tr>\n",
       "    <tr>\n",
       "      <th>min</th>\n",
       "      <td>0.000000</td>\n",
       "      <td>0.000000</td>\n",
       "      <td>0.000000</td>\n",
       "      <td>-30.000000</td>\n",
       "      <td>0.000000</td>\n",
       "      <td>0.000000</td>\n",
       "      <td>0.000000</td>\n",
       "      <td>0.000000</td>\n",
       "      <td>0.000000</td>\n",
       "      <td>0.000000</td>\n",
       "      <td>0.000000</td>\n",
       "    </tr>\n",
       "    <tr>\n",
       "      <th>25%</th>\n",
       "      <td>4.700000</td>\n",
       "      <td>0.000000</td>\n",
       "      <td>41.000000</td>\n",
       "      <td>25.000000</td>\n",
       "      <td>14.100000</td>\n",
       "      <td>19.000000</td>\n",
       "      <td>0.000000</td>\n",
       "      <td>0.000000</td>\n",
       "      <td>0.000000</td>\n",
       "      <td>0.000000</td>\n",
       "      <td>0.000000</td>\n",
       "    </tr>\n",
       "    <tr>\n",
       "      <th>50%</th>\n",
       "      <td>6.930000</td>\n",
       "      <td>0.000000</td>\n",
       "      <td>62.000000</td>\n",
       "      <td>38.000000</td>\n",
       "      <td>17.000000</td>\n",
       "      <td>23.900000</td>\n",
       "      <td>0.000000</td>\n",
       "      <td>0.000000</td>\n",
       "      <td>0.000000</td>\n",
       "      <td>0.000000</td>\n",
       "      <td>0.000000</td>\n",
       "    </tr>\n",
       "    <tr>\n",
       "      <th>75%</th>\n",
       "      <td>9.400000</td>\n",
       "      <td>0.030000</td>\n",
       "      <td>78.000000</td>\n",
       "      <td>52.000000</td>\n",
       "      <td>21.900000</td>\n",
       "      <td>31.100000</td>\n",
       "      <td>1.000000</td>\n",
       "      <td>0.000000</td>\n",
       "      <td>0.000000</td>\n",
       "      <td>0.000000</td>\n",
       "      <td>0.000000</td>\n",
       "    </tr>\n",
       "    <tr>\n",
       "      <th>max</th>\n",
       "      <td>22.150000</td>\n",
       "      <td>4.000000</td>\n",
       "      <td>102.000000</td>\n",
       "      <td>73.000000</td>\n",
       "      <td>83.000000</td>\n",
       "      <td>185.000000</td>\n",
       "      <td>1.000000</td>\n",
       "      <td>1.000000</td>\n",
       "      <td>1.000000</td>\n",
       "      <td>1.000000</td>\n",
       "      <td>1.000000</td>\n",
       "    </tr>\n",
       "  </tbody>\n",
       "</table>\n",
       "</div>"
      ],
      "text/plain": [
       "       Average Wind Speed         PRCP         TMAX         TMIN  \\\n",
       "count         2910.000000  2910.000000  2910.000000  2910.000000   \n",
       "mean             7.274945     0.079595    59.249828    37.227835   \n",
       "std              3.533600     0.225217    21.368136    18.345112   \n",
       "min              0.000000     0.000000     0.000000   -30.000000   \n",
       "25%              4.700000     0.000000    41.000000    25.000000   \n",
       "50%              6.930000     0.000000    62.000000    38.000000   \n",
       "75%              9.400000     0.030000    78.000000    52.000000   \n",
       "max             22.150000     4.000000   102.000000    73.000000   \n",
       "\n",
       "       Fastest 2 minute wind speed  Fastest 5 second wind speed      Fog/Ice  \\\n",
       "count                  2910.000000                  2910.000000  2910.000000   \n",
       "mean                     18.562715                    28.019416     0.344674   \n",
       "std                       7.288373                    17.480074     0.475343   \n",
       "min                       0.000000                     0.000000     0.000000   \n",
       "25%                      14.100000                    19.000000     0.000000   \n",
       "50%                      17.000000                    23.900000     0.000000   \n",
       "75%                      21.900000                    31.100000     1.000000   \n",
       "max                      83.000000                   185.000000     1.000000   \n",
       "\n",
       "       Heavy/Freezing Fog      Thunder   Smoke/Haze  Power Outage  \n",
       "count         2910.000000  2910.000000  2910.000000   2910.000000  \n",
       "mean             0.100344     0.053265     0.150172      0.054639  \n",
       "std              0.300509     0.224599     0.357301      0.227314  \n",
       "min              0.000000     0.000000     0.000000      0.000000  \n",
       "25%              0.000000     0.000000     0.000000      0.000000  \n",
       "50%              0.000000     0.000000     0.000000      0.000000  \n",
       "75%              0.000000     0.000000     0.000000      0.000000  \n",
       "max              1.000000     1.000000     1.000000      1.000000  "
      ]
     },
     "execution_count": 108,
     "metadata": {},
     "output_type": "execute_result"
    }
   ],
   "source": [
    "#Load data\n",
    "df = pd.read_csv('data.csv');\n",
    "#Replace NaN with 0\n",
    "df = df.fillna(0);\n",
    "df['DATE'] = pd.to_datetime(df['DATE']);\n",
    "df.describe()"
   ]
  },
  {
   "cell_type": "code",
   "execution_count": 109,
   "metadata": {
    "collapsed": true
   },
   "outputs": [],
   "source": [
    "#Add columns for wind squared\n",
    "df['Avg Wind Speed Squared'] = pd.Series(np.square(df['Average Wind Speed']), index=df.index)\n",
    "df['5 second wind speed squared'] = pd.Series(np.square(df['Fastest 5 second wind speed']));\n",
    "df['2 min wind speed squared'] = pd.Series(np.square(df['Fastest 2 minute wind speed']));\n",
    "df = df[['Power Outage', 'PRCP', 'TMAX','TMIN','Fastest 5 second wind speed','5 second wind speed squared', 'Fastest 2 minute wind speed' ,'2 min wind speed squared','Average Wind Speed','Avg Wind Speed Squared','Fog/Ice', 'Heavy/Freezing Fog', 'Thunder','Smoke/Haze']];"
   ]
  },
  {
   "cell_type": "code",
   "execution_count": 110,
   "metadata": {
    "collapsed": true
   },
   "outputs": [],
   "source": [
    "X = np.array(df[['Avg Wind Speed Squared','2 min wind speed squared','5 second wind speed squared','Fog/Ice','Heavy/Freezing Fog','Thunder']]);\n",
    "y = np.array(df['Power Outage']);"
   ]
  },
  {
   "cell_type": "code",
   "execution_count": 111,
   "metadata": {
    "collapsed": true
   },
   "outputs": [],
   "source": [
    "X_train, X_test, y_train, y_test = train_test_split(X, y, test_size=0.33, random_state = 43);"
   ]
  },
  {
   "cell_type": "code",
   "execution_count": 112,
   "metadata": {
    "collapsed": true
   },
   "outputs": [],
   "source": [
    "y_test = pd.DataFrame(y_test);\n",
    "X_test = pd.DataFrame(X_test);"
   ]
  },
  {
   "cell_type": "code",
   "execution_count": 113,
   "metadata": {},
   "outputs": [
    {
     "name": "stderr",
     "output_type": "stream",
     "text": [
      "/anaconda3/lib/python3.6/site-packages/sklearn/utils/deprecation.py:75: DeprecationWarning: Function _ratio_float is deprecated; Use a float for 'ratio' is deprecated from version 0.2. The support will be removed in 0.4. Use a dict, str, or a callable instead.\n",
      "  warnings.warn(msg, category=DeprecationWarning)\n"
     ]
    }
   ],
   "source": [
    "#Under sample based on Cluster Centroids\n",
    "sampler = ClusterCentroids({0: 600});\n",
    "X_train, y_train = sampler.fit_sample(X_train, y_train);\n",
    "sampler = SMOTE(random_state=12, ratio=0.5);\n",
    "X_train, y_train = sampler.fit_sample(X_train, y_train);"
   ]
  },
  {
   "cell_type": "code",
   "execution_count": 114,
   "metadata": {},
   "outputs": [
    {
     "data": {
      "text/html": [
       "<div>\n",
       "<style>\n",
       "    .dataframe thead tr:only-child th {\n",
       "        text-align: right;\n",
       "    }\n",
       "\n",
       "    .dataframe thead th {\n",
       "        text-align: left;\n",
       "    }\n",
       "\n",
       "    .dataframe tbody tr th {\n",
       "        vertical-align: top;\n",
       "    }\n",
       "</style>\n",
       "<table border=\"1\" class=\"dataframe\">\n",
       "  <thead>\n",
       "    <tr style=\"text-align: right;\">\n",
       "      <th></th>\n",
       "      <th>0</th>\n",
       "      <th>1</th>\n",
       "      <th>2</th>\n",
       "      <th>3</th>\n",
       "      <th>4</th>\n",
       "      <th>5</th>\n",
       "      <th>6</th>\n",
       "    </tr>\n",
       "  </thead>\n",
       "  <tbody>\n",
       "    <tr>\n",
       "      <th>count</th>\n",
       "      <td>900.000000</td>\n",
       "      <td>900.000000</td>\n",
       "      <td>900.000000</td>\n",
       "      <td>900.000000</td>\n",
       "      <td>9.000000e+02</td>\n",
       "      <td>9.000000e+02</td>\n",
       "      <td>900.000000</td>\n",
       "    </tr>\n",
       "    <tr>\n",
       "      <th>mean</th>\n",
       "      <td>92.383457</td>\n",
       "      <td>589.826890</td>\n",
       "      <td>1873.423354</td>\n",
       "      <td>0.399914</td>\n",
       "      <td>1.214671e-01</td>\n",
       "      <td>8.220479e-02</td>\n",
       "      <td>0.333333</td>\n",
       "    </tr>\n",
       "    <tr>\n",
       "      <th>std</th>\n",
       "      <td>84.681611</td>\n",
       "      <td>531.880904</td>\n",
       "      <td>3407.722414</td>\n",
       "      <td>0.424266</td>\n",
       "      <td>2.871814e-01</td>\n",
       "      <td>2.426092e-01</td>\n",
       "      <td>0.471667</td>\n",
       "    </tr>\n",
       "    <tr>\n",
       "      <th>min</th>\n",
       "      <td>0.000000</td>\n",
       "      <td>43.740000</td>\n",
       "      <td>65.610000</td>\n",
       "      <td>0.000000</td>\n",
       "      <td>-2.775558e-17</td>\n",
       "      <td>-1.387779e-17</td>\n",
       "      <td>0.000000</td>\n",
       "    </tr>\n",
       "    <tr>\n",
       "      <th>25%</th>\n",
       "      <td>30.377345</td>\n",
       "      <td>259.210000</td>\n",
       "      <td>571.210000</td>\n",
       "      <td>0.000000</td>\n",
       "      <td>0.000000e+00</td>\n",
       "      <td>0.000000e+00</td>\n",
       "      <td>0.000000</td>\n",
       "    </tr>\n",
       "    <tr>\n",
       "      <th>50%</th>\n",
       "      <td>64.998786</td>\n",
       "      <td>479.610000</td>\n",
       "      <td>1006.929752</td>\n",
       "      <td>0.250000</td>\n",
       "      <td>0.000000e+00</td>\n",
       "      <td>0.000000e+00</td>\n",
       "      <td>0.000000</td>\n",
       "    </tr>\n",
       "    <tr>\n",
       "      <th>75%</th>\n",
       "      <td>130.188100</td>\n",
       "      <td>784.000000</td>\n",
       "      <td>1672.810000</td>\n",
       "      <td>1.000000</td>\n",
       "      <td>0.000000e+00</td>\n",
       "      <td>0.000000e+00</td>\n",
       "      <td>1.000000</td>\n",
       "    </tr>\n",
       "    <tr>\n",
       "      <th>max</th>\n",
       "      <td>451.562500</td>\n",
       "      <td>6889.000000</td>\n",
       "      <td>34225.000000</td>\n",
       "      <td>1.000000</td>\n",
       "      <td>1.000000e+00</td>\n",
       "      <td>1.000000e+00</td>\n",
       "      <td>1.000000</td>\n",
       "    </tr>\n",
       "  </tbody>\n",
       "</table>\n",
       "</div>"
      ],
      "text/plain": [
       "                0            1             2           3             4  \\\n",
       "count  900.000000   900.000000    900.000000  900.000000  9.000000e+02   \n",
       "mean    92.383457   589.826890   1873.423354    0.399914  1.214671e-01   \n",
       "std     84.681611   531.880904   3407.722414    0.424266  2.871814e-01   \n",
       "min      0.000000    43.740000     65.610000    0.000000 -2.775558e-17   \n",
       "25%     30.377345   259.210000    571.210000    0.000000  0.000000e+00   \n",
       "50%     64.998786   479.610000   1006.929752    0.250000  0.000000e+00   \n",
       "75%    130.188100   784.000000   1672.810000    1.000000  0.000000e+00   \n",
       "max    451.562500  6889.000000  34225.000000    1.000000  1.000000e+00   \n",
       "\n",
       "                  5           6  \n",
       "count  9.000000e+02  900.000000  \n",
       "mean   8.220479e-02    0.333333  \n",
       "std    2.426092e-01    0.471667  \n",
       "min   -1.387779e-17    0.000000  \n",
       "25%    0.000000e+00    0.000000  \n",
       "50%    0.000000e+00    0.000000  \n",
       "75%    0.000000e+00    1.000000  \n",
       "max    1.000000e+00    1.000000  "
      ]
     },
     "execution_count": 114,
     "metadata": {},
     "output_type": "execute_result"
    }
   ],
   "source": [
    "X_train = pd.DataFrame(X_train);\n",
    "y_train = pd.DataFrame(y_train);\n",
    "clusteredData = pd.concat([X_train, y_train], ignore_index = True, axis=1);\n",
    "clusteredData.to_csv('Clustered semidata', index=False);\n",
    "clusteredData.describe()"
   ]
  },
  {
   "cell_type": "code",
   "execution_count": 115,
   "metadata": {
    "collapsed": true
   },
   "outputs": [],
   "source": [
    "# Random Split\n",
    "#Split the data in two parts.\n",
    "# powerOutages = df.loc[df['Power Outage'] == 1];\n",
    "# noPowerOutages = df.loc[df['Power Outage'] == 0];\n",
    "\n",
    "# zeroDays = noPowerOutages.sample(159);\n",
    "# finalData = pd.concat([powerOutages,zeroDays]);\n",
    "# finalData = finalData.sample(318);\n"
   ]
  },
  {
   "cell_type": "code",
   "execution_count": 116,
   "metadata": {
    "collapsed": true
   },
   "outputs": [],
   "source": [
    "#Normalize data\n",
    "scaledData = preprocessing.MinMaxScaler().fit_transform(X_train.values);\n",
    "X_train = pd.DataFrame(scaledData, index = X_train.index, columns = X_train.columns);\n",
    "scaledData = preprocessing.MinMaxScaler().fit_transform(X_test.values);\n",
    "X_test = pd.DataFrame(scaledData, index = X_test.index, columns = X_test.columns);"
   ]
  },
  {
   "cell_type": "code",
   "execution_count": 117,
   "metadata": {
    "collapsed": true
   },
   "outputs": [],
   "source": [
    "knn = KNeighborsClassifier(n_neighbors=3)"
   ]
  },
  {
   "cell_type": "code",
   "execution_count": 118,
   "metadata": {},
   "outputs": [
    {
     "name": "stderr",
     "output_type": "stream",
     "text": [
      "/anaconda3/lib/python3.6/site-packages/ipykernel_launcher.py:1: DataConversionWarning: A column-vector y was passed when a 1d array was expected. Please change the shape of y to (n_samples, ), for example using ravel().\n",
      "  \"\"\"Entry point for launching an IPython kernel.\n"
     ]
    },
    {
     "name": "stdout",
     "output_type": "stream",
     "text": [
      "Accuracy:  0.498439125911\n",
      "[[462 447]\n",
      " [ 35  17]]\n"
     ]
    }
   ],
   "source": [
    "knn.fit(X_train, y_train);\n",
    "pred = knn.predict(X_test);\n",
    "accuracy = accuracy_score(y_test, pred);\n",
    "print(\"Accuracy: \", accuracy);\n",
    "from sklearn.metrics import confusion_matrix\n",
    "con_mat = confusion_matrix(y_test, pred, [0, 1])\n",
    "print(con_mat)"
   ]
  }
 ],
 "metadata": {
  "kernelspec": {
   "display_name": "Python 3",
   "language": "python",
   "name": "python3"
  },
  "language_info": {
   "codemirror_mode": {
    "name": "ipython",
    "version": 3
   },
   "file_extension": ".py",
   "mimetype": "text/x-python",
   "name": "python",
   "nbconvert_exporter": "python",
   "pygments_lexer": "ipython3",
   "version": "3.6.2"
  }
 },
 "nbformat": 4,
 "nbformat_minor": 2
}
