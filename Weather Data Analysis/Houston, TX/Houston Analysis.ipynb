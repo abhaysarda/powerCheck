{
 "cells": [
  {
   "cell_type": "code",
   "execution_count": 70,
   "metadata": {
    "collapsed": true
   },
   "outputs": [],
   "source": [
    "import pandas as pd\n",
    "import numpy as np\n",
    "import matplotlib.pyplot as plt\n",
    "import seaborn as sns\n",
    "from sklearn.metrics import accuracy_score, f1_score, precision_score,  recall_score, classification_report, confusion_matrix"
   ]
  },
  {
   "cell_type": "code",
   "execution_count": 71,
   "metadata": {},
   "outputs": [
    {
     "name": "stdout",
     "output_type": "stream",
     "text": [
      "       Average Wind Speed  Precipitation  Max. Temperature  Min. Temperature  \\\n",
      "count         2556.000000    2556.000000       2556.000000       2556.000000   \n",
      "mean             7.735070       0.144139         81.053599         60.767214   \n",
      "std              3.360468       0.554481         13.416024         14.005234   \n",
      "min              0.000000       0.000000          0.000000          0.000000   \n",
      "25%              5.370000       0.000000         73.000000         50.000000   \n",
      "50%              7.160000       0.000000         83.000000         64.000000   \n",
      "75%              9.840000       0.010000         91.000000         73.000000   \n",
      "max             22.150000       8.040000        108.000000         81.000000   \n",
      "\n",
      "       Fastest 2 minute wind speed  Fastest 5 second wind speed  Fog/Ice Fog  \\\n",
      "count                  2556.000000                  2556.000000  2556.000000   \n",
      "mean                     18.457277                    23.664045     0.481612   \n",
      "std                       5.350621                     7.609267     0.499760   \n",
      "min                       0.000000                     0.000000     0.000000   \n",
      "25%                      15.000000                    19.000000     0.000000   \n",
      "50%                      18.100000                    23.000000     0.000000   \n",
      "75%                      21.900000                    28.000000     1.000000   \n",
      "max                      47.000000                    61.100000     1.000000   \n",
      "\n",
      "         Heavy Fog      Thunder         Hail  Glaze/Grime   Smoke/Haze  \\\n",
      "count  2556.000000  2556.000000  2556.000000  2556.000000  2556.000000   \n",
      "mean      0.070814     0.160798     0.000782     0.000391     0.093897   \n",
      "std       0.256564     0.367417     0.027967     0.019780     0.291742   \n",
      "min       0.000000     0.000000     0.000000     0.000000     0.000000   \n",
      "25%       0.000000     0.000000     0.000000     0.000000     0.000000   \n",
      "50%       0.000000     0.000000     0.000000     0.000000     0.000000   \n",
      "75%       0.000000     0.000000     0.000000     0.000000     0.000000   \n",
      "max       1.000000     1.000000     1.000000     1.000000     1.000000   \n",
      "\n",
      "       Power Outage  \n",
      "count   2556.000000  \n",
      "mean       0.029734  \n",
      "std        0.169886  \n",
      "min        0.000000  \n",
      "25%        0.000000  \n",
      "50%        0.000000  \n",
      "75%        0.000000  \n",
      "max        1.000000  \n"
     ]
    },
    {
     "data": {
      "image/png": "[encoded data removed]",
      "text/plain": [
       "<matplotlib.figure.Figure at 0x117d163c8>"
      ]
     },
     "metadata": {},
     "output_type": "display_data"
    }
   ],
   "source": [
    "df = pd.read_csv('data.csv');\n",
    "df = df.fillna(0);\n",
    "df = df.drop(['DATE'], axis=1);\n",
    "print(df.describe());\n",
    "sns.countplot(x=\"Power Outage\", data=df);\n",
    "plt.show()"
   ]
  },
  {
   "cell_type": "code",
   "execution_count": 72,
   "metadata": {},
   "outputs": [
    {
     "data": {
      "text/html": [
       "<div>\n",
       "<style>\n",
       "    .dataframe thead tr:only-child th {\n",
       "        text-align: right;\n",
       "    }\n",
       "\n",
       "    .dataframe thead th {\n",
       "        text-align: left;\n",
       "    }\n",
       "\n",
       "    .dataframe tbody tr th {\n",
       "        vertical-align: top;\n",
       "    }\n",
       "</style>\n",
       "<table border=\"1\" class=\"dataframe\">\n",
       "  <thead>\n",
       "    <tr style=\"text-align: right;\">\n",
       "      <th></th>\n",
       "      <th>Average Wind Speed</th>\n",
       "      <th>Precipitation</th>\n",
       "      <th>Max. Temperature</th>\n",
       "      <th>Min. Temperature</th>\n",
       "      <th>Fastest 2 minute wind speed</th>\n",
       "      <th>Fastest 5 second wind speed</th>\n",
       "      <th>Fog/Ice Fog</th>\n",
       "      <th>Heavy Fog</th>\n",
       "      <th>Thunder</th>\n",
       "      <th>Hail</th>\n",
       "      <th>Glaze/Grime</th>\n",
       "      <th>Smoke/Haze</th>\n",
       "      <th>Power Outage</th>\n",
       "    </tr>\n",
       "  </thead>\n",
       "  <tbody>\n",
       "    <tr>\n",
       "      <th>count</th>\n",
       "      <td>2556.000000</td>\n",
       "      <td>2556.000000</td>\n",
       "      <td>2556.000000</td>\n",
       "      <td>2556.000000</td>\n",
       "      <td>2556.000000</td>\n",
       "      <td>2556.000000</td>\n",
       "      <td>2556.000000</td>\n",
       "      <td>2556.000000</td>\n",
       "      <td>2556.000000</td>\n",
       "      <td>2556.000000</td>\n",
       "      <td>2556.000000</td>\n",
       "      <td>2556.000000</td>\n",
       "      <td>2556.000000</td>\n",
       "    </tr>\n",
       "    <tr>\n",
       "      <th>mean</th>\n",
       "      <td>0.349213</td>\n",
       "      <td>0.017928</td>\n",
       "      <td>0.750496</td>\n",
       "      <td>0.750213</td>\n",
       "      <td>0.392708</td>\n",
       "      <td>0.387300</td>\n",
       "      <td>0.481612</td>\n",
       "      <td>0.070814</td>\n",
       "      <td>0.160798</td>\n",
       "      <td>0.000782</td>\n",
       "      <td>0.000391</td>\n",
       "      <td>0.093897</td>\n",
       "      <td>0.029734</td>\n",
       "    </tr>\n",
       "    <tr>\n",
       "      <th>std</th>\n",
       "      <td>0.151714</td>\n",
       "      <td>0.068965</td>\n",
       "      <td>0.124222</td>\n",
       "      <td>0.172904</td>\n",
       "      <td>0.113843</td>\n",
       "      <td>0.124538</td>\n",
       "      <td>0.499760</td>\n",
       "      <td>0.256564</td>\n",
       "      <td>0.367417</td>\n",
       "      <td>0.027967</td>\n",
       "      <td>0.019780</td>\n",
       "      <td>0.291742</td>\n",
       "      <td>0.169886</td>\n",
       "    </tr>\n",
       "    <tr>\n",
       "      <th>min</th>\n",
       "      <td>0.000000</td>\n",
       "      <td>0.000000</td>\n",
       "      <td>0.000000</td>\n",
       "      <td>0.000000</td>\n",
       "      <td>0.000000</td>\n",
       "      <td>0.000000</td>\n",
       "      <td>0.000000</td>\n",
       "      <td>0.000000</td>\n",
       "      <td>0.000000</td>\n",
       "      <td>0.000000</td>\n",
       "      <td>0.000000</td>\n",
       "      <td>0.000000</td>\n",
       "      <td>0.000000</td>\n",
       "    </tr>\n",
       "    <tr>\n",
       "      <th>25%</th>\n",
       "      <td>0.242438</td>\n",
       "      <td>0.000000</td>\n",
       "      <td>0.675926</td>\n",
       "      <td>0.617284</td>\n",
       "      <td>0.319149</td>\n",
       "      <td>0.310966</td>\n",
       "      <td>0.000000</td>\n",
       "      <td>0.000000</td>\n",
       "      <td>0.000000</td>\n",
       "      <td>0.000000</td>\n",
       "      <td>0.000000</td>\n",
       "      <td>0.000000</td>\n",
       "      <td>0.000000</td>\n",
       "    </tr>\n",
       "    <tr>\n",
       "      <th>50%</th>\n",
       "      <td>0.323251</td>\n",
       "      <td>0.000000</td>\n",
       "      <td>0.768519</td>\n",
       "      <td>0.790123</td>\n",
       "      <td>0.385106</td>\n",
       "      <td>0.376432</td>\n",
       "      <td>0.000000</td>\n",
       "      <td>0.000000</td>\n",
       "      <td>0.000000</td>\n",
       "      <td>0.000000</td>\n",
       "      <td>0.000000</td>\n",
       "      <td>0.000000</td>\n",
       "      <td>0.000000</td>\n",
       "    </tr>\n",
       "    <tr>\n",
       "      <th>75%</th>\n",
       "      <td>0.444244</td>\n",
       "      <td>0.001244</td>\n",
       "      <td>0.842593</td>\n",
       "      <td>0.901235</td>\n",
       "      <td>0.465957</td>\n",
       "      <td>0.458265</td>\n",
       "      <td>1.000000</td>\n",
       "      <td>0.000000</td>\n",
       "      <td>0.000000</td>\n",
       "      <td>0.000000</td>\n",
       "      <td>0.000000</td>\n",
       "      <td>0.000000</td>\n",
       "      <td>0.000000</td>\n",
       "    </tr>\n",
       "    <tr>\n",
       "      <th>max</th>\n",
       "      <td>1.000000</td>\n",
       "      <td>1.000000</td>\n",
       "      <td>1.000000</td>\n",
       "      <td>1.000000</td>\n",
       "      <td>1.000000</td>\n",
       "      <td>1.000000</td>\n",
       "      <td>1.000000</td>\n",
       "      <td>1.000000</td>\n",
       "      <td>1.000000</td>\n",
       "      <td>1.000000</td>\n",
       "      <td>1.000000</td>\n",
       "      <td>1.000000</td>\n",
       "      <td>1.000000</td>\n",
       "    </tr>\n",
       "  </tbody>\n",
       "</table>\n",
       "</div>"
      ],
      "text/plain": [
       "       Average Wind Speed  Precipitation  Max. Temperature  Min. Temperature  \\\n",
       "count         2556.000000    2556.000000       2556.000000       2556.000000   \n",
       "mean             0.349213       0.017928          0.750496          0.750213   \n",
       "std              0.151714       0.068965          0.124222          0.172904   \n",
       "min              0.000000       0.000000          0.000000          0.000000   \n",
       "25%              0.242438       0.000000          0.675926          0.617284   \n",
       "50%              0.323251       0.000000          0.768519          0.790123   \n",
       "75%              0.444244       0.001244          0.842593          0.901235   \n",
       "max              1.000000       1.000000          1.000000          1.000000   \n",
       "\n",
       "       Fastest 2 minute wind speed  Fastest 5 second wind speed  Fog/Ice Fog  \\\n",
       "count                  2556.000000                  2556.000000  2556.000000   \n",
       "mean                      0.392708                     0.387300     0.481612   \n",
       "std                       0.113843                     0.124538     0.499760   \n",
       "min                       0.000000                     0.000000     0.000000   \n",
       "25%                       0.319149                     0.310966     0.000000   \n",
       "50%                       0.385106                     0.376432     0.000000   \n",
       "75%                       0.465957                     0.458265     1.000000   \n",
       "max                       1.000000                     1.000000     1.000000   \n",
       "\n",
       "         Heavy Fog      Thunder         Hail  Glaze/Grime   Smoke/Haze  \\\n",
       "count  2556.000000  2556.000000  2556.000000  2556.000000  2556.000000   \n",
       "mean      0.070814     0.160798     0.000782     0.000391     0.093897   \n",
       "std       0.256564     0.367417     0.027967     0.019780     0.291742   \n",
       "min       0.000000     0.000000     0.000000     0.000000     0.000000   \n",
       "25%       0.000000     0.000000     0.000000     0.000000     0.000000   \n",
       "50%       0.000000     0.000000     0.000000     0.000000     0.000000   \n",
       "75%       0.000000     0.000000     0.000000     0.000000     0.000000   \n",
       "max       1.000000     1.000000     1.000000     1.000000     1.000000   \n",
       "\n",
       "       Power Outage  \n",
       "count   2556.000000  \n",
       "mean       0.029734  \n",
       "std        0.169886  \n",
       "min        0.000000  \n",
       "25%        0.000000  \n",
       "50%        0.000000  \n",
       "75%        0.000000  \n",
       "max        1.000000  "
      ]
     },
     "execution_count": 72,
     "metadata": {},
     "output_type": "execute_result"
    }
   ],
   "source": [
    "#Normalize all the data\n",
    "from sklearn import preprocessing\n",
    "\n",
    "scaledData = preprocessing.MinMaxScaler().fit_transform(df.values);\n",
    "df = pd.DataFrame(scaledData, index = df.index, columns = df.columns);\n",
    "df.describe()"
   ]
  },
  {
   "cell_type": "code",
   "execution_count": 73,
   "metadata": {},
   "outputs": [],
   "source": [
    "#Reduce the number of desired features\n",
    "df['Avg Wind Speed Squared'] = pd.Series(np.square(df['Average Wind Speed']), index=df.index)\n",
    "df['5 second wind speed squared'] = pd.Series(np.square(df['Fastest 5 second wind speed']));\n",
    "df['2 min wind speed squared'] = pd.Series(np.square(df['Fastest 2 minute wind speed']));\n",
    "df = df[['Power Outage', 'Precipitation', 'Avg Wind Speed Squared','2 min wind speed squared','5 second wind speed squared','Fog/Ice Fog', 'Heavy Fog', 'Thunder','Hail','Glaze/Grime', 'Smoke/Haze']];"
   ]
  },
  {
   "cell_type": "code",
   "execution_count": 74,
   "metadata": {},
   "outputs": [
    {
     "data": {
      "text/plain": [
       "count    844.000000\n",
       "mean       0.024882\n",
       "std        0.155856\n",
       "min        0.000000\n",
       "25%        0.000000\n",
       "50%        0.000000\n",
       "75%        0.000000\n",
       "max        1.000000\n",
       "Name: Power Outage, dtype: float64"
      ]
     },
     "execution_count": 74,
     "metadata": {},
     "output_type": "execute_result"
    }
   ],
   "source": [
    "#Split into training and testing data\n",
    "from sklearn.model_selection import train_test_split\n",
    "X_train, X_test, y_train, y_test = train_test_split(df.iloc[:,1:], df['Power Outage'], test_size = 0.33, random_state = 99);\n",
    "y_test.describe()"
   ]
  },
  {
   "cell_type": "code",
   "execution_count": 75,
   "metadata": {},
   "outputs": [
    {
     "name": "stdout",
     "output_type": "stream",
     "text": [
      "Before sampling ratio\n",
      "0.0    1657\n",
      "1.0      55\n",
      "Name: Power Outage, dtype: int64\n"
     ]
    },
    {
     "name": "stderr",
     "output_type": "stream",
     "text": [
      "/anaconda3/lib/python3.6/site-packages/sklearn/utils/deprecation.py:75: DeprecationWarning: Function _ratio_float is deprecated; Use a float for 'ratio' is deprecated from version 0.2. The support will be removed in 0.4. Use a dict, str, or a callable instead.\n",
      "  warnings.warn(msg, category=DeprecationWarning)\n"
     ]
    },
    {
     "name": "stdout",
     "output_type": "stream",
     "text": [
      "Final counts after undersampling the zeroes\n",
      "0.0    550\n",
      "1.0     55\n",
      "Name: Power Outage, dtype: int64\n"
     ]
    },
    {
     "data": {
      "text/html": [
       "<div>\n",
       "<style>\n",
       "    .dataframe thead tr:only-child th {\n",
       "        text-align: right;\n",
       "    }\n",
       "\n",
       "    .dataframe thead th {\n",
       "        text-align: left;\n",
       "    }\n",
       "\n",
       "    .dataframe tbody tr th {\n",
       "        vertical-align: top;\n",
       "    }\n",
       "</style>\n",
       "<table border=\"1\" class=\"dataframe\">\n",
       "  <thead>\n",
       "    <tr style=\"text-align: right;\">\n",
       "      <th></th>\n",
       "      <th>Power Outage</th>\n",
       "      <th>Precipitation</th>\n",
       "      <th>Avg Wind Speed Squared</th>\n",
       "      <th>2 min wind speed squared</th>\n",
       "      <th>5 second wind speed squared</th>\n",
       "      <th>Fog/Ice Fog</th>\n",
       "      <th>Heavy Fog</th>\n",
       "      <th>Thunder</th>\n",
       "      <th>Hail</th>\n",
       "      <th>Glaze/Grime</th>\n",
       "      <th>Smoke/Haze</th>\n",
       "    </tr>\n",
       "  </thead>\n",
       "  <tbody>\n",
       "    <tr>\n",
       "      <th>0</th>\n",
       "      <td>0.0</td>\n",
       "      <td>0.000000</td>\n",
       "      <td>0.013933</td>\n",
       "      <td>0.032870</td>\n",
       "      <td>0.036994</td>\n",
       "      <td>1.000000e+00</td>\n",
       "      <td>0.0</td>\n",
       "      <td>-2.775558e-17</td>\n",
       "      <td>0.0</td>\n",
       "      <td>0.0</td>\n",
       "      <td>-2.775558e-17</td>\n",
       "    </tr>\n",
       "    <tr>\n",
       "      <th>1</th>\n",
       "      <td>0.0</td>\n",
       "      <td>0.000373</td>\n",
       "      <td>0.214009</td>\n",
       "      <td>0.179271</td>\n",
       "      <td>0.165088</td>\n",
       "      <td>5.551115e-17</td>\n",
       "      <td>0.0</td>\n",
       "      <td>-2.775558e-17</td>\n",
       "      <td>0.0</td>\n",
       "      <td>0.0</td>\n",
       "      <td>-1.387779e-17</td>\n",
       "    </tr>\n",
       "    <tr>\n",
       "      <th>2</th>\n",
       "      <td>0.0</td>\n",
       "      <td>0.286070</td>\n",
       "      <td>0.053849</td>\n",
       "      <td>0.383345</td>\n",
       "      <td>0.364729</td>\n",
       "      <td>1.000000e+00</td>\n",
       "      <td>0.0</td>\n",
       "      <td>1.000000e+00</td>\n",
       "      <td>0.0</td>\n",
       "      <td>0.0</td>\n",
       "      <td>0.000000e+00</td>\n",
       "    </tr>\n",
       "    <tr>\n",
       "      <th>3</th>\n",
       "      <td>0.0</td>\n",
       "      <td>0.000829</td>\n",
       "      <td>0.080629</td>\n",
       "      <td>0.179271</td>\n",
       "      <td>0.163508</td>\n",
       "      <td>1.000000e+00</td>\n",
       "      <td>0.0</td>\n",
       "      <td>0.000000e+00</td>\n",
       "      <td>0.0</td>\n",
       "      <td>0.0</td>\n",
       "      <td>1.000000e+00</td>\n",
       "    </tr>\n",
       "    <tr>\n",
       "      <th>4</th>\n",
       "      <td>0.0</td>\n",
       "      <td>0.000000</td>\n",
       "      <td>0.023305</td>\n",
       "      <td>0.086626</td>\n",
       "      <td>0.079999</td>\n",
       "      <td>1.000000e+00</td>\n",
       "      <td>1.0</td>\n",
       "      <td>0.000000e+00</td>\n",
       "      <td>0.0</td>\n",
       "      <td>0.0</td>\n",
       "      <td>0.000000e+00</td>\n",
       "    </tr>\n",
       "  </tbody>\n",
       "</table>\n",
       "</div>"
      ],
      "text/plain": [
       "   Power Outage  Precipitation  Avg Wind Speed Squared  \\\n",
       "0           0.0       0.000000                0.013933   \n",
       "1           0.0       0.000373                0.214009   \n",
       "2           0.0       0.286070                0.053849   \n",
       "3           0.0       0.000829                0.080629   \n",
       "4           0.0       0.000000                0.023305   \n",
       "\n",
       "   2 min wind speed squared  5 second wind speed squared   Fog/Ice Fog  \\\n",
       "0                  0.032870                     0.036994  1.000000e+00   \n",
       "1                  0.179271                     0.165088  5.551115e-17   \n",
       "2                  0.383345                     0.364729  1.000000e+00   \n",
       "3                  0.179271                     0.163508  1.000000e+00   \n",
       "4                  0.086626                     0.079999  1.000000e+00   \n",
       "\n",
       "   Heavy Fog       Thunder  Hail  Glaze/Grime    Smoke/Haze  \n",
       "0        0.0 -2.775558e-17   0.0          0.0 -2.775558e-17  \n",
       "1        0.0 -2.775558e-17   0.0          0.0 -1.387779e-17  \n",
       "2        0.0  1.000000e+00   0.0          0.0  0.000000e+00  \n",
       "3        0.0  0.000000e+00   0.0          0.0  1.000000e+00  \n",
       "4        1.0  0.000000e+00   0.0          0.0  0.000000e+00  "
      ]
     },
     "execution_count": 75,
     "metadata": {},
     "output_type": "execute_result"
    }
   ],
   "source": [
    "#Undersample the number of zeroes\n",
    "import pandas_ml as pdml\n",
    "df_ML = pdml.ModelFrame(X_train, target = y_train)\n",
    "print(\"Before sampling ratio\");\n",
    "print(df_ML.target.value_counts());\n",
    "#use ratio = 0.5 to change ratio\n",
    "sampler = df_ML.imbalance.under_sampling.ClusterCentroids(ratio=0.1);\n",
    "df_ML = df_ML.fit_sample(sampler);\n",
    "print(\"Final counts after undersampling the zeroes\");\n",
    "print(df_ML.target.value_counts());\n",
    "X_train = df_ML.iloc[:,1:];\n",
    "y_train = df_ML['Power Outage'];\n",
    "df_ML.head()"
   ]
  },
  {
   "cell_type": "code",
   "execution_count": 76,
   "metadata": {},
   "outputs": [
    {
     "name": "stdout",
     "output_type": "stream",
     "text": [
      "[ 0.  0.  0. ...,  1.  1.  1.]\n"
     ]
    },
    {
     "name": "stderr",
     "output_type": "stream",
     "text": [
      "/anaconda3/lib/python3.6/site-packages/sklearn/utils/deprecation.py:75: DeprecationWarning: Function _ratio_float is deprecated; Use a float for 'ratio' is deprecated from version 0.2. The support will be removed in 0.4. Use a dict, str, or a callable instead.\n",
      "  warnings.warn(msg, category=DeprecationWarning)\n"
     ]
    }
   ],
   "source": [
    "#Oversampling the number of ones\n",
    "from imblearn.over_sampling import SMOTE\n",
    "sampler = SMOTE(random_state=44, ratio=1);\n",
    "X_train, y_train = sampler.fit_sample(X_train, y_train);\n",
    "print(y_train);"
   ]
  },
  {
   "cell_type": "code",
   "execution_count": 77,
   "metadata": {},
   "outputs": [
    {
     "name": "stdout",
     "output_type": "stream",
     "text": [
      "Done\n"
     ]
    }
   ],
   "source": [
    "#Train a random forest classifier\n",
    "from sklearn.ensemble import RandomForestClassifier\n",
    "rf = RandomForestClassifier(n_estimators=100, oob_score = True, random_state = 123);\n",
    "rf.fit(X_train, y_train);\n",
    "print(\"Done\");"
   ]
  },
  {
   "cell_type": "code",
   "execution_count": 78,
   "metadata": {},
   "outputs": [
    {
     "name": "stdout",
     "output_type": "stream",
     "text": [
      "Accuracy:  0.78317535545\n"
     ]
    }
   ],
   "source": [
    "#Predict results\n",
    "pred = rf.predict(X_test);\n",
    "\n",
    "from sklearn.metrics import accuracy_score\n",
    "accuracy = accuracy_score(y_test, pred);\n",
    "\n",
    "print(\"Accuracy: \", accuracy);"
   ]
  },
  {
   "cell_type": "code",
   "execution_count": 79,
   "metadata": {},
   "outputs": [
    {
     "data": {
      "image/png": "[encoded data removed]",
      "text/plain": [
       "<matplotlib.figure.Figure at 0x117300eb8>"
      ]
     },
     "metadata": {},
     "output_type": "display_data"
    }
   ],
   "source": [
    "from sklearn.metrics import confusion_matrix\n",
    "\n",
    "cm = pd.DataFrame(confusion_matrix(y_test, pred));\n",
    "\n",
    "sns.heatmap(cm, annot = True)\n",
    "plt.show()"
   ]
  },
  {
   "cell_type": "code",
   "execution_count": 80,
   "metadata": {},
   "outputs": [
    {
     "name": "stdout",
     "output_type": "stream",
     "text": [
      "f1 score:  0.18968189705\n",
      "0.21327014218\n"
     ]
    }
   ],
   "source": [
    "#Penalized SVM\n",
    "from sklearn import svm\n",
    "clf = svm.SVC(kernel='rbf', C=5.0);\n",
    "clf.fit(X_train, y_train);\n",
    "pred = clf.predict(X_test);\n",
    "accuracy = accuracy_score(y_test, pred);\n",
    "print(\"f1 score: \", f1_score(y_test, pred, average='macro'));\n",
    "print(accuracy);"
   ]
  },
  {
   "cell_type": "code",
   "execution_count": 81,
   "metadata": {
    "collapsed": true
   },
   "outputs": [],
   "source": [
    "arr = list(y_train > 0);\n",
    "test = [];\n",
    "for i in arr:\n",
    "    if (i==False):\n",
    "        test.append(1);\n",
    "    else:\n",
    "        test.append(20);"
   ]
  },
  {
   "cell_type": "code",
   "execution_count": 82,
   "metadata": {},
   "outputs": [
    {
     "name": "stdout",
     "output_type": "stream",
     "text": [
      "f1 score:  0.211354958333\n",
      "Accuracy:  0.245260663507\n",
      "[ 0.22  0.21  0.26  0.2   0.01  0.01  0.01  0.    0.    0.08]\n"
     ]
    },
    {
     "data": {
      "image/png": "[encoded data removed]",
      "text/plain": [
       "<matplotlib.figure.Figure at 0x117bff4e0>"
      ]
     },
     "metadata": {},
     "output_type": "display_data"
    }
   ],
   "source": [
    "from sklearn.ensemble import AdaBoostClassifier\n",
    "from sklearn.model_selection import cross_val_score\n",
    "clf = AdaBoostClassifier(n_estimators=100);\n",
    "\n",
    "clf.fit(X_train, y_train, sample_weight=test);\n",
    "scores = cross_val_score(clf, X_train, y_train);\n",
    "pred = clf.predict(X_test);\n",
    "\n",
    "\n",
    "accuracy = accuracy_score(y_test, pred);\n",
    "print(\"f1 score: \", f1_score(y_test, pred, average='macro'))\n",
    "print(\"Accuracy: \", accuracy);\n",
    "print(clf.feature_importances_)\n",
    "from sklearn.metrics import confusion_matrix\n",
    "\n",
    "cm = pd.DataFrame(confusion_matrix(y_test, pred));\n",
    "\n",
    "sns.heatmap(cm, annot=True);\n",
    "\n",
    "plt.show();"
   ]
  },
  {
   "cell_type": "code",
   "execution_count": 83,
   "metadata": {
    "scrolled": true
   },
   "outputs": [
    {
     "name": "stdout",
     "output_type": "stream",
     "text": [
      "               precision    recall  f1-score   support\n",
      "\n",
      "  Normal Days       0.97      0.23      0.37       823\n",
      "Power Outages       0.02      0.76      0.05        21\n",
      "\n",
      "  avg / total       0.95      0.25      0.37       844\n",
      "\n"
     ]
    }
   ],
   "source": [
    "from sklearn.metrics import classification_report\n",
    "print(classification_report(y_test, pred, target_names = ['Normal Days', 'Power Outages']));\n"
   ]
  },
  {
   "cell_type": "code",
   "execution_count": null,
   "metadata": {
    "collapsed": true
   },
   "outputs": [],
   "source": []
  }
 ],
 "metadata": {
  "kernelspec": {
   "display_name": "Python 3",
   "language": "python",
   "name": "python3"
  },
  "language_info": {
   "codemirror_mode": {
    "name": "ipython",
    "version": 3
   },
   "file_extension": ".py",
   "mimetype": "text/x-python",
   "name": "python",
   "nbconvert_exporter": "python",
   "pygments_lexer": "ipython3",
   "version": "3.6.2"
  }
 },
 "nbformat": 4,
 "nbformat_minor": 2
}
