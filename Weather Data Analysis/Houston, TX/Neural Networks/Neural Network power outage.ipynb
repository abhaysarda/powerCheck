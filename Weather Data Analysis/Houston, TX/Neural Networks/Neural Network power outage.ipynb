{
 "cells": [
  {
   "cell_type": "code",
   "execution_count": 14,
   "metadata": {
    "collapsed": true,
    "scrolled": true
   },
   "outputs": [],
   "source": [
    "from sklearn.neural_network import MLPClassifier\n",
    "import numpy as np\n",
    "from sklearn.cross_validation import train_test_split\n",
    "import pandas as pd\n",
    "import matplotlib.pyplot as plt\n",
    "from sklearn import preprocessing\n",
    "from sklearn.ensemble import AdaBoostClassifier\n",
    "from sklearn.ensemble import GradientBoostingClassifier\n",
    "from sklearn.metrics import accuracy_score\n",
    "from sklearn import preprocessing\n",
    "from sklearn.model_selection import cross_val_score\n",
    "import seaborn as sns\n",
    "\n",
    "df = pd.read_csv('Final Data');\n",
    "#df.describe()"
   ]
  },
  {
   "cell_type": "code",
   "execution_count": null,
   "metadata": {
    "collapsed": true
   },
   "outputs": [],
   "source": []
  },
  {
   "cell_type": "code",
   "execution_count": 15,
   "metadata": {},
   "outputs": [
    {
     "data": {
      "text/html": [
       "<div>\n",
       "<style>\n",
       "    .dataframe thead tr:only-child th {\n",
       "        text-align: right;\n",
       "    }\n",
       "\n",
       "    .dataframe thead th {\n",
       "        text-align: left;\n",
       "    }\n",
       "\n",
       "    .dataframe tbody tr th {\n",
       "        vertical-align: top;\n",
       "    }\n",
       "</style>\n",
       "<table border=\"1\" class=\"dataframe\">\n",
       "  <thead>\n",
       "    <tr style=\"text-align: right;\">\n",
       "      <th></th>\n",
       "      <th>PRCP</th>\n",
       "      <th>Delta T Min</th>\n",
       "      <th>Delta T Max</th>\n",
       "      <th>TMAX</th>\n",
       "      <th>5 second wind speed squared</th>\n",
       "      <th>2 min wind speed squared</th>\n",
       "      <th>Avg Wind Speed Squared</th>\n",
       "      <th>Fog/Ice</th>\n",
       "      <th>Heavy/Freezing Fog</th>\n",
       "      <th>Thunder</th>\n",
       "      <th>Smoke/Haze</th>\n",
       "    </tr>\n",
       "  </thead>\n",
       "  <tbody>\n",
       "    <tr>\n",
       "      <th>0</th>\n",
       "      <td>0.000</td>\n",
       "      <td>0.000000</td>\n",
       "      <td>0.000000</td>\n",
       "      <td>0.471698</td>\n",
       "      <td>0.005809</td>\n",
       "      <td>0.014808</td>\n",
       "      <td>0.036815</td>\n",
       "      <td>0.0</td>\n",
       "      <td>0.0</td>\n",
       "      <td>0.0</td>\n",
       "      <td>0.0</td>\n",
       "    </tr>\n",
       "    <tr>\n",
       "      <th>1</th>\n",
       "      <td>0.000</td>\n",
       "      <td>0.000054</td>\n",
       "      <td>0.000886</td>\n",
       "      <td>0.487421</td>\n",
       "      <td>0.019600</td>\n",
       "      <td>0.057484</td>\n",
       "      <td>0.154984</td>\n",
       "      <td>0.0</td>\n",
       "      <td>0.0</td>\n",
       "      <td>0.0</td>\n",
       "      <td>0.0</td>\n",
       "    </tr>\n",
       "    <tr>\n",
       "      <th>2</th>\n",
       "      <td>0.000</td>\n",
       "      <td>0.001362</td>\n",
       "      <td>0.000016</td>\n",
       "      <td>0.473795</td>\n",
       "      <td>0.011571</td>\n",
       "      <td>0.037627</td>\n",
       "      <td>0.104491</td>\n",
       "      <td>0.0</td>\n",
       "      <td>0.0</td>\n",
       "      <td>0.0</td>\n",
       "      <td>0.0</td>\n",
       "    </tr>\n",
       "    <tr>\n",
       "      <th>3</th>\n",
       "      <td>0.005</td>\n",
       "      <td>0.012255</td>\n",
       "      <td>0.000319</td>\n",
       "      <td>0.481132</td>\n",
       "      <td>0.003535</td>\n",
       "      <td>0.009524</td>\n",
       "      <td>0.019968</td>\n",
       "      <td>1.0</td>\n",
       "      <td>0.0</td>\n",
       "      <td>0.0</td>\n",
       "      <td>0.0</td>\n",
       "    </tr>\n",
       "    <tr>\n",
       "      <th>4</th>\n",
       "      <td>0.000</td>\n",
       "      <td>0.002301</td>\n",
       "      <td>0.000016</td>\n",
       "      <td>0.473795</td>\n",
       "      <td>0.012885</td>\n",
       "      <td>0.041951</td>\n",
       "      <td>0.049338</td>\n",
       "      <td>0.0</td>\n",
       "      <td>0.0</td>\n",
       "      <td>0.0</td>\n",
       "      <td>0.0</td>\n",
       "    </tr>\n",
       "  </tbody>\n",
       "</table>\n",
       "</div>"
      ],
      "text/plain": [
       "    PRCP  Delta T Min  Delta T Max      TMAX  5 second wind speed squared  \\\n",
       "0  0.000     0.000000     0.000000  0.471698                     0.005809   \n",
       "1  0.000     0.000054     0.000886  0.487421                     0.019600   \n",
       "2  0.000     0.001362     0.000016  0.473795                     0.011571   \n",
       "3  0.005     0.012255     0.000319  0.481132                     0.003535   \n",
       "4  0.000     0.002301     0.000016  0.473795                     0.012885   \n",
       "\n",
       "   2 min wind speed squared  Avg Wind Speed Squared  Fog/Ice  \\\n",
       "0                  0.014808                0.036815      0.0   \n",
       "1                  0.057484                0.154984      0.0   \n",
       "2                  0.037627                0.104491      0.0   \n",
       "3                  0.009524                0.019968      1.0   \n",
       "4                  0.041951                0.049338      0.0   \n",
       "\n",
       "   Heavy/Freezing Fog  Thunder  Smoke/Haze  \n",
       "0                 0.0      0.0         0.0  \n",
       "1                 0.0      0.0         0.0  \n",
       "2                 0.0      0.0         0.0  \n",
       "3                 0.0      0.0         0.0  \n",
       "4                 0.0      0.0         0.0  "
      ]
     },
     "execution_count": 15,
     "metadata": {},
     "output_type": "execute_result"
    }
   ],
   "source": [
    "df = pd.read_csv('Final Data');\n",
    "po = df['Power Outage'];\n",
    "df = df.drop(['Power Outage'], axis = 1);\n",
    "X_train, X_test, y_train, y_test = train_test_split(df, po, test_size=0.33, random_state = 1234);\n",
    "df.head()"
   ]
  },
  {
   "cell_type": "code",
   "execution_count": 16,
   "metadata": {},
   "outputs": [
    {
     "name": "stdout",
     "output_type": "stream",
     "text": [
      "Before sampling ratio\n",
      "0.0    1838\n",
      "1.0     111\n",
      "Name: Power Outage, dtype: int64\n",
      "Final counts after undersampling the zeroes\n",
      "0.0    1110\n",
      "1.0     111\n",
      "Name: Power Outage, dtype: int64\n"
     ]
    },
    {
     "name": "stderr",
     "output_type": "stream",
     "text": [
      "/anaconda3/lib/python3.6/site-packages/sklearn/utils/deprecation.py:75: DeprecationWarning: Function _ratio_float is deprecated; Use a float for 'ratio' is deprecated from version 0.2. The support will be removed in 0.4. Use a dict, str, or a callable instead.\n",
      "  warnings.warn(msg, category=DeprecationWarning)\n"
     ]
    },
    {
     "data": {
      "text/html": [
       "<div>\n",
       "<style>\n",
       "    .dataframe thead tr:only-child th {\n",
       "        text-align: right;\n",
       "    }\n",
       "\n",
       "    .dataframe thead th {\n",
       "        text-align: left;\n",
       "    }\n",
       "\n",
       "    .dataframe tbody tr th {\n",
       "        vertical-align: top;\n",
       "    }\n",
       "</style>\n",
       "<table border=\"1\" class=\"dataframe\">\n",
       "  <thead>\n",
       "    <tr style=\"text-align: right;\">\n",
       "      <th></th>\n",
       "      <th>Power Outage</th>\n",
       "      <th>PRCP</th>\n",
       "      <th>Delta T Min</th>\n",
       "      <th>Delta T Max</th>\n",
       "      <th>TMAX</th>\n",
       "      <th>5 second wind speed squared</th>\n",
       "      <th>2 min wind speed squared</th>\n",
       "      <th>Avg Wind Speed Squared</th>\n",
       "      <th>Fog/Ice</th>\n",
       "      <th>Heavy/Freezing Fog</th>\n",
       "      <th>Thunder</th>\n",
       "      <th>Smoke/Haze</th>\n",
       "    </tr>\n",
       "  </thead>\n",
       "  <tbody>\n",
       "    <tr>\n",
       "      <th>0</th>\n",
       "      <td>0.0</td>\n",
       "      <td>0.0</td>\n",
       "      <td>0.431421</td>\n",
       "      <td>0.937516</td>\n",
       "      <td>0.983229</td>\n",
       "      <td>0.008444</td>\n",
       "      <td>0.014808</td>\n",
       "      <td>0.008235</td>\n",
       "      <td>1.0</td>\n",
       "      <td>1.0</td>\n",
       "      <td>0.0</td>\n",
       "      <td>0.0</td>\n",
       "    </tr>\n",
       "    <tr>\n",
       "      <th>1</th>\n",
       "      <td>0.0</td>\n",
       "      <td>0.0</td>\n",
       "      <td>0.001961</td>\n",
       "      <td>0.032600</td>\n",
       "      <td>0.567086</td>\n",
       "      <td>0.032012</td>\n",
       "      <td>0.091452</td>\n",
       "      <td>0.254763</td>\n",
       "      <td>0.0</td>\n",
       "      <td>0.0</td>\n",
       "      <td>0.0</td>\n",
       "      <td>0.0</td>\n",
       "    </tr>\n",
       "    <tr>\n",
       "      <th>2</th>\n",
       "      <td>0.0</td>\n",
       "      <td>0.0</td>\n",
       "      <td>0.216174</td>\n",
       "      <td>0.762157</td>\n",
       "      <td>0.932914</td>\n",
       "      <td>0.019600</td>\n",
       "      <td>0.069620</td>\n",
       "      <td>0.118038</td>\n",
       "      <td>0.0</td>\n",
       "      <td>0.0</td>\n",
       "      <td>0.0</td>\n",
       "      <td>0.0</td>\n",
       "    </tr>\n",
       "    <tr>\n",
       "      <th>3</th>\n",
       "      <td>0.0</td>\n",
       "      <td>0.0</td>\n",
       "      <td>0.594777</td>\n",
       "      <td>0.515889</td>\n",
       "      <td>0.851153</td>\n",
       "      <td>0.019600</td>\n",
       "      <td>0.047556</td>\n",
       "      <td>0.197353</td>\n",
       "      <td>0.0</td>\n",
       "      <td>0.0</td>\n",
       "      <td>0.0</td>\n",
       "      <td>0.0</td>\n",
       "    </tr>\n",
       "    <tr>\n",
       "      <th>4</th>\n",
       "      <td>0.0</td>\n",
       "      <td>0.0</td>\n",
       "      <td>0.934682</td>\n",
       "      <td>0.568468</td>\n",
       "      <td>0.870021</td>\n",
       "      <td>0.206656</td>\n",
       "      <td>0.632312</td>\n",
       "      <td>0.074358</td>\n",
       "      <td>0.0</td>\n",
       "      <td>0.0</td>\n",
       "      <td>0.0</td>\n",
       "      <td>0.0</td>\n",
       "    </tr>\n",
       "  </tbody>\n",
       "</table>\n",
       "</div>"
      ],
      "text/plain": [
       "   Power Outage  PRCP  Delta T Min  Delta T Max      TMAX  \\\n",
       "0           0.0   0.0     0.431421     0.937516  0.983229   \n",
       "1           0.0   0.0     0.001961     0.032600  0.567086   \n",
       "2           0.0   0.0     0.216174     0.762157  0.932914   \n",
       "3           0.0   0.0     0.594777     0.515889  0.851153   \n",
       "4           0.0   0.0     0.934682     0.568468  0.870021   \n",
       "\n",
       "   5 second wind speed squared  2 min wind speed squared  \\\n",
       "0                     0.008444                  0.014808   \n",
       "1                     0.032012                  0.091452   \n",
       "2                     0.019600                  0.069620   \n",
       "3                     0.019600                  0.047556   \n",
       "4                     0.206656                  0.632312   \n",
       "\n",
       "   Avg Wind Speed Squared  Fog/Ice  Heavy/Freezing Fog  Thunder  Smoke/Haze  \n",
       "0                0.008235      1.0                 1.0      0.0         0.0  \n",
       "1                0.254763      0.0                 0.0      0.0         0.0  \n",
       "2                0.118038      0.0                 0.0      0.0         0.0  \n",
       "3                0.197353      0.0                 0.0      0.0         0.0  \n",
       "4                0.074358      0.0                 0.0      0.0         0.0  "
      ]
     },
     "execution_count": 16,
     "metadata": {},
     "output_type": "execute_result"
    }
   ],
   "source": [
    "#Undersample the number of zeroes\n",
    "import pandas_ml as pdml\n",
    "df_ML = pdml.ModelFrame(X_train, target = y_train)\n",
    "print(\"Before sampling ratio\");\n",
    "print(df_ML.target.value_counts());\n",
    "sampler = df_ML.imbalance.under_sampling.RandomUnderSampler(ratio=0.1);\n",
    "df_ML = df_ML.fit_sample(sampler);\n",
    "print(\"Final counts after undersampling the zeroes\");\n",
    "print(df_ML.target.value_counts());\n",
    "X_train = df_ML.iloc[:,1:];\n",
    "y_train = df_ML['Power Outage'];\n",
    "df_ML.head()"
   ]
  },
  {
   "cell_type": "code",
   "execution_count": 17,
   "metadata": {},
   "outputs": [
    {
     "name": "stderr",
     "output_type": "stream",
     "text": [
      "/anaconda3/lib/python3.6/site-packages/sklearn/utils/deprecation.py:75: DeprecationWarning: Function _ratio_float is deprecated; Use a float for 'ratio' is deprecated from version 0.2. The support will be removed in 0.4. Use a dict, str, or a callable instead.\n",
      "  warnings.warn(msg, category=DeprecationWarning)\n"
     ]
    }
   ],
   "source": [
    "#Oversampling the number of ones\n",
    "from imblearn.over_sampling import SMOTE\n",
    "sampler = SMOTE(random_state=44, ratio=1);\n",
    "X_train, y_train = sampler.fit_sample(X_train, y_train);"
   ]
  },
  {
   "cell_type": "code",
   "execution_count": 18,
   "metadata": {
    "collapsed": true
   },
   "outputs": [],
   "source": [
    "# df.shape"
   ]
  },
  {
   "cell_type": "code",
   "execution_count": 19,
   "metadata": {
    "collapsed": true
   },
   "outputs": [],
   "source": [
    "# #Split the data into X and Y, and then into training and testing sets\n",
    "# X = np.array(df[['2 min wind speed squared','Avg Wind Speed Squared','5 second wind speed squared','Fog/Ice','Heavy/Freezing Fog','Thunder']]);\n",
    "# y = np.array(df['Power Outage']);\n",
    "# X_train, X_test, y_train, y_test = train_test_split(X, y, test_size=0.33, random_state = 20);"
   ]
  },
  {
   "cell_type": "code",
   "execution_count": 20,
   "metadata": {},
   "outputs": [
    {
     "name": "stdout",
     "output_type": "stream",
     "text": [
      "Accuracy:  0.737773152966\n"
     ]
    },
    {
     "data": {
      "image/png": "[encoded data removed]",
      "text/plain": [
       "<matplotlib.figure.Figure at 0x1182f3550>"
      ]
     },
     "metadata": {},
     "output_type": "display_data"
    }
   ],
   "source": [
    "clf = MLPClassifier(solver='lbfgs', alpha=1e-5, hidden_layer_sizes=(20), random_state=1, learning_rate_init=0.0001, max_iter=1000)\n",
    "#clf = MLPClassifier(solver='lbfgs', alpha=1e-5, hidden_layer_sizes=(8), random_state=1, learning_rate_init=0.0001, max_iter=10000);\n",
    "\n",
    "clf.fit(X_train, y_train);\n",
    "pred = clf.predict(X_test)\n",
    "\n",
    "from sklearn.metrics import accuracy_score\n",
    "accuracy = accuracy_score(y_test, pred);\n",
    "print(\"Accuracy: \", accuracy);\n",
    "\n",
    "\n",
    "from sklearn.metrics import confusion_matrix\n",
    "import seaborn as sns\n",
    "\n",
    "cm = pd.DataFrame(confusion_matrix(y_test, pred));\n",
    "\n",
    "sns.heatmap(cm, annot=True);\n",
    "plt.show();\n",
    "plt.savefig('confusion matrix.png')\n",
    "#plt.savefig('confusion matrix.png')"
   ]
  },
  {
   "cell_type": "code",
   "execution_count": 21,
   "metadata": {},
   "outputs": [
    {
     "name": "stdout",
     "output_type": "stream",
     "text": [
      "0.506708652793\n"
     ]
    },
    {
     "data": {
      "image/png": "[encoded data removed]",
      "text/plain": [
       "<matplotlib.figure.Figure at 0x118317d68>"
      ]
     },
     "metadata": {},
     "output_type": "display_data"
    },
    {
     "name": "stdout",
     "output_type": "stream",
     "text": [
      "               precision    recall  f1-score   support\n",
      "\n",
      "  Normal Days       0.95      0.76      0.85       913\n",
      "Power Outages       0.05      0.25      0.09        48\n",
      "\n",
      "  avg / total       0.91      0.74      0.81       961\n",
      "\n"
     ]
    }
   ],
   "source": [
    "# Compute ROC curve and ROC area for each class\n",
    "from sklearn.metrics import roc_auc_score\n",
    "print(roc_auc_score(y_test, pred));\n",
    "from sklearn.metrics import roc_curve\n",
    "from sklearn.metrics import auc\n",
    "\n",
    "# Compute fpr, tpr, thresholds and roc auc\n",
    "fpr, tpr, thresholds = roc_curve(y_test, pred);\n",
    "roc_auc = auc(fpr, tpr);\n",
    "plt.plot(fpr, tpr);\n",
    "plt.show();\n",
    "from sklearn.metrics import classification_report\n",
    "print(classification_report(y_test, pred, target_names = ['Normal Days', 'Power Outages']));"
   ]
  },
  {
   "cell_type": "code",
   "execution_count": 22,
   "metadata": {
    "collapsed": true
   },
   "outputs": [],
   "source": [
    "# #Calculate how many Power outages were predicted correctly\n",
    "# actualOutage = set(np.nonzero(y_test)[0]);\n",
    "# predictedOutage = set(np.nonzero(pred)[0]);\n",
    "# accuratePrediction = predictedOutage.intersection(actualOutage);\n",
    "# if len(accuratePrediction)>len(actualOutage):\n",
    "#     accuracyPredictionPercentage = 100;\n",
    "# else:\n",
    "#     accuracyPredictionPercentage = len(accuratePrediction)/len(actualOutage)*100;\n",
    "# print(\"Out of the number of actual ones, it predicted : \", accuracyPredictionPercentage);"
   ]
  },
  {
   "cell_type": "code",
   "execution_count": 23,
   "metadata": {
    "collapsed": true
   },
   "outputs": [],
   "source": [
    "# #Calculate how many days were classified as normal days\n",
    "# noOutage = set(np.where(y_test == 0)[0])\n",
    "# predictedNoOutage = set(np.where(pred == 0)[0])\n",
    "# accuratePredictionNoOutage = predictedNoOutage.intersection(noOutage);\n",
    "# if len(accuratePredictionNoOutage)>len(noOutage):\n",
    "#     accuratePredictionNoOutagePercentage = 100\n",
    "# else:\n",
    "#     accuratePredictionNoOutagePercentage = len(accuratePredictionNoOutage)/len(noOutage)*100;\n",
    "# print(\"Out of the number of normal days, it predicted : \", accuratePredictionNoOutagePercentage);"
   ]
  },
  {
   "cell_type": "code",
   "execution_count": 24,
   "metadata": {
    "collapsed": true
   },
   "outputs": [],
   "source": [
    "# #Now find how well was the data undersampled using clustering\n",
    "# raw_data = pd.read_csv('data.csv');\n",
    "# raw_data = raw_data.fillna(0);\n",
    "# raw_data['Avg Wind Speed Squared'] = pd.Series(np.square(raw_data['Average Wind Speed']));\n",
    "# raw_data['5 second wind speed squared'] = pd.Series(np.square(raw_data['Fastest 5 second wind speed']));\n",
    "# raw_data['2 min wind speed squared'] = pd.Series(np.square(raw_data['Fastest 2 minute wind speed']));\n",
    "# raw_data = raw_data.drop(['DATE','TMAX','TMIN','Smoke/Haze','Average Wind Speed','Fastest 5 second wind speed','Fastest 2 minute wind speed'], axis=1);\n",
    "# #Normalize data\n",
    "# scaledData = preprocessing.MinMaxScaler().fit_transform(raw_data.values);\n",
    "# raw_data = pd.DataFrame(scaledData, index = raw_data.index, columns = raw_data.columns);\n"
   ]
  },
  {
   "cell_type": "code",
   "execution_count": 25,
   "metadata": {
    "collapsed": true
   },
   "outputs": [],
   "source": [
    "# y_test = raw_data['Power Outage'];\n",
    "# raw_data=raw_data[['Avg Wind Speed Squared','2 min wind speed squared','5 second wind speed squared','Fog/Ice','Thunder']];\n",
    "# X = df[['Avg Wind Speed Squared','2 min wind speed squared','5 second wind speed squared','Fog/Ice','Thunder']];\n",
    "# X_test = raw_data;\n"
   ]
  },
  {
   "cell_type": "code",
   "execution_count": null,
   "metadata": {
    "collapsed": true
   },
   "outputs": [],
   "source": []
  }
 ],
 "metadata": {
  "kernelspec": {
   "display_name": "Python 3",
   "language": "python",
   "name": "python3"
  },
  "language_info": {
   "codemirror_mode": {
    "name": "ipython",
    "version": 3
   },
   "file_extension": ".py",
   "mimetype": "text/x-python",
   "name": "python",
   "nbconvert_exporter": "python",
   "pygments_lexer": "ipython3",
   "version": "3.6.2"
  }
 },
 "nbformat": 4,
 "nbformat_minor": 2
}
