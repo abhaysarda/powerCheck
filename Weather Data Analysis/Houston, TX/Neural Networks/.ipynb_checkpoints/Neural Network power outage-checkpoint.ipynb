{
 "cells": [
  {
   "cell_type": "code",
   "execution_count": 59,
   "metadata": {},
   "outputs": [
    {
     "name": "stdout",
     "output_type": "stream",
     "text": [
      "2830\n"
     ]
    }
   ],
   "source": [
    "from sklearn.neural_network import MLPClassifier\n",
    "import pandas as pd\n",
    "import matplotlib.pyplot as plt\n",
    "import numpy as np\n",
    "from sklearn.preprocessing import normalize\n",
    "#Load labels\n",
    "names = ['DATE', 'AWND', 'PRCP', 'TMAX', 'TMIN', 'WSF2', 'WSF5',\n",
    "        'WT01', 'WT02', 'WT03', 'WT04', 'WT06', 'WT08', 'PO'];\n",
    "#Load data\n",
    "\n",
    "df = pd.read_csv('Sugar County Mem Houston 2.csv');\n",
    "dh = pd.read_csv('Houston Intercontinental Airport 2.csv'); \n",
    "\n",
    "#deciding if i want to check accuracy of POs or all data\n",
    "# final_y = df['PO'];\n",
    "# final_y = final_y.fillna(0);\n",
    "# final_y = np.array(final_y)\n",
    "dh = dh[df['PO'] != 1];\n",
    "\n",
    "print(len(dh))\n",
    "dh['DELTAT'] = dh['TMAX'] - dh['TMIN']\n",
    "df['DELTAT'] = df['TMAX'] - df['TMIN']\n",
    "\n",
    "dh.to_csv('Airport.csv', encoding='utf-8')\n",
    "df.to_csv('Sugar.csv', encoding='utf-8')\n",
    "\n",
    "df = pd.read_csv('Sugar.csv');\n",
    "dh = pd.read_csv('Airport.csv');\n",
    "\n",
    "\n",
    "dh = pd.DataFrame(dh, columns = ['AWND', 'PRCP', 'TMAX', 'TMIN', 'WSF2', 'WSF5','WT01', 'WT02', 'WT03', 'WT04', 'WT06', 'WT08'])\n",
    "df = pd.DataFrame(df, columns = ['AWND', 'PRCP', 'TMAX', 'TMIN', 'WSF2', 'WSF5','WT01', 'WT02', 'WT03', 'WT04', 'WT06', 'WT08', 'PO'])\n",
    "\n",
    "#df.drop(df.index(np.r_[0:364, 440:580, 620:820, 950:1080, 1100:1300, 1460:1720, 1750:1900, 2200:2280, 2500:2620, 2720:2770]));\n",
    "df = df.iloc[np.r_[394:408, 595:606, 834:845, 886:899, 927:937, 1083:1095, 1316:1328, 1388:1400, 1425:1445, 1728:1744, 1927:1947, 1964:1979, 2041:2055, 2123:2135, 2178:2194, 2293:2313, 2419:2433, 2636:2650, 2698:2711, 2787:2811, 2846:2857, 2889:2906], :]\n"
   ]
  },
  {
   "cell_type": "code",
   "execution_count": 60,
   "metadata": {
    "collapsed": true
   },
   "outputs": [],
   "source": [
    "#Replace NaN with 0\n",
    "df = df.fillna(0);\n",
    "dh = dh.fillna(0);\n",
    "\n",
    "# plt.plot(df['DATE'][0:364],df['PO'][0:364]) #2011\n",
    "\n",
    "# plt.show()\n",
    "# plt.plot(df['DATE'][365:729],df['PO'][365:729]) #2012\n",
    "# plt.show()\n",
    "# plt.plot(df['DATE'][730:1094],df['PO'][730:1094]) #2013\n",
    "# plt.show()\n",
    "# plt.plot(df['DATE'][1095:1459],df['PO'][1095:1459]) #2014\n",
    "# plt.show()\n",
    "# plt.plot(df['DATE'][1460:1824],df['PO'][1460:1824]) #2015\n",
    "# plt.show()\n",
    "# plt.plot(df['DATE'][1825:2189],df['PO'][1825:2189]) #2016\n",
    "# plt.show()\n",
    "# plt.plot(df['DATE'][2190:2555],df['PO'][2190:2555]) #2017\n",
    "# plt.show()\n",
    "# plt.plot(df.index[0:500] ,df['PO'][0:500])\n",
    "# plt.show()\n",
    "# plt.plot(df.index[500:1000] ,df['PO'][500:1000])\n",
    "# plt.show()\n",
    "# plt.plot(df.index[1000:1500] ,df['PO'][1000:1500])\n",
    "# plt.show()\n",
    "# plt.plot(df.index[1500:2000] ,df['PO'][1500:2000])\n",
    "# plt.show()\n",
    "# plt.plot(df.index[2000:2500] ,df['PO'][2000:2500])\n",
    "# plt.show()\n",
    "# plt.plot(df.index[2500:3000] ,df['PO'][2500:3000])\n",
    "# plt.show()"
   ]
  },
  {
   "cell_type": "code",
   "execution_count": 61,
   "metadata": {
    "collapsed": true
   },
   "outputs": [],
   "source": [
    "import numpy as np\n",
    "from sklearn.cross_validation import train_test_split"
   ]
  },
  {
   "cell_type": "code",
   "execution_count": 62,
   "metadata": {
    "collapsed": true
   },
   "outputs": [],
   "source": [
    "#Split the data into X and Y, and then into training and testing sets\n",
    "X = np.array(df.iloc[:,0:11]);\n",
    "y = np.array(df.iloc[:,12]);\n",
    "X = normalize(X, axis=0, norm='max')\n",
    "X_train = X;\n",
    "X_test =  np.array(dh.iloc[:,0:11]);\n",
    "#print(len(X_train))\n",
    "y_train = y;\n",
    "#y_test = np.ones(91);\n",
    "#y_test = final_y;\n",
    "y_test = np.zeros(2830)\n",
    "X_test = normalize(X_test, axis=0, norm='max')\n",
    "\n",
    "#print(y_train)\n",
    "#X_train, X_test, y_train, y_test = train_test_split(X, y, test_size=0.1, random_state = 42);"
   ]
  },
  {
   "cell_type": "code",
   "execution_count": 63,
   "metadata": {},
   "outputs": [
    {
     "name": "stdout",
     "output_type": "stream",
     "text": [
      "Accuracy:  0.762544169611\n"
     ]
    }
   ],
   "source": [
    "#clf = MLPClassifier(solver='lbfgs', alpha=1e-5, hidden_layer_sizes=(20, 15, 12,10), random_state=1, learning_rate_init=0.0001, max_iter=1000)\n",
    "clf = MLPClassifier(solver='lbfgs', alpha=1e-5, hidden_layer_sizes=(24, 20, 15, 12,10), random_state=1, learning_rate_init=0.0001, max_iter=1000)\n",
    "\n",
    "clf.fit(X_train, y_train)\n",
    "pred = clf.predict(X_test)\n",
    "from sklearn.metrics import accuracy_score\n",
    "accuracy = accuracy_score(y_test, pred);\n",
    "print(\"Accuracy: \", accuracy);"
   ]
  },
  {
   "cell_type": "code",
   "execution_count": null,
   "metadata": {
    "collapsed": true
   },
   "outputs": [],
   "source": []
  }
 ],
 "metadata": {
  "kernelspec": {
   "display_name": "Python 3",
   "language": "python",
   "name": "python3"
  },
  "language_info": {
   "codemirror_mode": {
    "name": "ipython",
    "version": 3
   },
   "file_extension": ".py",
   "mimetype": "text/x-python",
   "name": "python",
   "nbconvert_exporter": "python",
   "pygments_lexer": "ipython3",
   "version": "3.6.3"
  }
 },
 "nbformat": 4,
 "nbformat_minor": 2
}
