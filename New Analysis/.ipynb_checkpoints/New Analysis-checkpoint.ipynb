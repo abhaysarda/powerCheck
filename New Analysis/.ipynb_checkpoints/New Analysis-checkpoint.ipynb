{
 "cells": [
  {
   "cell_type": "code",
   "execution_count": 149,
   "metadata": {
    "collapsed": true
   },
   "outputs": [],
   "source": [
    "import numpy as np\n",
    "import pandas as pd\n",
    "import seaborn as sns\n",
    "import matplotlib.pyplot as plt\n",
    "from sklearn.metrics import accuracy_score, f1_score, precision_score, recall_score, classification_report, confusion_matrix"
   ]
  },
  {
   "cell_type": "code",
   "execution_count": 150,
   "metadata": {},
   "outputs": [
    {
     "name": "stdout",
     "output_type": "stream",
     "text": [
      "   Average Wind Speed  PRCP  TMAX  TMIN  Fastest 2 minute wind speed  \\\n",
      "0                4.25  0.00  15.0 -11.0                         10.1   \n",
      "1                8.72  0.00  15.0  -2.0                         19.9   \n",
      "2                7.16  0.00  17.0   8.0                         16.1   \n",
      "3                3.13  0.02  11.0 -20.0                          8.1   \n",
      "4                4.92  0.00  11.0 -17.0                         17.0   \n",
      "\n",
      "   Fastest 5 second wind speed  Fog/Ice  Heavy/Freezing Fog  Thunder  \\\n",
      "0                         14.1      0.0                 0.0      0.0   \n",
      "1                         25.9      0.0                 0.0      0.0   \n",
      "2                         19.9      0.0                 0.0      0.0   \n",
      "3                         11.0      1.0                 0.0      0.0   \n",
      "4                         21.0      0.0                 0.0      0.0   \n",
      "\n",
      "   Smoke/Haze  Power Outage  \n",
      "0         0.0           0.0  \n",
      "1         0.0           0.0  \n",
      "2         0.0           0.0  \n",
      "3         0.0           0.0  \n",
      "4         0.0           0.0  \n"
     ]
    },
    {
     "data": {
      "image/png": "[encoded data removed]",
      "text/plain": [
       "<matplotlib.figure.Figure at 0x11d817cc0>"
      ]
     },
     "metadata": {},
     "output_type": "display_data"
    }
   ],
   "source": [
    "df = pd.read_csv('data.csv');\n",
    "df = df.fillna(0);\n",
    "df = df.drop(['DATE'], axis = 1);\n",
    "print(df.head());\n",
    "sns.countplot(x=\"Power Outage\",data=df);\n",
    "plt.show();"
   ]
  },
  {
   "cell_type": "code",
   "execution_count": 151,
   "metadata": {},
   "outputs": [
    {
     "data": {
      "text/html": [
       "<div>\n",
       "<style>\n",
       "    .dataframe thead tr:only-child th {\n",
       "        text-align: right;\n",
       "    }\n",
       "\n",
       "    .dataframe thead th {\n",
       "        text-align: left;\n",
       "    }\n",
       "\n",
       "    .dataframe tbody tr th {\n",
       "        vertical-align: top;\n",
       "    }\n",
       "</style>\n",
       "<table border=\"1\" class=\"dataframe\">\n",
       "  <thead>\n",
       "    <tr style=\"text-align: right;\">\n",
       "      <th></th>\n",
       "      <th>Average Wind Speed</th>\n",
       "      <th>PRCP</th>\n",
       "      <th>TMAX</th>\n",
       "      <th>TMIN</th>\n",
       "      <th>Fastest 2 minute wind speed</th>\n",
       "      <th>Fastest 5 second wind speed</th>\n",
       "      <th>Fog/Ice</th>\n",
       "      <th>Heavy/Freezing Fog</th>\n",
       "      <th>Thunder</th>\n",
       "      <th>Smoke/Haze</th>\n",
       "      <th>Power Outage</th>\n",
       "    </tr>\n",
       "  </thead>\n",
       "  <tbody>\n",
       "    <tr>\n",
       "      <th>count</th>\n",
       "      <td>2910.000000</td>\n",
       "      <td>2910.000000</td>\n",
       "      <td>2910.000000</td>\n",
       "      <td>2910.000000</td>\n",
       "      <td>2910.000000</td>\n",
       "      <td>2910.000000</td>\n",
       "      <td>2910.000000</td>\n",
       "      <td>2910.000000</td>\n",
       "      <td>2910.000000</td>\n",
       "      <td>2910.000000</td>\n",
       "      <td>2910.000000</td>\n",
       "    </tr>\n",
       "    <tr>\n",
       "      <th>mean</th>\n",
       "      <td>0.328440</td>\n",
       "      <td>0.019899</td>\n",
       "      <td>0.580881</td>\n",
       "      <td>0.652697</td>\n",
       "      <td>0.223647</td>\n",
       "      <td>0.151456</td>\n",
       "      <td>0.344674</td>\n",
       "      <td>0.100344</td>\n",
       "      <td>0.053265</td>\n",
       "      <td>0.150172</td>\n",
       "      <td>0.054639</td>\n",
       "    </tr>\n",
       "    <tr>\n",
       "      <th>std</th>\n",
       "      <td>0.159530</td>\n",
       "      <td>0.056304</td>\n",
       "      <td>0.209492</td>\n",
       "      <td>0.178108</td>\n",
       "      <td>0.087812</td>\n",
       "      <td>0.094487</td>\n",
       "      <td>0.475343</td>\n",
       "      <td>0.300509</td>\n",
       "      <td>0.224599</td>\n",
       "      <td>0.357301</td>\n",
       "      <td>0.227314</td>\n",
       "    </tr>\n",
       "    <tr>\n",
       "      <th>min</th>\n",
       "      <td>0.000000</td>\n",
       "      <td>0.000000</td>\n",
       "      <td>0.000000</td>\n",
       "      <td>0.000000</td>\n",
       "      <td>0.000000</td>\n",
       "      <td>0.000000</td>\n",
       "      <td>0.000000</td>\n",
       "      <td>0.000000</td>\n",
       "      <td>0.000000</td>\n",
       "      <td>0.000000</td>\n",
       "      <td>0.000000</td>\n",
       "    </tr>\n",
       "    <tr>\n",
       "      <th>25%</th>\n",
       "      <td>0.212190</td>\n",
       "      <td>0.000000</td>\n",
       "      <td>0.401961</td>\n",
       "      <td>0.533981</td>\n",
       "      <td>0.169880</td>\n",
       "      <td>0.102703</td>\n",
       "      <td>0.000000</td>\n",
       "      <td>0.000000</td>\n",
       "      <td>0.000000</td>\n",
       "      <td>0.000000</td>\n",
       "      <td>0.000000</td>\n",
       "    </tr>\n",
       "    <tr>\n",
       "      <th>50%</th>\n",
       "      <td>0.312867</td>\n",
       "      <td>0.000000</td>\n",
       "      <td>0.607843</td>\n",
       "      <td>0.660194</td>\n",
       "      <td>0.204819</td>\n",
       "      <td>0.129189</td>\n",
       "      <td>0.000000</td>\n",
       "      <td>0.000000</td>\n",
       "      <td>0.000000</td>\n",
       "      <td>0.000000</td>\n",
       "      <td>0.000000</td>\n",
       "    </tr>\n",
       "    <tr>\n",
       "      <th>75%</th>\n",
       "      <td>0.424379</td>\n",
       "      <td>0.007500</td>\n",
       "      <td>0.764706</td>\n",
       "      <td>0.796117</td>\n",
       "      <td>0.263855</td>\n",
       "      <td>0.168108</td>\n",
       "      <td>1.000000</td>\n",
       "      <td>0.000000</td>\n",
       "      <td>0.000000</td>\n",
       "      <td>0.000000</td>\n",
       "      <td>0.000000</td>\n",
       "    </tr>\n",
       "    <tr>\n",
       "      <th>max</th>\n",
       "      <td>1.000000</td>\n",
       "      <td>1.000000</td>\n",
       "      <td>1.000000</td>\n",
       "      <td>1.000000</td>\n",
       "      <td>1.000000</td>\n",
       "      <td>1.000000</td>\n",
       "      <td>1.000000</td>\n",
       "      <td>1.000000</td>\n",
       "      <td>1.000000</td>\n",
       "      <td>1.000000</td>\n",
       "      <td>1.000000</td>\n",
       "    </tr>\n",
       "  </tbody>\n",
       "</table>\n",
       "</div>"
      ],
      "text/plain": [
       "       Average Wind Speed         PRCP         TMAX         TMIN  \\\n",
       "count         2910.000000  2910.000000  2910.000000  2910.000000   \n",
       "mean             0.328440     0.019899     0.580881     0.652697   \n",
       "std              0.159530     0.056304     0.209492     0.178108   \n",
       "min              0.000000     0.000000     0.000000     0.000000   \n",
       "25%              0.212190     0.000000     0.401961     0.533981   \n",
       "50%              0.312867     0.000000     0.607843     0.660194   \n",
       "75%              0.424379     0.007500     0.764706     0.796117   \n",
       "max              1.000000     1.000000     1.000000     1.000000   \n",
       "\n",
       "       Fastest 2 minute wind speed  Fastest 5 second wind speed      Fog/Ice  \\\n",
       "count                  2910.000000                  2910.000000  2910.000000   \n",
       "mean                      0.223647                     0.151456     0.344674   \n",
       "std                       0.087812                     0.094487     0.475343   \n",
       "min                       0.000000                     0.000000     0.000000   \n",
       "25%                       0.169880                     0.102703     0.000000   \n",
       "50%                       0.204819                     0.129189     0.000000   \n",
       "75%                       0.263855                     0.168108     1.000000   \n",
       "max                       1.000000                     1.000000     1.000000   \n",
       "\n",
       "       Heavy/Freezing Fog      Thunder   Smoke/Haze  Power Outage  \n",
       "count         2910.000000  2910.000000  2910.000000   2910.000000  \n",
       "mean             0.100344     0.053265     0.150172      0.054639  \n",
       "std              0.300509     0.224599     0.357301      0.227314  \n",
       "min              0.000000     0.000000     0.000000      0.000000  \n",
       "25%              0.000000     0.000000     0.000000      0.000000  \n",
       "50%              0.000000     0.000000     0.000000      0.000000  \n",
       "75%              0.000000     0.000000     0.000000      0.000000  \n",
       "max              1.000000     1.000000     1.000000      1.000000  "
      ]
     },
     "execution_count": 151,
     "metadata": {},
     "output_type": "execute_result"
    }
   ],
   "source": [
    "#Normalize all the data\n",
    "from sklearn import preprocessing\n",
    "\n",
    "scaledData = preprocessing.MinMaxScaler().fit_transform(df.values);\n",
    "df = pd.DataFrame(scaledData, index = df.index, columns = df.columns);\n",
    "df.describe()"
   ]
  },
  {
   "cell_type": "code",
   "execution_count": 152,
   "metadata": {
    "collapsed": true
   },
   "outputs": [],
   "source": [
    "#Reduce the number of desired features\n",
    "df['Avg Wind Speed Squared'] = pd.Series(np.square(df['Average Wind Speed']), index=df.index)\n",
    "df['5 second wind speed squared'] = pd.Series(np.square(df['Fastest 5 second wind speed']));\n",
    "df['2 min wind speed squared'] = pd.Series(np.square(df['Fastest 2 minute wind speed']));\n",
    "df = df[['Power Outage', 'PRCP', 'Avg Wind Speed Squared','2 min wind speed squared','5 second wind speed squared','Fog/Ice', 'Heavy/Freezing Fog', 'Thunder', 'Smoke/Haze']];"
   ]
  },
  {
   "cell_type": "code",
   "execution_count": 153,
   "metadata": {},
   "outputs": [
    {
     "data": {
      "text/html": [
       "<div>\n",
       "<style>\n",
       "    .dataframe thead tr:only-child th {\n",
       "        text-align: right;\n",
       "    }\n",
       "\n",
       "    .dataframe thead th {\n",
       "        text-align: left;\n",
       "    }\n",
       "\n",
       "    .dataframe tbody tr th {\n",
       "        vertical-align: top;\n",
       "    }\n",
       "</style>\n",
       "<table border=\"1\" class=\"dataframe\">\n",
       "  <thead>\n",
       "    <tr style=\"text-align: right;\">\n",
       "      <th></th>\n",
       "      <th>PRCP</th>\n",
       "      <th>Avg Wind Speed Squared</th>\n",
       "      <th>2 min wind speed squared</th>\n",
       "      <th>5 second wind speed squared</th>\n",
       "      <th>Fog/Ice</th>\n",
       "      <th>Heavy/Freezing Fog</th>\n",
       "      <th>Thunder</th>\n",
       "      <th>Smoke/Haze</th>\n",
       "    </tr>\n",
       "  </thead>\n",
       "  <tbody>\n",
       "    <tr>\n",
       "      <th>count</th>\n",
       "      <td>1949.000000</td>\n",
       "      <td>1949.000000</td>\n",
       "      <td>1949.000000</td>\n",
       "      <td>1949.000000</td>\n",
       "      <td>1949.000000</td>\n",
       "      <td>1949.000000</td>\n",
       "      <td>1949.000000</td>\n",
       "      <td>1949.000000</td>\n",
       "    </tr>\n",
       "    <tr>\n",
       "      <th>mean</th>\n",
       "      <td>0.019682</td>\n",
       "      <td>0.132838</td>\n",
       "      <td>0.057614</td>\n",
       "      <td>0.032384</td>\n",
       "      <td>0.332991</td>\n",
       "      <td>0.100564</td>\n",
       "      <td>0.051308</td>\n",
       "      <td>0.149820</td>\n",
       "    </tr>\n",
       "    <tr>\n",
       "      <th>std</th>\n",
       "      <td>0.056690</td>\n",
       "      <td>0.124357</td>\n",
       "      <td>0.055852</td>\n",
       "      <td>0.076321</td>\n",
       "      <td>0.471404</td>\n",
       "      <td>0.300828</td>\n",
       "      <td>0.220683</td>\n",
       "      <td>0.356987</td>\n",
       "    </tr>\n",
       "    <tr>\n",
       "      <th>min</th>\n",
       "      <td>0.000000</td>\n",
       "      <td>0.000000</td>\n",
       "      <td>0.000000</td>\n",
       "      <td>0.000000</td>\n",
       "      <td>0.000000</td>\n",
       "      <td>0.000000</td>\n",
       "      <td>0.000000</td>\n",
       "      <td>0.000000</td>\n",
       "    </tr>\n",
       "    <tr>\n",
       "      <th>25%</th>\n",
       "      <td>0.000000</td>\n",
       "      <td>0.045024</td>\n",
       "      <td>0.028859</td>\n",
       "      <td>0.010548</td>\n",
       "      <td>0.000000</td>\n",
       "      <td>0.000000</td>\n",
       "      <td>0.000000</td>\n",
       "      <td>0.000000</td>\n",
       "    </tr>\n",
       "    <tr>\n",
       "      <th>50%</th>\n",
       "      <td>0.000000</td>\n",
       "      <td>0.097886</td>\n",
       "      <td>0.041951</td>\n",
       "      <td>0.016690</td>\n",
       "      <td>0.000000</td>\n",
       "      <td>0.000000</td>\n",
       "      <td>0.000000</td>\n",
       "      <td>0.000000</td>\n",
       "    </tr>\n",
       "    <tr>\n",
       "      <th>75%</th>\n",
       "      <td>0.007500</td>\n",
       "      <td>0.180098</td>\n",
       "      <td>0.069620</td>\n",
       "      <td>0.028260</td>\n",
       "      <td>1.000000</td>\n",
       "      <td>0.000000</td>\n",
       "      <td>0.000000</td>\n",
       "      <td>0.000000</td>\n",
       "    </tr>\n",
       "    <tr>\n",
       "      <th>max</th>\n",
       "      <td>1.000000</td>\n",
       "      <td>0.959781</td>\n",
       "      <td>0.905937</td>\n",
       "      <td>1.000000</td>\n",
       "      <td>1.000000</td>\n",
       "      <td>1.000000</td>\n",
       "      <td>1.000000</td>\n",
       "      <td>1.000000</td>\n",
       "    </tr>\n",
       "  </tbody>\n",
       "</table>\n",
       "</div>"
      ],
      "text/plain": [
       "              PRCP  Avg Wind Speed Squared  2 min wind speed squared  \\\n",
       "count  1949.000000             1949.000000               1949.000000   \n",
       "mean      0.019682                0.132838                  0.057614   \n",
       "std       0.056690                0.124357                  0.055852   \n",
       "min       0.000000                0.000000                  0.000000   \n",
       "25%       0.000000                0.045024                  0.028859   \n",
       "50%       0.000000                0.097886                  0.041951   \n",
       "75%       0.007500                0.180098                  0.069620   \n",
       "max       1.000000                0.959781                  0.905937   \n",
       "\n",
       "       5 second wind speed squared      Fog/Ice  Heavy/Freezing Fog  \\\n",
       "count                  1949.000000  1949.000000         1949.000000   \n",
       "mean                      0.032384     0.332991            0.100564   \n",
       "std                       0.076321     0.471404            0.300828   \n",
       "min                       0.000000     0.000000            0.000000   \n",
       "25%                       0.010548     0.000000            0.000000   \n",
       "50%                       0.016690     0.000000            0.000000   \n",
       "75%                       0.028260     1.000000            0.000000   \n",
       "max                       1.000000     1.000000            1.000000   \n",
       "\n",
       "           Thunder   Smoke/Haze  \n",
       "count  1949.000000  1949.000000  \n",
       "mean      0.051308     0.149820  \n",
       "std       0.220683     0.356987  \n",
       "min       0.000000     0.000000  \n",
       "25%       0.000000     0.000000  \n",
       "50%       0.000000     0.000000  \n",
       "75%       0.000000     0.000000  \n",
       "max       1.000000     1.000000  "
      ]
     },
     "execution_count": 153,
     "metadata": {},
     "output_type": "execute_result"
    }
   ],
   "source": [
    "#Split into training and testing data\n",
    "from sklearn.model_selection import train_test_split\n",
    "X_train, X_test, y_train, y_test = train_test_split(df.iloc[:,1:], df['Power Outage'], test_size = 0.33, random_state = 99);\n",
    "X_train.describe()"
   ]
  },
  {
   "cell_type": "code",
   "execution_count": 154,
   "metadata": {},
   "outputs": [],
   "source": [
    "#Undersample the number of zeroes\n",
    "# import pandas_ml as pdml\n",
    "# df_ML = pdml.ModelFrame(X_train, target = y_train)\n",
    "# print(\"Before sampling ratio\");\n",
    "# print(df_ML.target.value_counts());\n",
    "# #use ratio = 0.5 to change ratio\n",
    "# sampler = df_ML.imbalance.under_sampling.ClusterCentroids(ratio=0.5);\n",
    "# df_ML = df_ML.fit_sample(sampler);\n",
    "# print(\"Final counts after undersampling the zeroes\");\n",
    "# print(df_ML.target.value_counts());\n",
    "# X_train = df_ML.iloc[:,1:];\n",
    "# y_train = df_ML['Power Outage'];\n",
    "# df_ML.head()"
   ]
  },
  {
   "cell_type": "code",
   "execution_count": 155,
   "metadata": {},
   "outputs": [],
   "source": [
    "#Oversampling the number of ones\n",
    "# from imblearn.over_sampling import SMOTE\n",
    "# sampler = SMOTE(random_state=44, ratio=0.5);\n",
    "# X_train, y_train = sampler.fit_sample(X_train, y_train);"
   ]
  },
  {
   "cell_type": "code",
   "execution_count": 156,
   "metadata": {},
   "outputs": [
    {
     "name": "stdout",
     "output_type": "stream",
     "text": [
      "Done\n"
     ]
    }
   ],
   "source": [
    "#Train a random forest classifier\n",
    "from sklearn.ensemble import RandomForestClassifier\n",
    "rf = RandomForestClassifier(n_estimators=100, oob_score = True, random_state = 123);\n",
    "rf.fit(X_train, y_train);\n",
    "print(\"Done\");"
   ]
  },
  {
   "cell_type": "code",
   "execution_count": 157,
   "metadata": {},
   "outputs": [
    {
     "name": "stdout",
     "output_type": "stream",
     "text": [
      "Accuracy:  0.951092611863\n"
     ]
    }
   ],
   "source": [
    "#Predict results\n",
    "pred = rf.predict(X_test);\n",
    "\n",
    "from sklearn.metrics import accuracy_score\n",
    "accuracy = accuracy_score(y_test, pred);\n",
    "\n",
    "print(\"Accuracy: \", accuracy);"
   ]
  },
  {
   "cell_type": "code",
   "execution_count": 158,
   "metadata": {},
   "outputs": [
    {
     "data": {
      "image/png": "[encoded data removed]",
      "text/plain": [
       "<matplotlib.figure.Figure at 0x11d817be0>"
      ]
     },
     "metadata": {},
     "output_type": "display_data"
    }
   ],
   "source": [
    "from sklearn.metrics import confusion_matrix\n",
    "\n",
    "cm = pd.DataFrame(confusion_matrix(y_test, pred));\n",
    "\n",
    "sns.heatmap(cm, annot = True)\n",
    "plt.show()"
   ]
  },
  {
   "cell_type": "code",
   "execution_count": 159,
   "metadata": {},
   "outputs": [
    {
     "name": "stdout",
     "output_type": "stream",
     "text": [
      "f1 score:  0.487739872068\n",
      "0.952133194589\n"
     ]
    },
    {
     "name": "stderr",
     "output_type": "stream",
     "text": [
      "/anaconda3/lib/python3.6/site-packages/sklearn/metrics/classification.py:1135: UndefinedMetricWarning: F-score is ill-defined and being set to 0.0 in labels with no predicted samples.\n",
      "  'precision', 'predicted', average, warn_for)\n"
     ]
    }
   ],
   "source": [
    "#Penalized SVM\n",
    "from sklearn import svm\n",
    "clf = svm.SVC(kernel='rbf', C=5.0);\n",
    "clf.fit(X_train, y_train);\n",
    "pred = clf.predict(X_test);\n",
    "accuracy = accuracy_score(y_test, pred);\n",
    "print(\"f1 score: \", f1_score(y_test, pred, average='macro'));\n",
    "print(accuracy);"
   ]
  },
  {
   "cell_type": "code",
   "execution_count": 160,
   "metadata": {
    "collapsed": true
   },
   "outputs": [],
   "source": [
    "arr = list(y_train > 0);\n",
    "test = [];\n",
    "for i in arr:\n",
    "    if (i==False):\n",
    "        test.append(1);\n",
    "    else:\n",
    "        test.append(20);\n",
    "        "
   ]
  },
  {
   "cell_type": "code",
   "execution_count": 161,
   "metadata": {
    "scrolled": true
   },
   "outputs": [
    {
     "data": {
      "image/png": "[encoded data removed]",
      "text/plain": [
       "<matplotlib.figure.Figure at 0x11d7ad438>"
      ]
     },
     "metadata": {},
     "output_type": "display_data"
    }
   ],
   "source": [
    "from sklearn.metrics import confusion_matrix\n",
    "\n",
    "cm = pd.DataFrame(confusion_matrix(y_test, pred));\n",
    "\n",
    "sns.heatmap(cm, annot = True)\n",
    "plt.show()"
   ]
  },
  {
   "cell_type": "code",
   "execution_count": 162,
   "metadata": {},
   "outputs": [
    {
     "name": "stdout",
     "output_type": "stream",
     "text": [
      "f1 score:  0.514116023624\n",
      "0.761706555671\n"
     ]
    },
    {
     "data": {
      "image/png": "[encoded data removed]",
      "text/plain": [
       "<matplotlib.figure.Figure at 0x11dadabe0>"
      ]
     },
     "metadata": {},
     "output_type": "display_data"
    }
   ],
   "source": [
    "from sklearn.ensemble import GradientBoostingClassifier\n",
    "clf = GradientBoostingClassifier(n_estimators = 200, random_state = 123);\n",
    "clf.fit(X_train, y_train, sample_weight = test);\n",
    "pred = clf.predict(X_test);\n",
    "accuracy = accuracy_score(y_test, pred);\n",
    "print(\"f1 score: \", f1_score(y_test, pred, average='macro'))\n",
    "print(accuracy);\n",
    "\n",
    "from sklearn.metrics import confusion_matrix\n",
    "\n",
    "cm = pd.DataFrame(confusion_matrix(y_test, pred));\n",
    "\n",
    "sns.heatmap(cm, annot = True)\n",
    "plt.show()"
   ]
  },
  {
   "cell_type": "code",
   "execution_count": 163,
   "metadata": {},
   "outputs": [
    {
     "name": "stdout",
     "output_type": "stream",
     "text": [
      "f1 score:  0.462452576701\n",
      "Accuracy:  0.655567117586\n",
      "[ 0.34  0.26  0.14  0.23  0.01  0.01  0.01  0.  ]\n"
     ]
    },
    {
     "data": {
      "image/png": "[encoded data removed]",
      "text/plain": [
       "<matplotlib.figure.Figure at 0x11dadaf98>"
      ]
     },
     "metadata": {},
     "output_type": "display_data"
    }
   ],
   "source": [
    "from sklearn.ensemble import AdaBoostClassifier\n",
    "from sklearn.model_selection import cross_val_score\n",
    "clf = AdaBoostClassifier(n_estimators=100);\n",
    "\n",
    "clf.fit(X_train, y_train, sample_weight=test);\n",
    "scores = cross_val_score(clf, X_train, y_train);\n",
    "pred = clf.predict(X_test);\n",
    "\n",
    "\n",
    "accuracy = accuracy_score(y_test, pred);\n",
    "print(\"f1 score: \", f1_score(y_test, pred, average='macro'))\n",
    "print(\"Accuracy: \", accuracy);\n",
    "print(clf.feature_importances_)\n",
    "from sklearn.metrics import confusion_matrix\n",
    "\n",
    "cm = pd.DataFrame(confusion_matrix(y_test, pred));\n",
    "\n",
    "sns.heatmap(cm, annot=True);\n",
    "\n",
    "plt.show();"
   ]
  },
  {
   "cell_type": "code",
   "execution_count": 171,
   "metadata": {},
   "outputs": [
    {
     "name": "stdout",
     "output_type": "stream",
     "text": [
      "0.508683772868\n"
     ]
    },
    {
     "data": {
      "image/png": "[encoded data removed]",
      "text/plain": [
       "<matplotlib.figure.Figure at 0x11da267f0>"
      ]
     },
     "metadata": {},
     "output_type": "display_data"
    }
   ],
   "source": [
    "# Compute ROC curve and ROC area for each class\n",
    "from sklearn.metrics import roc_auc_score\n",
    "print(roc_auc_score(y_test, pred));\n",
    "from sklearn.metrics import roc_curve\n",
    "from sklearn.metrics import auc\n",
    "\n",
    "# Compute fpr, tpr, thresholds and roc auc\n",
    "fpr, tpr, thresholds = roc_curve(y_test, pred);\n",
    "roc_auc = auc(fpr, tpr);\n",
    "plt.plot(fpr, tpr);\n",
    "plt.show();\n"
   ]
  },
  {
   "cell_type": "code",
   "execution_count": 165,
   "metadata": {},
   "outputs": [
    {
     "name": "stdout",
     "output_type": "stream",
     "text": [
      "Accuracy for cross validation run: \n"
     ]
    },
    {
     "name": "stderr",
     "output_type": "stream",
     "text": [
      "/anaconda3/lib/python3.6/site-packages/sklearn/metrics/classification.py:1135: UndefinedMetricWarning: F-score is ill-defined and being set to 0.0 in labels with no predicted samples.\n",
      "  'precision', 'predicted', average, warn_for)\n"
     ]
    },
    {
     "name": "stdout",
     "output_type": "stream",
     "text": [
      "f1 score:  0.462452576701\n",
      "Accuracy: 0.50 (+/- 0.02) [Random Forest]\n"
     ]
    },
    {
     "name": "stderr",
     "output_type": "stream",
     "text": [
      "/anaconda3/lib/python3.6/site-packages/sklearn/metrics/classification.py:1135: UndefinedMetricWarning: F-score is ill-defined and being set to 0.0 in labels with no predicted samples.\n",
      "  'precision', 'predicted', average, warn_for)\n",
      "/anaconda3/lib/python3.6/site-packages/sklearn/metrics/classification.py:1135: UndefinedMetricWarning: F-score is ill-defined and being set to 0.0 in labels with no predicted samples.\n",
      "  'precision', 'predicted', average, warn_for)\n",
      "/anaconda3/lib/python3.6/site-packages/sklearn/metrics/classification.py:1135: UndefinedMetricWarning: F-score is ill-defined and being set to 0.0 in labels with no predicted samples.\n",
      "  'precision', 'predicted', average, warn_for)\n"
     ]
    },
    {
     "name": "stdout",
     "output_type": "stream",
     "text": [
      "f1 score:  0.462452576701\n",
      "Accuracy: 0.50 (+/- 0.03) [Gradient Boost]\n"
     ]
    },
    {
     "name": "stderr",
     "output_type": "stream",
     "text": [
      "/anaconda3/lib/python3.6/site-packages/sklearn/metrics/classification.py:1135: UndefinedMetricWarning: F-score is ill-defined and being set to 0.0 in labels with no predicted samples.\n",
      "  'precision', 'predicted', average, warn_for)\n",
      "/anaconda3/lib/python3.6/site-packages/sklearn/metrics/classification.py:1135: UndefinedMetricWarning: F-score is ill-defined and being set to 0.0 in labels with no predicted samples.\n",
      "  'precision', 'predicted', average, warn_for)\n",
      "/anaconda3/lib/python3.6/site-packages/sklearn/metrics/classification.py:1135: UndefinedMetricWarning: F-score is ill-defined and being set to 0.0 in labels with no predicted samples.\n",
      "  'precision', 'predicted', average, warn_for)\n",
      "/anaconda3/lib/python3.6/site-packages/sklearn/metrics/classification.py:1135: UndefinedMetricWarning: F-score is ill-defined and being set to 0.0 in labels with no predicted samples.\n",
      "  'precision', 'predicted', average, warn_for)\n"
     ]
    },
    {
     "name": "stdout",
     "output_type": "stream",
     "text": [
      "f1 score:  0.462452576701\n",
      "Accuracy: 0.49 (+/- 0.02) [Ensemble]\n",
      "Accuracy for test data\n",
      "Accuracy:  0.655567117586\n"
     ]
    },
    {
     "data": {
      "image/png": "[encoded data removed]",
      "text/plain": [
       "<matplotlib.figure.Figure at 0x11d9c2cc0>"
      ]
     },
     "metadata": {},
     "output_type": "display_data"
    }
   ],
   "source": [
    "from sklearn.neighbors import KNeighborsClassifier\n",
    "from itertools import product\n",
    "from sklearn.ensemble import VotingClassifier\n",
    "\n",
    "clf4 = RandomForestClassifier(n_estimators=100, oob_score=True, random_state=12345)\n",
    "clf5 = GradientBoostingClassifier(n_estimators = 200, learning_rate=1, max_depth=1, random_state=123)\n",
    "\n",
    "eclf = VotingClassifier(estimators=[ ('rforest', clf4), ('gboost', clf5)], voting = 'hard');\n",
    "\n",
    "print(\"Accuracy for cross validation run: \");\n",
    "for clf, label in zip([clf4, clf5, eclf], ['Random Forest', 'Gradient Boost', 'Ensemble']):\n",
    "    scores = cross_val_score(clf, X_train, y_train, cv=5, scoring='f1_macro');\n",
    "    print(\"f1 score: \", f1_score(y_test, pred, average='macro'))\n",
    "    print(\"Accuracy: %0.2f (+/- %0.2f) [%s]\" %(scores.mean(), scores.std(), label));\n",
    "eclf = eclf.fit(X_train,y_train, sample_weight = test);\n",
    "from sklearn.metrics import confusion_matrix\n",
    "pred = eclf.predict(X_test);\n",
    "cm = pd.DataFrame(confusion_matrix(y_test, pred));\n",
    "print(\"Accuracy for test data\");\n",
    "sns.heatmap(cm, annot=True);\n",
    "print(\"Accuracy: \", accuracy);\n",
    "plt.show();"
   ]
  },
  {
   "cell_type": "code",
   "execution_count": 166,
   "metadata": {},
   "outputs": [
    {
     "name": "stdout",
     "output_type": "stream",
     "text": [
      "Done\n",
      "Accuracy:  0.94901144641\n",
      "f1 score:  0.50651324132\n"
     ]
    },
    {
     "data": {
      "image/png": "[encoded data removed]",
      "text/plain": [
       "<matplotlib.figure.Figure at 0x11d6734e0>"
      ]
     },
     "metadata": {},
     "output_type": "display_data"
    }
   ],
   "source": [
    "#Train a weighted random forest classifier\n",
    "from sklearn.ensemble import RandomForestClassifier\n",
    "rf = RandomForestClassifier(n_estimators=100, oob_score = True, random_state = 123);\n",
    "rf.fit(X_train, y_train, sample_weight = test);\n",
    "print(\"Done\");\n",
    "pred = rf.predict(X_test);\n",
    "accuracy = accuracy_score(y_test, pred);\n",
    "\n",
    "print(\"Accuracy: \", accuracy);\n",
    "print(\"f1 score: \", f1_score(y_test, pred, average='macro'));\n",
    "cm = pd.DataFrame(confusion_matrix(y_test, pred));\n",
    "\n",
    "sns.heatmap(cm, annot = True)\n",
    "plt.show()"
   ]
  },
  {
   "cell_type": "code",
   "execution_count": null,
   "metadata": {
    "collapsed": true
   },
   "outputs": [],
   "source": []
  },
  {
   "cell_type": "code",
   "execution_count": null,
   "metadata": {
    "collapsed": true
   },
   "outputs": [],
   "source": []
  },
  {
   "cell_type": "code",
   "execution_count": null,
   "metadata": {
    "collapsed": true
   },
   "outputs": [],
   "source": []
  }
 ],
 "metadata": {
  "kernelspec": {
   "display_name": "Python 3",
   "language": "python",
   "name": "python3"
  },
  "language_info": {
   "codemirror_mode": {
    "name": "ipython",
    "version": 3
   },
   "file_extension": ".py",
   "mimetype": "text/x-python",
   "name": "python",
   "nbconvert_exporter": "python",
   "pygments_lexer": "ipython3",
   "version": "3.6.2"
  }
 },
 "nbformat": 4,
 "nbformat_minor": 2
}
